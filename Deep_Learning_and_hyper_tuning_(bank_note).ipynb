{
  "nbformat": 4,
  "nbformat_minor": 0,
  "metadata": {
    "colab": {
      "name": "Deep Learning and hyper tuning (bank note).ipynb",
      "provenance": [],
      "collapsed_sections": []
    },
    "kernelspec": {
      "name": "python3",
      "display_name": "Python 3"
    }
  },
  "cells": [
    {
      "cell_type": "code",
      "metadata": {
        "id": "Vggmen44sxMJ"
      },
      "source": [
        "import numpy as np\r\n",
        "import pandas as pd\r\n",
        "import matplotlib.pyplot as plt\r\n",
        "import seaborn as sns"
      ],
      "execution_count": 35,
      "outputs": []
    },
    {
      "cell_type": "code",
      "metadata": {
        "colab": {
          "base_uri": "https://localhost:8080/"
        },
        "id": "PEifrEfzuhL7",
        "outputId": "d9ea3fc5-fc91-421c-c72e-36741c5c71c9"
      },
      "source": [
        "from google.colab import drive\r\n",
        "drive.mount('/content/gdrive')"
      ],
      "execution_count": 36,
      "outputs": [
        {
          "output_type": "stream",
          "text": [
            "Drive already mounted at /content/gdrive; to attempt to forcibly remount, call drive.mount(\"/content/gdrive\", force_remount=True).\n"
          ],
          "name": "stdout"
        }
      ]
    },
    {
      "cell_type": "code",
      "metadata": {
        "id": "n_Mx_H_Pvtb7"
      },
      "source": [
        "data=pd.read_csv('/content/gdrive/My Drive/Colab_Notebooks/Data/data_banknote_authentication.txt',header=None)"
      ],
      "execution_count": 37,
      "outputs": []
    },
    {
      "cell_type": "code",
      "metadata": {
        "colab": {
          "base_uri": "https://localhost:8080/",
          "height": 402
        },
        "id": "qHD6JSgBwM2H",
        "outputId": "685611db-f062-4d46-c62d-b5852895e419"
      },
      "source": [
        "data"
      ],
      "execution_count": 38,
      "outputs": [
        {
          "output_type": "execute_result",
          "data": {
            "text/html": [
              "<div>\n",
              "<style scoped>\n",
              "    .dataframe tbody tr th:only-of-type {\n",
              "        vertical-align: middle;\n",
              "    }\n",
              "\n",
              "    .dataframe tbody tr th {\n",
              "        vertical-align: top;\n",
              "    }\n",
              "\n",
              "    .dataframe thead th {\n",
              "        text-align: right;\n",
              "    }\n",
              "</style>\n",
              "<table border=\"1\" class=\"dataframe\">\n",
              "  <thead>\n",
              "    <tr style=\"text-align: right;\">\n",
              "      <th></th>\n",
              "      <th>0</th>\n",
              "      <th>1</th>\n",
              "      <th>2</th>\n",
              "      <th>3</th>\n",
              "      <th>4</th>\n",
              "    </tr>\n",
              "  </thead>\n",
              "  <tbody>\n",
              "    <tr>\n",
              "      <th>0</th>\n",
              "      <td>3.62160</td>\n",
              "      <td>8.66610</td>\n",
              "      <td>-2.8073</td>\n",
              "      <td>-0.44699</td>\n",
              "      <td>0</td>\n",
              "    </tr>\n",
              "    <tr>\n",
              "      <th>1</th>\n",
              "      <td>4.54590</td>\n",
              "      <td>8.16740</td>\n",
              "      <td>-2.4586</td>\n",
              "      <td>-1.46210</td>\n",
              "      <td>0</td>\n",
              "    </tr>\n",
              "    <tr>\n",
              "      <th>2</th>\n",
              "      <td>3.86600</td>\n",
              "      <td>-2.63830</td>\n",
              "      <td>1.9242</td>\n",
              "      <td>0.10645</td>\n",
              "      <td>0</td>\n",
              "    </tr>\n",
              "    <tr>\n",
              "      <th>3</th>\n",
              "      <td>3.45660</td>\n",
              "      <td>9.52280</td>\n",
              "      <td>-4.0112</td>\n",
              "      <td>-3.59440</td>\n",
              "      <td>0</td>\n",
              "    </tr>\n",
              "    <tr>\n",
              "      <th>4</th>\n",
              "      <td>0.32924</td>\n",
              "      <td>-4.45520</td>\n",
              "      <td>4.5718</td>\n",
              "      <td>-0.98880</td>\n",
              "      <td>0</td>\n",
              "    </tr>\n",
              "    <tr>\n",
              "      <th>...</th>\n",
              "      <td>...</td>\n",
              "      <td>...</td>\n",
              "      <td>...</td>\n",
              "      <td>...</td>\n",
              "      <td>...</td>\n",
              "    </tr>\n",
              "    <tr>\n",
              "      <th>1367</th>\n",
              "      <td>0.40614</td>\n",
              "      <td>1.34920</td>\n",
              "      <td>-1.4501</td>\n",
              "      <td>-0.55949</td>\n",
              "      <td>1</td>\n",
              "    </tr>\n",
              "    <tr>\n",
              "      <th>1368</th>\n",
              "      <td>-1.38870</td>\n",
              "      <td>-4.87730</td>\n",
              "      <td>6.4774</td>\n",
              "      <td>0.34179</td>\n",
              "      <td>1</td>\n",
              "    </tr>\n",
              "    <tr>\n",
              "      <th>1369</th>\n",
              "      <td>-3.75030</td>\n",
              "      <td>-13.45860</td>\n",
              "      <td>17.5932</td>\n",
              "      <td>-2.77710</td>\n",
              "      <td>1</td>\n",
              "    </tr>\n",
              "    <tr>\n",
              "      <th>1370</th>\n",
              "      <td>-3.56370</td>\n",
              "      <td>-8.38270</td>\n",
              "      <td>12.3930</td>\n",
              "      <td>-1.28230</td>\n",
              "      <td>1</td>\n",
              "    </tr>\n",
              "    <tr>\n",
              "      <th>1371</th>\n",
              "      <td>-2.54190</td>\n",
              "      <td>-0.65804</td>\n",
              "      <td>2.6842</td>\n",
              "      <td>1.19520</td>\n",
              "      <td>1</td>\n",
              "    </tr>\n",
              "  </tbody>\n",
              "</table>\n",
              "<p>1372 rows × 5 columns</p>\n",
              "</div>"
            ],
            "text/plain": [
              "            0         1        2        3  4\n",
              "0     3.62160   8.66610  -2.8073 -0.44699  0\n",
              "1     4.54590   8.16740  -2.4586 -1.46210  0\n",
              "2     3.86600  -2.63830   1.9242  0.10645  0\n",
              "3     3.45660   9.52280  -4.0112 -3.59440  0\n",
              "4     0.32924  -4.45520   4.5718 -0.98880  0\n",
              "...       ...       ...      ...      ... ..\n",
              "1367  0.40614   1.34920  -1.4501 -0.55949  1\n",
              "1368 -1.38870  -4.87730   6.4774  0.34179  1\n",
              "1369 -3.75030 -13.45860  17.5932 -2.77710  1\n",
              "1370 -3.56370  -8.38270  12.3930 -1.28230  1\n",
              "1371 -2.54190  -0.65804   2.6842  1.19520  1\n",
              "\n",
              "[1372 rows x 5 columns]"
            ]
          },
          "metadata": {
            "tags": []
          },
          "execution_count": 38
        }
      ]
    },
    {
      "cell_type": "code",
      "metadata": {
        "id": "FN3htf36wNvQ"
      },
      "source": [
        "y=data.pop(4)"
      ],
      "execution_count": 39,
      "outputs": []
    },
    {
      "cell_type": "code",
      "metadata": {
        "colab": {
          "base_uri": "https://localhost:8080/"
        },
        "id": "q2WMQxsewZyn",
        "outputId": "e0c5f0d9-177d-4291-a8a9-edd1fea18d43"
      },
      "source": [
        "y.value_counts()"
      ],
      "execution_count": 40,
      "outputs": [
        {
          "output_type": "execute_result",
          "data": {
            "text/plain": [
              "0    762\n",
              "1    610\n",
              "Name: 4, dtype: int64"
            ]
          },
          "metadata": {
            "tags": []
          },
          "execution_count": 40
        }
      ]
    },
    {
      "cell_type": "code",
      "metadata": {
        "colab": {
          "base_uri": "https://localhost:8080/",
          "height": 284
        },
        "id": "4ENRl0ccwf-2",
        "outputId": "1bfc8924-d016-4080-866d-c463f5dbac5b"
      },
      "source": [
        "data.describe()"
      ],
      "execution_count": 41,
      "outputs": [
        {
          "output_type": "execute_result",
          "data": {
            "text/html": [
              "<div>\n",
              "<style scoped>\n",
              "    .dataframe tbody tr th:only-of-type {\n",
              "        vertical-align: middle;\n",
              "    }\n",
              "\n",
              "    .dataframe tbody tr th {\n",
              "        vertical-align: top;\n",
              "    }\n",
              "\n",
              "    .dataframe thead th {\n",
              "        text-align: right;\n",
              "    }\n",
              "</style>\n",
              "<table border=\"1\" class=\"dataframe\">\n",
              "  <thead>\n",
              "    <tr style=\"text-align: right;\">\n",
              "      <th></th>\n",
              "      <th>0</th>\n",
              "      <th>1</th>\n",
              "      <th>2</th>\n",
              "      <th>3</th>\n",
              "    </tr>\n",
              "  </thead>\n",
              "  <tbody>\n",
              "    <tr>\n",
              "      <th>count</th>\n",
              "      <td>1372.000000</td>\n",
              "      <td>1372.000000</td>\n",
              "      <td>1372.000000</td>\n",
              "      <td>1372.000000</td>\n",
              "    </tr>\n",
              "    <tr>\n",
              "      <th>mean</th>\n",
              "      <td>0.433735</td>\n",
              "      <td>1.922353</td>\n",
              "      <td>1.397627</td>\n",
              "      <td>-1.191657</td>\n",
              "    </tr>\n",
              "    <tr>\n",
              "      <th>std</th>\n",
              "      <td>2.842763</td>\n",
              "      <td>5.869047</td>\n",
              "      <td>4.310030</td>\n",
              "      <td>2.101013</td>\n",
              "    </tr>\n",
              "    <tr>\n",
              "      <th>min</th>\n",
              "      <td>-7.042100</td>\n",
              "      <td>-13.773100</td>\n",
              "      <td>-5.286100</td>\n",
              "      <td>-8.548200</td>\n",
              "    </tr>\n",
              "    <tr>\n",
              "      <th>25%</th>\n",
              "      <td>-1.773000</td>\n",
              "      <td>-1.708200</td>\n",
              "      <td>-1.574975</td>\n",
              "      <td>-2.413450</td>\n",
              "    </tr>\n",
              "    <tr>\n",
              "      <th>50%</th>\n",
              "      <td>0.496180</td>\n",
              "      <td>2.319650</td>\n",
              "      <td>0.616630</td>\n",
              "      <td>-0.586650</td>\n",
              "    </tr>\n",
              "    <tr>\n",
              "      <th>75%</th>\n",
              "      <td>2.821475</td>\n",
              "      <td>6.814625</td>\n",
              "      <td>3.179250</td>\n",
              "      <td>0.394810</td>\n",
              "    </tr>\n",
              "    <tr>\n",
              "      <th>max</th>\n",
              "      <td>6.824800</td>\n",
              "      <td>12.951600</td>\n",
              "      <td>17.927400</td>\n",
              "      <td>2.449500</td>\n",
              "    </tr>\n",
              "  </tbody>\n",
              "</table>\n",
              "</div>"
            ],
            "text/plain": [
              "                 0            1            2            3\n",
              "count  1372.000000  1372.000000  1372.000000  1372.000000\n",
              "mean      0.433735     1.922353     1.397627    -1.191657\n",
              "std       2.842763     5.869047     4.310030     2.101013\n",
              "min      -7.042100   -13.773100    -5.286100    -8.548200\n",
              "25%      -1.773000    -1.708200    -1.574975    -2.413450\n",
              "50%       0.496180     2.319650     0.616630    -0.586650\n",
              "75%       2.821475     6.814625     3.179250     0.394810\n",
              "max       6.824800    12.951600    17.927400     2.449500"
            ]
          },
          "metadata": {
            "tags": []
          },
          "execution_count": 41
        }
      ]
    },
    {
      "cell_type": "code",
      "metadata": {
        "id": "8sJ0T7XBwjS4"
      },
      "source": [
        "from sklearn.preprocessing import StandardScaler\r\n",
        "scl=StandardScaler()\r\n",
        "X=pd.DataFrame(scl.fit_transform(data))"
      ],
      "execution_count": 42,
      "outputs": []
    },
    {
      "cell_type": "code",
      "metadata": {
        "colab": {
          "base_uri": "https://localhost:8080/",
          "height": 284
        },
        "id": "h0ePS5nqwzZO",
        "outputId": "70c5d386-89a4-4cbb-ce92-c8e615f1040a"
      },
      "source": [
        "X.describe()"
      ],
      "execution_count": 43,
      "outputs": [
        {
          "output_type": "execute_result",
          "data": {
            "text/html": [
              "<div>\n",
              "<style scoped>\n",
              "    .dataframe tbody tr th:only-of-type {\n",
              "        vertical-align: middle;\n",
              "    }\n",
              "\n",
              "    .dataframe tbody tr th {\n",
              "        vertical-align: top;\n",
              "    }\n",
              "\n",
              "    .dataframe thead th {\n",
              "        text-align: right;\n",
              "    }\n",
              "</style>\n",
              "<table border=\"1\" class=\"dataframe\">\n",
              "  <thead>\n",
              "    <tr style=\"text-align: right;\">\n",
              "      <th></th>\n",
              "      <th>0</th>\n",
              "      <th>1</th>\n",
              "      <th>2</th>\n",
              "      <th>3</th>\n",
              "    </tr>\n",
              "  </thead>\n",
              "  <tbody>\n",
              "    <tr>\n",
              "      <th>count</th>\n",
              "      <td>1.372000e+03</td>\n",
              "      <td>1.372000e+03</td>\n",
              "      <td>1.372000e+03</td>\n",
              "      <td>1.372000e+03</td>\n",
              "    </tr>\n",
              "    <tr>\n",
              "      <th>mean</th>\n",
              "      <td>4.633482e-16</td>\n",
              "      <td>-5.385229e-17</td>\n",
              "      <td>8.577525e-18</td>\n",
              "      <td>-1.359457e-17</td>\n",
              "    </tr>\n",
              "    <tr>\n",
              "      <th>std</th>\n",
              "      <td>1.000365e+00</td>\n",
              "      <td>1.000365e+00</td>\n",
              "      <td>1.000365e+00</td>\n",
              "      <td>1.000365e+00</td>\n",
              "    </tr>\n",
              "    <tr>\n",
              "      <th>min</th>\n",
              "      <td>-2.630737e+00</td>\n",
              "      <td>-2.675252e+00</td>\n",
              "      <td>-1.551303e+00</td>\n",
              "      <td>-3.502703e+00</td>\n",
              "    </tr>\n",
              "    <tr>\n",
              "      <th>25%</th>\n",
              "      <td>-7.765474e-01</td>\n",
              "      <td>-6.188189e-01</td>\n",
              "      <td>-6.899455e-01</td>\n",
              "      <td>-5.817379e-01</td>\n",
              "    </tr>\n",
              "    <tr>\n",
              "      <th>50%</th>\n",
              "      <td>2.197423e-02</td>\n",
              "      <td>6.771828e-02</td>\n",
              "      <td>-1.812706e-01</td>\n",
              "      <td>2.880644e-01</td>\n",
              "    </tr>\n",
              "    <tr>\n",
              "      <th>75%</th>\n",
              "      <td>8.402427e-01</td>\n",
              "      <td>8.338757e-01</td>\n",
              "      <td>4.135174e-01</td>\n",
              "      <td>7.553713e-01</td>\n",
              "    </tr>\n",
              "    <tr>\n",
              "      <th>max</th>\n",
              "      <td>2.249008e+00</td>\n",
              "      <td>1.879908e+00</td>\n",
              "      <td>3.836586e+00</td>\n",
              "      <td>1.733680e+00</td>\n",
              "    </tr>\n",
              "  </tbody>\n",
              "</table>\n",
              "</div>"
            ],
            "text/plain": [
              "                  0             1             2             3\n",
              "count  1.372000e+03  1.372000e+03  1.372000e+03  1.372000e+03\n",
              "mean   4.633482e-16 -5.385229e-17  8.577525e-18 -1.359457e-17\n",
              "std    1.000365e+00  1.000365e+00  1.000365e+00  1.000365e+00\n",
              "min   -2.630737e+00 -2.675252e+00 -1.551303e+00 -3.502703e+00\n",
              "25%   -7.765474e-01 -6.188189e-01 -6.899455e-01 -5.817379e-01\n",
              "50%    2.197423e-02  6.771828e-02 -1.812706e-01  2.880644e-01\n",
              "75%    8.402427e-01  8.338757e-01  4.135174e-01  7.553713e-01\n",
              "max    2.249008e+00  1.879908e+00  3.836586e+00  1.733680e+00"
            ]
          },
          "metadata": {
            "tags": []
          },
          "execution_count": 43
        }
      ]
    },
    {
      "cell_type": "code",
      "metadata": {
        "id": "urw1EEBWxBlI"
      },
      "source": [
        "from sklearn.model_selection import train_test_split\r\n",
        "X_train, X_test, y_train, y_test = train_test_split(X, y, test_size=0.33, random_state=42)"
      ],
      "execution_count": 44,
      "outputs": []
    },
    {
      "cell_type": "code",
      "metadata": {
        "colab": {
          "base_uri": "https://localhost:8080/"
        },
        "id": "1HbS45ZCxvnf",
        "outputId": "b88afedd-06fa-42b6-bd5e-d7ed65f7224e"
      },
      "source": [
        "X_train.shape,X_test.shape"
      ],
      "execution_count": 45,
      "outputs": [
        {
          "output_type": "execute_result",
          "data": {
            "text/plain": [
              "((919, 4), (453, 4))"
            ]
          },
          "metadata": {
            "tags": []
          },
          "execution_count": 45
        }
      ]
    },
    {
      "cell_type": "code",
      "metadata": {
        "colab": {
          "base_uri": "https://localhost:8080/"
        },
        "id": "AWHbiMHByZsf",
        "outputId": "b03636f2-990c-4d6d-e46d-fe12e180a64a"
      },
      "source": [
        "y_train.shape,y_test.shape"
      ],
      "execution_count": 46,
      "outputs": [
        {
          "output_type": "execute_result",
          "data": {
            "text/plain": [
              "((919,), (453,))"
            ]
          },
          "metadata": {
            "tags": []
          },
          "execution_count": 46
        }
      ]
    },
    {
      "cell_type": "markdown",
      "metadata": {
        "id": "AkDYQzMEygIg"
      },
      "source": [
        "# Deep learning\r\n",
        "\r\n",
        "\r\n",
        "\r\n",
        "*   shallow neural Network\r\n",
        "*   deep neural Network\r\n",
        "\r\n",
        "\r\n"
      ]
    },
    {
      "cell_type": "code",
      "metadata": {
        "id": "h_nzip-Dy--e"
      },
      "source": [
        "import tensorflow as tf\r\n",
        "from tensorflow import  keras\r\n",
        "from keras.models import Sequential\r\n",
        "from keras.layers import Dense,Dropout"
      ],
      "execution_count": 47,
      "outputs": []
    },
    {
      "cell_type": "code",
      "metadata": {
        "colab": {
          "base_uri": "https://localhost:8080/"
        },
        "id": "qzcmXjHl4Mxb",
        "outputId": "a6106bbc-430b-4394-967c-d20a3d13f288"
      },
      "source": [
        "X_train.shape"
      ],
      "execution_count": 48,
      "outputs": [
        {
          "output_type": "execute_result",
          "data": {
            "text/plain": [
              "(919, 4)"
            ]
          },
          "metadata": {
            "tags": []
          },
          "execution_count": 48
        }
      ]
    },
    {
      "cell_type": "code",
      "metadata": {
        "id": "G5eSHthAzgYo"
      },
      "source": [
        "model=Sequential()\r\n",
        "model.add(Dense(2,input_dim=4,activation='relu'))\r\n",
        "model.add(Dropout(0.1))\r\n",
        "model.add(Dense(30,activation='relu'))\r\n",
        "model.add(Dropout(0.1))\r\n",
        "model.add(Dense(1,activation='sigmoid'))\r\n",
        "\r\n",
        "model.compile(optimizer='adam',loss='BinaryCrossentropy',metrics=['accuracy'])"
      ],
      "execution_count": 49,
      "outputs": []
    },
    {
      "cell_type": "code",
      "metadata": {
        "colab": {
          "base_uri": "https://localhost:8080/"
        },
        "id": "kEPSC2yB31sN",
        "outputId": "a9ede87f-eb6b-454e-9430-40a5f61afab5"
      },
      "source": [
        "model.summary()"
      ],
      "execution_count": 50,
      "outputs": [
        {
          "output_type": "stream",
          "text": [
            "Model: \"sequential_1\"\n",
            "_________________________________________________________________\n",
            "Layer (type)                 Output Shape              Param #   \n",
            "=================================================================\n",
            "dense_5 (Dense)              (None, 2)                 10        \n",
            "_________________________________________________________________\n",
            "dropout (Dropout)            (None, 2)                 0         \n",
            "_________________________________________________________________\n",
            "dense_6 (Dense)              (None, 30)                90        \n",
            "_________________________________________________________________\n",
            "dropout_1 (Dropout)          (None, 30)                0         \n",
            "_________________________________________________________________\n",
            "dense_7 (Dense)              (None, 1)                 31        \n",
            "=================================================================\n",
            "Total params: 131\n",
            "Trainable params: 131\n",
            "Non-trainable params: 0\n",
            "_________________________________________________________________\n"
          ],
          "name": "stdout"
        }
      ]
    },
    {
      "cell_type": "code",
      "metadata": {
        "colab": {
          "base_uri": "https://localhost:8080/"
        },
        "id": "B-dmHp1S2sxD",
        "outputId": "4c30e5aa-ed50-476e-acdc-acebb7826f3d"
      },
      "source": [
        "!pip install visualkeras\r\n"
      ],
      "execution_count": 51,
      "outputs": [
        {
          "output_type": "stream",
          "text": [
            "Requirement already satisfied: visualkeras in /usr/local/lib/python3.6/dist-packages (0.0.1)\n",
            "Requirement already satisfied: pillow>=6.2.0 in /usr/local/lib/python3.6/dist-packages (from visualkeras) (7.0.0)\n"
          ],
          "name": "stdout"
        }
      ]
    },
    {
      "cell_type": "code",
      "metadata": {
        "id": "dSx1lWUIz403"
      },
      "source": [
        "import visualkeras"
      ],
      "execution_count": 52,
      "outputs": []
    },
    {
      "cell_type": "code",
      "metadata": {
        "colab": {
          "base_uri": "https://localhost:8080/",
          "height": 44
        },
        "id": "rBKUA9r02oCQ",
        "outputId": "941e6221-5ae8-4b8c-fdbf-b1ef2a8e7ec6"
      },
      "source": [
        "visualkeras.layered_view(model)"
      ],
      "execution_count": 53,
      "outputs": [
        {
          "output_type": "execute_result",
          "data": {
            "image/png": "[encoded data removed]",
            "text/plain": [
              "<PIL.Image.Image image mode=RGBA size=167x27 at 0x7F684FA31908>"
            ]
          },
          "metadata": {
            "tags": []
          },
          "execution_count": 53
        }
      ]
    },
    {
      "cell_type": "code",
      "metadata": {
        "colab": {
          "base_uri": "https://localhost:8080/"
        },
        "id": "Hvb4epSI20We",
        "outputId": "351d43a5-4ae5-4f9b-f615-a63a7ce739d2"
      },
      "source": [
        "model.fit(X_train,y_train,validation_data=(X_test,y_test),epochs=50,verbose=1,)"
      ],
      "execution_count": 54,
      "outputs": [
        {
          "output_type": "stream",
          "text": [
            "Epoch 1/50\n",
            "29/29 [==============================] - 1s 8ms/step - loss: 0.6949 - accuracy: 0.5564 - val_loss: 0.6851 - val_accuracy: 0.6799\n",
            "Epoch 2/50\n",
            "29/29 [==============================] - 0s 3ms/step - loss: 0.6883 - accuracy: 0.6015 - val_loss: 0.6770 - val_accuracy: 0.7020\n",
            "Epoch 3/50\n",
            "29/29 [==============================] - 0s 3ms/step - loss: 0.6780 - accuracy: 0.6652 - val_loss: 0.6658 - val_accuracy: 0.7130\n",
            "Epoch 4/50\n",
            "29/29 [==============================] - 0s 3ms/step - loss: 0.6705 - accuracy: 0.6476 - val_loss: 0.6501 - val_accuracy: 0.7351\n",
            "Epoch 5/50\n",
            "29/29 [==============================] - 0s 3ms/step - loss: 0.6501 - accuracy: 0.7019 - val_loss: 0.6241 - val_accuracy: 0.7550\n",
            "Epoch 6/50\n",
            "29/29 [==============================] - 0s 3ms/step - loss: 0.6284 - accuracy: 0.7229 - val_loss: 0.5904 - val_accuracy: 0.7881\n",
            "Epoch 7/50\n",
            "29/29 [==============================] - 0s 4ms/step - loss: 0.5876 - accuracy: 0.7688 - val_loss: 0.5518 - val_accuracy: 0.8057\n",
            "Epoch 8/50\n",
            "29/29 [==============================] - 0s 3ms/step - loss: 0.5491 - accuracy: 0.8042 - val_loss: 0.5037 - val_accuracy: 0.8300\n",
            "Epoch 9/50\n",
            "29/29 [==============================] - 0s 3ms/step - loss: 0.5252 - accuracy: 0.7988 - val_loss: 0.4462 - val_accuracy: 0.8874\n",
            "Epoch 10/50\n",
            "29/29 [==============================] - 0s 3ms/step - loss: 0.4695 - accuracy: 0.8553 - val_loss: 0.3840 - val_accuracy: 0.9404\n",
            "Epoch 11/50\n",
            "29/29 [==============================] - 0s 3ms/step - loss: 0.3887 - accuracy: 0.8902 - val_loss: 0.3286 - val_accuracy: 0.9514\n",
            "Epoch 12/50\n",
            "29/29 [==============================] - 0s 3ms/step - loss: 0.3692 - accuracy: 0.8798 - val_loss: 0.2831 - val_accuracy: 0.9492\n",
            "Epoch 13/50\n",
            "29/29 [==============================] - 0s 3ms/step - loss: 0.3119 - accuracy: 0.9024 - val_loss: 0.2418 - val_accuracy: 0.9581\n",
            "Epoch 14/50\n",
            "29/29 [==============================] - 0s 3ms/step - loss: 0.2792 - accuracy: 0.9157 - val_loss: 0.2076 - val_accuracy: 0.9581\n",
            "Epoch 15/50\n",
            "29/29 [==============================] - 0s 3ms/step - loss: 0.2681 - accuracy: 0.9056 - val_loss: 0.1788 - val_accuracy: 0.9647\n",
            "Epoch 16/50\n",
            "29/29 [==============================] - 0s 3ms/step - loss: 0.2745 - accuracy: 0.8912 - val_loss: 0.1566 - val_accuracy: 0.9669\n",
            "Epoch 17/50\n",
            "29/29 [==============================] - 0s 3ms/step - loss: 0.2344 - accuracy: 0.9096 - val_loss: 0.1347 - val_accuracy: 0.9757\n",
            "Epoch 18/50\n",
            "29/29 [==============================] - 0s 3ms/step - loss: 0.1645 - accuracy: 0.9459 - val_loss: 0.1155 - val_accuracy: 0.9735\n",
            "Epoch 19/50\n",
            "29/29 [==============================] - 0s 3ms/step - loss: 0.1989 - accuracy: 0.9143 - val_loss: 0.1055 - val_accuracy: 0.9801\n",
            "Epoch 20/50\n",
            "29/29 [==============================] - 0s 3ms/step - loss: 0.1861 - accuracy: 0.9098 - val_loss: 0.0954 - val_accuracy: 0.9801\n",
            "Epoch 21/50\n",
            "29/29 [==============================] - 0s 3ms/step - loss: 0.1607 - accuracy: 0.9228 - val_loss: 0.0860 - val_accuracy: 0.9779\n",
            "Epoch 22/50\n",
            "29/29 [==============================] - 0s 3ms/step - loss: 0.1787 - accuracy: 0.9200 - val_loss: 0.0825 - val_accuracy: 0.9845\n",
            "Epoch 23/50\n",
            "29/29 [==============================] - 0s 3ms/step - loss: 0.1877 - accuracy: 0.9090 - val_loss: 0.0777 - val_accuracy: 0.9845\n",
            "Epoch 24/50\n",
            "29/29 [==============================] - 0s 3ms/step - loss: 0.1172 - accuracy: 0.9474 - val_loss: 0.0718 - val_accuracy: 0.9868\n",
            "Epoch 25/50\n",
            "29/29 [==============================] - 0s 3ms/step - loss: 0.1752 - accuracy: 0.9209 - val_loss: 0.0681 - val_accuracy: 0.9868\n",
            "Epoch 26/50\n",
            "29/29 [==============================] - 0s 3ms/step - loss: 0.1341 - accuracy: 0.9256 - val_loss: 0.0634 - val_accuracy: 0.9868\n",
            "Epoch 27/50\n",
            "29/29 [==============================] - 0s 3ms/step - loss: 0.1535 - accuracy: 0.9132 - val_loss: 0.0614 - val_accuracy: 0.9868\n",
            "Epoch 28/50\n",
            "29/29 [==============================] - 0s 3ms/step - loss: 0.1279 - accuracy: 0.9223 - val_loss: 0.0592 - val_accuracy: 0.9868\n",
            "Epoch 29/50\n",
            "29/29 [==============================] - 0s 3ms/step - loss: 0.1263 - accuracy: 0.9386 - val_loss: 0.0574 - val_accuracy: 0.9868\n",
            "Epoch 30/50\n",
            "29/29 [==============================] - 0s 3ms/step - loss: 0.1370 - accuracy: 0.9189 - val_loss: 0.0563 - val_accuracy: 0.9868\n",
            "Epoch 31/50\n",
            "29/29 [==============================] - 0s 3ms/step - loss: 0.1357 - accuracy: 0.9122 - val_loss: 0.0540 - val_accuracy: 0.9868\n",
            "Epoch 32/50\n",
            "29/29 [==============================] - 0s 3ms/step - loss: 0.1216 - accuracy: 0.9237 - val_loss: 0.0528 - val_accuracy: 0.9868\n",
            "Epoch 33/50\n",
            "29/29 [==============================] - 0s 3ms/step - loss: 0.1548 - accuracy: 0.9152 - val_loss: 0.0522 - val_accuracy: 0.9868\n",
            "Epoch 34/50\n",
            "29/29 [==============================] - 0s 3ms/step - loss: 0.0947 - accuracy: 0.9586 - val_loss: 0.0497 - val_accuracy: 0.9868\n",
            "Epoch 35/50\n",
            "29/29 [==============================] - 0s 3ms/step - loss: 0.1263 - accuracy: 0.9322 - val_loss: 0.0492 - val_accuracy: 0.9868\n",
            "Epoch 36/50\n",
            "29/29 [==============================] - 0s 3ms/step - loss: 0.1215 - accuracy: 0.9226 - val_loss: 0.0472 - val_accuracy: 0.9868\n",
            "Epoch 37/50\n",
            "29/29 [==============================] - 0s 3ms/step - loss: 0.1308 - accuracy: 0.9125 - val_loss: 0.0453 - val_accuracy: 0.9868\n",
            "Epoch 38/50\n",
            "29/29 [==============================] - 0s 3ms/step - loss: 0.1061 - accuracy: 0.9390 - val_loss: 0.0446 - val_accuracy: 0.9868\n",
            "Epoch 39/50\n",
            "29/29 [==============================] - 0s 3ms/step - loss: 0.1301 - accuracy: 0.9319 - val_loss: 0.0438 - val_accuracy: 0.9868\n",
            "Epoch 40/50\n",
            "29/29 [==============================] - 0s 3ms/step - loss: 0.1095 - accuracy: 0.9375 - val_loss: 0.0437 - val_accuracy: 0.9868\n",
            "Epoch 41/50\n",
            "29/29 [==============================] - 0s 3ms/step - loss: 0.1141 - accuracy: 0.9427 - val_loss: 0.0431 - val_accuracy: 0.9868\n",
            "Epoch 42/50\n",
            "29/29 [==============================] - 0s 8ms/step - loss: 0.1136 - accuracy: 0.9327 - val_loss: 0.0417 - val_accuracy: 0.9868\n",
            "Epoch 43/50\n",
            "29/29 [==============================] - 0s 3ms/step - loss: 0.1161 - accuracy: 0.9417 - val_loss: 0.0434 - val_accuracy: 0.9890\n",
            "Epoch 44/50\n",
            "29/29 [==============================] - 0s 3ms/step - loss: 0.1139 - accuracy: 0.9416 - val_loss: 0.0433 - val_accuracy: 0.9890\n",
            "Epoch 45/50\n",
            "29/29 [==============================] - 0s 3ms/step - loss: 0.1153 - accuracy: 0.9419 - val_loss: 0.0424 - val_accuracy: 0.9890\n",
            "Epoch 46/50\n",
            "29/29 [==============================] - 0s 3ms/step - loss: 0.1209 - accuracy: 0.9233 - val_loss: 0.0412 - val_accuracy: 0.9890\n",
            "Epoch 47/50\n",
            "29/29 [==============================] - 0s 3ms/step - loss: 0.1177 - accuracy: 0.9306 - val_loss: 0.0394 - val_accuracy: 0.9868\n",
            "Epoch 48/50\n",
            "29/29 [==============================] - 0s 3ms/step - loss: 0.0996 - accuracy: 0.9441 - val_loss: 0.0391 - val_accuracy: 0.9890\n",
            "Epoch 49/50\n",
            "29/29 [==============================] - 0s 3ms/step - loss: 0.1214 - accuracy: 0.9250 - val_loss: 0.0379 - val_accuracy: 0.9890\n",
            "Epoch 50/50\n",
            "29/29 [==============================] - 0s 4ms/step - loss: 0.0968 - accuracy: 0.9450 - val_loss: 0.0375 - val_accuracy: 0.9890\n"
          ],
          "name": "stdout"
        },
        {
          "output_type": "execute_result",
          "data": {
            "text/plain": [
              "<tensorflow.python.keras.callbacks.History at 0x7f6814ad7780>"
            ]
          },
          "metadata": {
            "tags": []
          },
          "execution_count": 54
        }
      ]
    },
    {
      "cell_type": "markdown",
      "metadata": {
        "id": "roNwYe407AVM"
      },
      "source": [
        "# kerans tuner\r\n"
      ]
    },
    {
      "cell_type": "code",
      "metadata": {
        "id": "FBoHeJpi-OzO"
      },
      "source": [
        "pip install -q -U keras-tuner"
      ],
      "execution_count": 55,
      "outputs": []
    },
    {
      "cell_type": "code",
      "metadata": {
        "colab": {
          "base_uri": "https://localhost:8080/"
        },
        "id": "Vo2H53OFidMk",
        "outputId": "ed58d60d-6f86-494c-afe7-b71b48cc9d76"
      },
      "source": [
        "import kerastuner as kt\r\n",
        "import keras\r\n",
        "import tensorflow as tf\r\n",
        "from keras.losses import binary_crossentropy\r\n",
        "\r\n",
        "def model_builder(hp):\r\n",
        "  model = keras.Sequential()\r\n",
        "  # Tune the number of units in the first Dense layer\r\n",
        "  # Choose an optimal value between 32-512\r\n",
        "  hp_units = hp.Int('units', min_value=32, max_value=512, step=32)\r\n",
        "  model.add(keras.layers.Dense(units=hp_units, activation='relu',input_dim=4))\r\n",
        "  model.add(keras.layers.Dropout(0.2))\r\n",
        "  hp_units = hp.Int('units', min_value=64, max_value=512, step=64)\r\n",
        "  model.add(keras.layers.Dense(units=hp_units, activation='relu'))\r\n",
        "  model.add(keras.layers.Dropout(0.2))\r\n",
        "  hp_units = hp.Int('units', min_value=128, max_value=512, step=128)\r\n",
        "  model.add(keras.layers.Dense(units=hp_units, activation='relu'))\r\n",
        "  model.add(keras.layers.Dropout(0.2))\r\n",
        "  model.add(keras.layers.Dense(1,activation='sigmoid'))\r\n",
        "\r\n",
        "  # Tune the learning rate for the optimizer\r\n",
        "  # Choose an optimal value from 0.01, 0.001, or 0.0001\r\n",
        "  hp_learning_rate = hp.Choice('learning_rate', values=[1e-2, 1e-3, 1e-4])\r\n",
        "\r\n",
        "  model.compile(optimizer=keras.optimizers.Adam(learning_rate=hp_learning_rate),\r\n",
        "                loss='binary_crossentropy',\r\n",
        "                metrics=['accuracy'])\r\n",
        "\r\n",
        "  return model\r\n",
        "\r\n",
        "\r\n",
        "tuner = kt.Hyperband(model_builder,\r\n",
        "                     objective='val_accuracy',\r\n",
        "                     max_epochs=10,\r\n",
        "                     factor=3,\r\n",
        "                     directory='my_dir',\r\n",
        "                     project_name='intro_to_kt')\r\n",
        "\r\n",
        "stop_early = tf.keras.callbacks.EarlyStopping(monitor='val_loss', patience=5)\r\n",
        "\r\n",
        "tuner.search(X, y, epochs=50, validation_split=0.2, callbacks=[stop_early])\r\n",
        "\r\n",
        "# Get the optimal hyperparameters\r\n",
        "best_hps=tuner.get_best_hyperparameters(num_trials=1)[0]\r\n",
        "\r\n",
        "print(f\"\"\"\r\n",
        "The hyperparameter search is complete. The optimal number of units in the first densely-connected\r\n",
        "layer is {best_hps.get('units')} and the optimal learning rate for the optimizer\r\n",
        "is {best_hps.get('learning_rate')}.\r\n",
        "\"\"\")\r\n",
        "\r\n",
        "# Build the model with the optimal hyperparameters and train it on the data for 50 epochs\r\n",
        "model = tuner.hypermodel.build(best_hps)\r\n",
        "history = model.fit(X, y, epochs=100, validation_split=0.2)\r\n",
        "\r\n",
        "val_acc_per_epoch = history.history['val_accuracy']\r\n",
        "best_epoch = val_acc_per_epoch.index(max(val_acc_per_epoch)) + 1\r\n",
        "print('Best epoch: %d' % (best_epoch,))\r\n",
        "\r\n",
        "\r\n",
        "hypermodel = tuner.hypermodel.build(best_hps)\r\n",
        "\r\n",
        "# Retrain the model\r\n",
        "hypermodel.fit(X, y, epochs=best_epoch)\r\n",
        "\r\n",
        "eval_result = hypermodel.evaluate(X, y)\r\n",
        "print(\"[test loss, test accuracy]:\", eval_result)"
      ],
      "execution_count": 67,
      "outputs": [
        {
          "output_type": "stream",
          "text": [
            "INFO:tensorflow:Reloading Oracle from existing project my_dir/intro_to_kt/oracle.json\n",
            "INFO:tensorflow:Reloading Tuner from my_dir/intro_to_kt/tuner0.json\n",
            "INFO:tensorflow:Oracle triggered exit\n",
            "\n",
            "The hyperparameter search is complete. The optimal number of units in the first densely-connected\n",
            "layer is 32 and the optimal learning rate for the optimizer\n",
            "is 0.01.\n",
            "\n",
            "Epoch 1/100\n",
            "35/35 [==============================] - 1s 7ms/step - loss: 0.3691 - accuracy: 0.8476 - val_loss: 0.0083 - val_accuracy: 1.0000\n",
            "Epoch 2/100\n",
            "35/35 [==============================] - 0s 2ms/step - loss: 0.0624 - accuracy: 0.9768 - val_loss: 0.0504 - val_accuracy: 0.9782\n",
            "Epoch 3/100\n",
            "35/35 [==============================] - 0s 2ms/step - loss: 0.0283 - accuracy: 0.9931 - val_loss: 0.0035 - val_accuracy: 1.0000\n",
            "Epoch 4/100\n",
            "35/35 [==============================] - 0s 2ms/step - loss: 0.0140 - accuracy: 0.9949 - val_loss: 4.0927e-04 - val_accuracy: 1.0000\n",
            "Epoch 5/100\n",
            "35/35 [==============================] - 0s 2ms/step - loss: 0.0163 - accuracy: 0.9951 - val_loss: 2.2331e-04 - val_accuracy: 1.0000\n",
            "Epoch 6/100\n",
            "35/35 [==============================] - 0s 2ms/step - loss: 0.0053 - accuracy: 1.0000 - val_loss: 7.4512e-05 - val_accuracy: 1.0000\n",
            "Epoch 7/100\n",
            "35/35 [==============================] - 0s 2ms/step - loss: 0.0190 - accuracy: 0.9916 - val_loss: 3.0044e-04 - val_accuracy: 1.0000\n",
            "Epoch 8/100\n",
            "35/35 [==============================] - 0s 2ms/step - loss: 0.0094 - accuracy: 0.9973 - val_loss: 6.9827e-05 - val_accuracy: 1.0000\n",
            "Epoch 9/100\n",
            "35/35 [==============================] - 0s 2ms/step - loss: 0.0046 - accuracy: 0.9972 - val_loss: 2.4914e-05 - val_accuracy: 1.0000\n",
            "Epoch 10/100\n",
            "35/35 [==============================] - 0s 2ms/step - loss: 0.0040 - accuracy: 0.9967 - val_loss: 8.0601e-05 - val_accuracy: 1.0000\n",
            "Epoch 11/100\n",
            "35/35 [==============================] - 0s 3ms/step - loss: 0.0061 - accuracy: 0.9977 - val_loss: 7.4728e-06 - val_accuracy: 1.0000\n",
            "Epoch 12/100\n",
            "35/35 [==============================] - 0s 2ms/step - loss: 0.0027 - accuracy: 0.9980 - val_loss: 0.0093 - val_accuracy: 0.9927\n",
            "Epoch 13/100\n",
            "35/35 [==============================] - 0s 2ms/step - loss: 0.0340 - accuracy: 0.9918 - val_loss: 0.0192 - val_accuracy: 0.9927\n",
            "Epoch 14/100\n",
            "35/35 [==============================] - 0s 3ms/step - loss: 0.0181 - accuracy: 0.9884 - val_loss: 2.5355e-05 - val_accuracy: 1.0000\n",
            "Epoch 15/100\n",
            "35/35 [==============================] - 0s 2ms/step - loss: 0.0066 - accuracy: 0.9977 - val_loss: 2.8468e-05 - val_accuracy: 1.0000\n",
            "Epoch 16/100\n",
            "35/35 [==============================] - 0s 2ms/step - loss: 0.0019 - accuracy: 0.9994 - val_loss: 2.9062e-05 - val_accuracy: 1.0000\n",
            "Epoch 17/100\n",
            "35/35 [==============================] - 0s 3ms/step - loss: 0.0048 - accuracy: 0.9966 - val_loss: 5.4187e-05 - val_accuracy: 1.0000\n",
            "Epoch 18/100\n",
            "35/35 [==============================] - 0s 2ms/step - loss: 0.0027 - accuracy: 0.9992 - val_loss: 2.0032e-05 - val_accuracy: 1.0000\n",
            "Epoch 19/100\n",
            "35/35 [==============================] - 0s 2ms/step - loss: 0.0021 - accuracy: 0.9998 - val_loss: 1.7363e-05 - val_accuracy: 1.0000\n",
            "Epoch 20/100\n",
            "35/35 [==============================] - 0s 3ms/step - loss: 0.0013 - accuracy: 1.0000 - val_loss: 1.2342e-05 - val_accuracy: 1.0000\n",
            "Epoch 21/100\n",
            "35/35 [==============================] - 0s 3ms/step - loss: 0.0039 - accuracy: 0.9989 - val_loss: 3.6085e-06 - val_accuracy: 1.0000\n",
            "Epoch 22/100\n",
            "35/35 [==============================] - 0s 2ms/step - loss: 0.0042 - accuracy: 0.9981 - val_loss: 1.2274e-05 - val_accuracy: 1.0000\n",
            "Epoch 23/100\n",
            "35/35 [==============================] - 0s 2ms/step - loss: 0.0066 - accuracy: 0.9987 - val_loss: 0.0377 - val_accuracy: 0.9891\n",
            "Epoch 24/100\n",
            "35/35 [==============================] - 0s 2ms/step - loss: 0.0072 - accuracy: 0.9977 - val_loss: 4.2190e-05 - val_accuracy: 1.0000\n",
            "Epoch 25/100\n",
            "35/35 [==============================] - 0s 2ms/step - loss: 0.0034 - accuracy: 0.9991 - val_loss: 1.8809e-06 - val_accuracy: 1.0000\n",
            "Epoch 26/100\n",
            "35/35 [==============================] - 0s 2ms/step - loss: 0.0011 - accuracy: 0.9993 - val_loss: 5.1654e-06 - val_accuracy: 1.0000\n",
            "Epoch 27/100\n",
            "35/35 [==============================] - 0s 2ms/step - loss: 2.5645e-04 - accuracy: 1.0000 - val_loss: 7.9934e-07 - val_accuracy: 1.0000\n",
            "Epoch 28/100\n",
            "35/35 [==============================] - 0s 3ms/step - loss: 0.0073 - accuracy: 0.9981 - val_loss: 6.7210e-07 - val_accuracy: 1.0000\n",
            "Epoch 29/100\n",
            "35/35 [==============================] - 0s 2ms/step - loss: 0.0065 - accuracy: 0.9972 - val_loss: 1.1111e-05 - val_accuracy: 1.0000\n",
            "Epoch 30/100\n",
            "35/35 [==============================] - 0s 2ms/step - loss: 4.8874e-04 - accuracy: 1.0000 - val_loss: 6.1055e-06 - val_accuracy: 1.0000\n",
            "Epoch 31/100\n",
            "35/35 [==============================] - 0s 3ms/step - loss: 1.9808e-04 - accuracy: 1.0000 - val_loss: 3.8549e-06 - val_accuracy: 1.0000\n",
            "Epoch 32/100\n",
            "35/35 [==============================] - 0s 2ms/step - loss: 7.4454e-04 - accuracy: 0.9996 - val_loss: 4.2983e-06 - val_accuracy: 1.0000\n",
            "Epoch 33/100\n",
            "35/35 [==============================] - 0s 2ms/step - loss: 5.5272e-04 - accuracy: 1.0000 - val_loss: 5.4936e-06 - val_accuracy: 1.0000\n",
            "Epoch 34/100\n",
            "35/35 [==============================] - 0s 3ms/step - loss: 3.7946e-04 - accuracy: 1.0000 - val_loss: 1.3330e-07 - val_accuracy: 1.0000\n",
            "Epoch 35/100\n",
            "35/35 [==============================] - 0s 2ms/step - loss: 3.4297e-04 - accuracy: 0.9997 - val_loss: 1.1676e-05 - val_accuracy: 1.0000\n",
            "Epoch 36/100\n",
            "35/35 [==============================] - 0s 2ms/step - loss: 4.8270e-04 - accuracy: 1.0000 - val_loss: 6.1249e-06 - val_accuracy: 1.0000\n",
            "Epoch 37/100\n",
            "35/35 [==============================] - 0s 2ms/step - loss: 2.0027e-04 - accuracy: 1.0000 - val_loss: 8.4837e-06 - val_accuracy: 1.0000\n",
            "Epoch 38/100\n",
            "35/35 [==============================] - 0s 2ms/step - loss: 8.5430e-05 - accuracy: 1.0000 - val_loss: 7.4628e-06 - val_accuracy: 1.0000\n",
            "Epoch 39/100\n",
            "35/35 [==============================] - 0s 2ms/step - loss: 0.0182 - accuracy: 0.9962 - val_loss: 1.6002e-07 - val_accuracy: 1.0000\n",
            "Epoch 40/100\n",
            "35/35 [==============================] - 0s 2ms/step - loss: 3.0487e-04 - accuracy: 1.0000 - val_loss: 2.2611e-07 - val_accuracy: 1.0000\n",
            "Epoch 41/100\n",
            "35/35 [==============================] - 0s 2ms/step - loss: 0.0024 - accuracy: 0.9986 - val_loss: 0.0143 - val_accuracy: 0.9964\n",
            "Epoch 42/100\n",
            "35/35 [==============================] - 0s 2ms/step - loss: 5.6422e-04 - accuracy: 1.0000 - val_loss: 2.1318e-06 - val_accuracy: 1.0000\n",
            "Epoch 43/100\n",
            "35/35 [==============================] - 0s 2ms/step - loss: 0.0071 - accuracy: 0.9975 - val_loss: 0.0124 - val_accuracy: 0.9927\n",
            "Epoch 44/100\n",
            "35/35 [==============================] - 0s 2ms/step - loss: 0.0172 - accuracy: 0.9940 - val_loss: 4.6737e-05 - val_accuracy: 1.0000\n",
            "Epoch 45/100\n",
            "35/35 [==============================] - 0s 2ms/step - loss: 0.0070 - accuracy: 0.9960 - val_loss: 8.3180e-05 - val_accuracy: 1.0000\n",
            "Epoch 46/100\n",
            "35/35 [==============================] - 0s 2ms/step - loss: 0.0042 - accuracy: 1.0000 - val_loss: 3.5153e-07 - val_accuracy: 1.0000\n",
            "Epoch 47/100\n",
            "35/35 [==============================] - 0s 2ms/step - loss: 9.2454e-04 - accuracy: 1.0000 - val_loss: 1.8970e-06 - val_accuracy: 1.0000\n",
            "Epoch 48/100\n",
            "35/35 [==============================] - 0s 2ms/step - loss: 0.0020 - accuracy: 0.9992 - val_loss: 2.8293e-08 - val_accuracy: 1.0000\n",
            "Epoch 49/100\n",
            "35/35 [==============================] - 0s 2ms/step - loss: 0.0085 - accuracy: 0.9972 - val_loss: 1.3696e-05 - val_accuracy: 1.0000\n",
            "Epoch 50/100\n",
            "35/35 [==============================] - 0s 6ms/step - loss: 0.0043 - accuracy: 0.9987 - val_loss: 2.8962e-05 - val_accuracy: 1.0000\n",
            "Epoch 51/100\n",
            "35/35 [==============================] - 0s 2ms/step - loss: 0.0058 - accuracy: 0.9973 - val_loss: 3.8747e-05 - val_accuracy: 1.0000\n",
            "Epoch 52/100\n",
            "35/35 [==============================] - 0s 2ms/step - loss: 0.0060 - accuracy: 0.9972 - val_loss: 3.2438e-06 - val_accuracy: 1.0000\n",
            "Epoch 53/100\n",
            "35/35 [==============================] - 0s 2ms/step - loss: 0.0012 - accuracy: 1.0000 - val_loss: 1.2694e-06 - val_accuracy: 1.0000\n",
            "Epoch 54/100\n",
            "35/35 [==============================] - 0s 2ms/step - loss: 3.4770e-04 - accuracy: 1.0000 - val_loss: 9.2022e-07 - val_accuracy: 1.0000\n",
            "Epoch 55/100\n",
            "35/35 [==============================] - 0s 2ms/step - loss: 1.2483e-04 - accuracy: 1.0000 - val_loss: 7.1539e-07 - val_accuracy: 1.0000\n",
            "Epoch 56/100\n",
            "35/35 [==============================] - 0s 2ms/step - loss: 0.0035 - accuracy: 0.9989 - val_loss: 4.2921e-05 - val_accuracy: 1.0000\n",
            "Epoch 57/100\n",
            "35/35 [==============================] - 0s 2ms/step - loss: 6.6147e-04 - accuracy: 1.0000 - val_loss: 4.9230e-07 - val_accuracy: 1.0000\n",
            "Epoch 58/100\n",
            "35/35 [==============================] - 0s 2ms/step - loss: 4.9400e-04 - accuracy: 1.0000 - val_loss: 1.6065e-07 - val_accuracy: 1.0000\n",
            "Epoch 59/100\n",
            "35/35 [==============================] - 0s 2ms/step - loss: 5.2559e-04 - accuracy: 1.0000 - val_loss: 1.2321e-08 - val_accuracy: 1.0000\n",
            "Epoch 60/100\n",
            "35/35 [==============================] - 0s 2ms/step - loss: 0.0305 - accuracy: 0.9940 - val_loss: 2.2083e-05 - val_accuracy: 1.0000\n",
            "Epoch 61/100\n",
            "35/35 [==============================] - 0s 2ms/step - loss: 0.0044 - accuracy: 0.9977 - val_loss: 1.3124e-05 - val_accuracy: 1.0000\n",
            "Epoch 62/100\n",
            "35/35 [==============================] - 0s 2ms/step - loss: 3.7700e-04 - accuracy: 1.0000 - val_loss: 8.9110e-06 - val_accuracy: 1.0000\n",
            "Epoch 63/100\n",
            "35/35 [==============================] - 0s 2ms/step - loss: 2.9357e-04 - accuracy: 1.0000 - val_loss: 5.9092e-06 - val_accuracy: 1.0000\n",
            "Epoch 64/100\n",
            "35/35 [==============================] - 0s 2ms/step - loss: 5.4378e-04 - accuracy: 0.9997 - val_loss: 2.1746e-06 - val_accuracy: 1.0000\n",
            "Epoch 65/100\n",
            "35/35 [==============================] - 0s 2ms/step - loss: 2.7379e-04 - accuracy: 1.0000 - val_loss: 1.2034e-06 - val_accuracy: 1.0000\n",
            "Epoch 66/100\n",
            "35/35 [==============================] - 0s 2ms/step - loss: 0.0012 - accuracy: 0.9995 - val_loss: 9.2370e-07 - val_accuracy: 1.0000\n",
            "Epoch 67/100\n",
            "35/35 [==============================] - 0s 3ms/step - loss: 0.0051 - accuracy: 0.9980 - val_loss: 9.3082e-05 - val_accuracy: 1.0000\n",
            "Epoch 68/100\n",
            "35/35 [==============================] - 0s 3ms/step - loss: 7.2379e-04 - accuracy: 0.9997 - val_loss: 1.7058e-06 - val_accuracy: 1.0000\n",
            "Epoch 69/100\n",
            "35/35 [==============================] - 0s 2ms/step - loss: 0.0064 - accuracy: 0.9969 - val_loss: 1.5092e-04 - val_accuracy: 1.0000\n",
            "Epoch 70/100\n",
            "35/35 [==============================] - 0s 2ms/step - loss: 0.0029 - accuracy: 1.0000 - val_loss: 1.8365e-06 - val_accuracy: 1.0000\n",
            "Epoch 71/100\n",
            "35/35 [==============================] - 0s 2ms/step - loss: 6.2476e-04 - accuracy: 1.0000 - val_loss: 3.4412e-08 - val_accuracy: 1.0000\n",
            "Epoch 72/100\n",
            "35/35 [==============================] - 0s 2ms/step - loss: 2.8127e-04 - accuracy: 1.0000 - val_loss: 2.7923e-09 - val_accuracy: 1.0000\n",
            "Epoch 73/100\n",
            "35/35 [==============================] - 0s 2ms/step - loss: 2.1197e-04 - accuracy: 1.0000 - val_loss: 3.2229e-09 - val_accuracy: 1.0000\n",
            "Epoch 74/100\n",
            "35/35 [==============================] - 0s 2ms/step - loss: 1.9567e-04 - accuracy: 1.0000 - val_loss: 6.8221e-09 - val_accuracy: 1.0000\n",
            "Epoch 75/100\n",
            "35/35 [==============================] - 0s 2ms/step - loss: 7.8439e-04 - accuracy: 0.9991 - val_loss: 4.5599e-11 - val_accuracy: 1.0000\n",
            "Epoch 76/100\n",
            "35/35 [==============================] - 0s 2ms/step - loss: 4.6858e-04 - accuracy: 1.0000 - val_loss: 1.1694e-09 - val_accuracy: 1.0000\n",
            "Epoch 77/100\n",
            "35/35 [==============================] - 0s 2ms/step - loss: 0.0088 - accuracy: 0.9973 - val_loss: 2.1661e-09 - val_accuracy: 1.0000\n",
            "Epoch 78/100\n",
            "35/35 [==============================] - 0s 2ms/step - loss: 0.0175 - accuracy: 0.9973 - val_loss: 3.6458e-06 - val_accuracy: 1.0000\n",
            "Epoch 79/100\n",
            "35/35 [==============================] - 0s 3ms/step - loss: 0.0010 - accuracy: 1.0000 - val_loss: 2.2290e-07 - val_accuracy: 1.0000\n",
            "Epoch 80/100\n",
            "35/35 [==============================] - 0s 3ms/step - loss: 2.8850e-04 - accuracy: 1.0000 - val_loss: 3.6451e-08 - val_accuracy: 1.0000\n",
            "Epoch 81/100\n",
            "35/35 [==============================] - 0s 2ms/step - loss: 3.5476e-04 - accuracy: 1.0000 - val_loss: 7.8384e-09 - val_accuracy: 1.0000\n",
            "Epoch 82/100\n",
            "35/35 [==============================] - 0s 2ms/step - loss: 0.0167 - accuracy: 0.9991 - val_loss: 0.0043 - val_accuracy: 1.0000\n",
            "Epoch 83/100\n",
            "35/35 [==============================] - 0s 2ms/step - loss: 0.0018 - accuracy: 1.0000 - val_loss: 5.9737e-06 - val_accuracy: 1.0000\n",
            "Epoch 84/100\n",
            "35/35 [==============================] - 0s 3ms/step - loss: 3.1407e-04 - accuracy: 1.0000 - val_loss: 9.1778e-07 - val_accuracy: 1.0000\n",
            "Epoch 85/100\n",
            "35/35 [==============================] - 0s 2ms/step - loss: 7.9977e-04 - accuracy: 0.9994 - val_loss: 3.7315e-09 - val_accuracy: 1.0000\n",
            "Epoch 86/100\n",
            "35/35 [==============================] - 0s 3ms/step - loss: 8.9257e-04 - accuracy: 1.0000 - val_loss: 7.8621e-10 - val_accuracy: 1.0000\n",
            "Epoch 87/100\n",
            "35/35 [==============================] - 0s 2ms/step - loss: 6.8491e-05 - accuracy: 1.0000 - val_loss: 1.1557e-09 - val_accuracy: 1.0000\n",
            "Epoch 88/100\n",
            "35/35 [==============================] - 0s 2ms/step - loss: 0.0019 - accuracy: 1.0000 - val_loss: 7.7389e-11 - val_accuracy: 1.0000\n",
            "Epoch 89/100\n",
            "35/35 [==============================] - 0s 3ms/step - loss: 2.6457e-04 - accuracy: 1.0000 - val_loss: 7.3974e-10 - val_accuracy: 1.0000\n",
            "Epoch 90/100\n",
            "35/35 [==============================] - 0s 3ms/step - loss: 4.0970e-04 - accuracy: 1.0000 - val_loss: 2.0910e-10 - val_accuracy: 1.0000\n",
            "Epoch 91/100\n",
            "35/35 [==============================] - 0s 2ms/step - loss: 1.7528e-04 - accuracy: 1.0000 - val_loss: 4.8858e-11 - val_accuracy: 1.0000\n",
            "Epoch 92/100\n",
            "35/35 [==============================] - 0s 2ms/step - loss: 2.4318e-04 - accuracy: 1.0000 - val_loss: 6.2349e-11 - val_accuracy: 1.0000\n",
            "Epoch 93/100\n",
            "35/35 [==============================] - 0s 2ms/step - loss: 3.1943e-05 - accuracy: 1.0000 - val_loss: 6.9266e-11 - val_accuracy: 1.0000\n",
            "Epoch 94/100\n",
            "35/35 [==============================] - 0s 3ms/step - loss: 5.2673e-05 - accuracy: 1.0000 - val_loss: 5.7640e-11 - val_accuracy: 1.0000\n",
            "Epoch 95/100\n",
            "35/35 [==============================] - 0s 2ms/step - loss: 1.6673e-06 - accuracy: 1.0000 - val_loss: 5.5965e-11 - val_accuracy: 1.0000\n",
            "Epoch 96/100\n",
            "35/35 [==============================] - 0s 2ms/step - loss: 8.8070e-06 - accuracy: 1.0000 - val_loss: 5.6143e-11 - val_accuracy: 1.0000\n",
            "Epoch 97/100\n",
            "35/35 [==============================] - 0s 3ms/step - loss: 4.3522e-06 - accuracy: 1.0000 - val_loss: 5.5706e-11 - val_accuracy: 1.0000\n",
            "Epoch 98/100\n",
            "35/35 [==============================] - 0s 2ms/step - loss: 4.3945e-06 - accuracy: 1.0000 - val_loss: 5.4043e-11 - val_accuracy: 1.0000\n",
            "Epoch 99/100\n",
            "35/35 [==============================] - 0s 2ms/step - loss: 6.4652e-06 - accuracy: 1.0000 - val_loss: 5.3842e-11 - val_accuracy: 1.0000\n",
            "Epoch 100/100\n",
            "35/35 [==============================] - 0s 6ms/step - loss: 1.3397e-05 - accuracy: 1.0000 - val_loss: 5.3596e-11 - val_accuracy: 1.0000\n",
            "Best epoch: 1\n",
            "43/43 [==============================] - 1s 1ms/step - loss: 0.4562 - accuracy: 0.7582\n",
            "43/43 [==============================] - 0s 875us/step - loss: 0.0298 - accuracy: 0.9869\n",
            "[test loss, test accuracy]: [0.02976204641163349, 0.9868804812431335]\n"
          ],
          "name": "stdout"
        }
      ]
    },
    {
      "cell_type": "code",
      "metadata": {
        "colab": {
          "base_uri": "https://localhost:8080/",
          "height": 44
        },
        "id": "dmaDlyBSlEQu",
        "outputId": "d5797251-63da-4834-a555-4f5a5da8463e"
      },
      "source": [
        "visualkeras.layered_view(hypermodel)"
      ],
      "execution_count": 70,
      "outputs": [
        {
          "output_type": "execute_result",
          "data": {
            "image/png": "[encoded data removed]",
            "text/plain": [
              "<PIL.Image.Image image mode=RGBA size=227x27 at 0x7F6812F31B38>"
            ]
          },
          "metadata": {
            "tags": []
          },
          "execution_count": 70
        }
      ]
    },
    {
      "cell_type": "code",
      "metadata": {
        "colab": {
          "base_uri": "https://localhost:8080/"
        },
        "id": "ye_wCmX67EuT",
        "outputId": "a822bb27-5ec0-4bbb-cba1-e911ec2b7e17"
      },
      "source": [
        "from tensorflow.keras.models import Sequential\r\n",
        "from tensorflow.keras.layers import Dense\r\n",
        "from tensorflow.keras.losses import binary_crossentropy\r\n",
        "from tensorflow.keras.optimizers import Adam\r\n",
        "from kerastuner.tuners import RandomSearch\r\n",
        "\r\n",
        "# Model configuration\r\n",
        "batch_size = 50\r\n",
        "loss_function = binary_crossentropy\r\n",
        "no_classes = 1\r\n",
        "no_epochs = 25\r\n",
        "verbosity = 1\r\n",
        "input_shape=4\r\n",
        "# MODEL BUILDING FUNCTION\r\n",
        "def build_model(hp):\r\n",
        "  # Create the model\r\n",
        "  model = Sequential()\r\n",
        "  model.add(Dense(32, activation='relu', input_dim=input_shape))\r\n",
        "  model.add(Dense(64, activation='relu'))\r\n",
        "  model.add(Dense(128, activation='relu'))\r\n",
        "  model.add(Dense(128, activation='relu'))\r\n",
        "  model.add(Dense(no_classes, activation='sigmoid'))\r\n",
        "\r\n",
        "  # Display a model summary\r\n",
        "  model.summary()\r\n",
        "\r\n",
        "  # Compile the model\r\n",
        "  model.compile(loss='binary_crossentropy',\r\n",
        "                optimizer=Adam(\r\n",
        "                  hp.Choice('learning_rate',\r\n",
        "                            values=[1e-2, 1e-3, 1e-4])),\r\n",
        "                metrics=['accuracy'])\r\n",
        "  \r\n",
        "  # Return the model\r\n",
        "  return model\r\n",
        "\r\n",
        "# Perform tuning\r\n",
        "tuner = RandomSearch(build_model,\r\n",
        "    objective='val_accuracy',\r\n",
        "    max_trials=1,\r\n",
        "    executions_per_trial=1,\r\n",
        "    directory='tuning_dir')\r\n",
        "\r\n",
        "# Display search space summary\r\n",
        "tuner.search_space_summary()\r\n",
        "\r\n",
        "# Perform random search\r\n",
        "tuner.search(X, y,epochs=5,validation_split=0.2)\r\n",
        "\r\n",
        "# Get best model\r\n",
        "models = tuner.get_best_models(num_models=1)\r\n",
        "best_model = models[0]\r\n",
        "\r\n",
        "# Fit data to model\r\n",
        "history = best_model.fit(X, y,\r\n",
        "            batch_size=batch_size,\r\n",
        "            epochs=no_epochs,\r\n",
        "            verbose=verbosity,\r\n",
        "            validation_split=0)\r\n",
        "\r\n",
        "# Generate generalization metrics\r\n",
        "score = model.evaluate(X_train, y_train, verbose=0)\r\n",
        "print(f'Test loss: {score[0]} / Test accuracy: {score[1]}')"
      ],
      "execution_count": 69,
      "outputs": [
        {
          "output_type": "stream",
          "text": [
            "Trial 1 Complete [00h 00m 01s]\n",
            "val_accuracy: 1.0\n",
            "\n",
            "Best val_accuracy So Far: 1.0\n",
            "Total elapsed time: 00h 00m 01s\n",
            "INFO:tensorflow:Oracle triggered exit\n",
            "Model: \"sequential\"\n",
            "_________________________________________________________________\n",
            "Layer (type)                 Output Shape              Param #   \n",
            "=================================================================\n",
            "dense (Dense)                (None, 32)                160       \n",
            "_________________________________________________________________\n",
            "dense_1 (Dense)              (None, 64)                2112      \n",
            "_________________________________________________________________\n",
            "dense_2 (Dense)              (None, 128)               8320      \n",
            "_________________________________________________________________\n",
            "dense_3 (Dense)              (None, 128)               16512     \n",
            "_________________________________________________________________\n",
            "dense_4 (Dense)              (None, 1)                 129       \n",
            "=================================================================\n",
            "Total params: 27,233\n",
            "Trainable params: 27,233\n",
            "Non-trainable params: 0\n",
            "_________________________________________________________________\n",
            "Epoch 1/25\n",
            "28/28 [==============================] - 0s 2ms/step - loss: 0.0238 - accuracy: 0.9945\n",
            "Epoch 2/25\n",
            "28/28 [==============================] - 0s 2ms/step - loss: 0.0091 - accuracy: 0.9976\n",
            "Epoch 3/25\n",
            "28/28 [==============================] - 0s 2ms/step - loss: 0.0068 - accuracy: 1.0000\n",
            "Epoch 4/25\n",
            "28/28 [==============================] - 0s 2ms/step - loss: 0.0027 - accuracy: 1.0000\n",
            "Epoch 5/25\n",
            "28/28 [==============================] - 0s 2ms/step - loss: 0.0021 - accuracy: 1.0000\n",
            "Epoch 6/25\n",
            "28/28 [==============================] - 0s 2ms/step - loss: 0.0011 - accuracy: 1.0000\n",
            "Epoch 7/25\n",
            "28/28 [==============================] - 0s 2ms/step - loss: 0.0011 - accuracy: 1.0000\n",
            "Epoch 8/25\n",
            "28/28 [==============================] - 0s 2ms/step - loss: 8.5988e-04 - accuracy: 1.0000\n",
            "Epoch 9/25\n",
            "28/28 [==============================] - 0s 2ms/step - loss: 6.5012e-04 - accuracy: 1.0000\n",
            "Epoch 10/25\n",
            "28/28 [==============================] - 0s 2ms/step - loss: 6.0414e-04 - accuracy: 1.0000\n",
            "Epoch 11/25\n",
            "28/28 [==============================] - 0s 2ms/step - loss: 4.1321e-04 - accuracy: 1.0000\n",
            "Epoch 12/25\n",
            "28/28 [==============================] - 0s 2ms/step - loss: 3.5865e-04 - accuracy: 1.0000\n",
            "Epoch 13/25\n",
            "28/28 [==============================] - 0s 2ms/step - loss: 3.8724e-04 - accuracy: 1.0000\n",
            "Epoch 14/25\n",
            "28/28 [==============================] - 0s 2ms/step - loss: 3.5393e-04 - accuracy: 1.0000\n",
            "Epoch 15/25\n",
            "28/28 [==============================] - 0s 2ms/step - loss: 2.9996e-04 - accuracy: 1.0000\n",
            "Epoch 16/25\n",
            "28/28 [==============================] - 0s 2ms/step - loss: 1.2698e-04 - accuracy: 1.0000\n",
            "Epoch 17/25\n",
            "28/28 [==============================] - 0s 2ms/step - loss: 1.9092e-04 - accuracy: 1.0000\n",
            "Epoch 18/25\n",
            "28/28 [==============================] - 0s 2ms/step - loss: 1.5982e-04 - accuracy: 1.0000\n",
            "Epoch 19/25\n",
            "28/28 [==============================] - 0s 2ms/step - loss: 1.5201e-04 - accuracy: 1.0000\n",
            "Epoch 20/25\n",
            "28/28 [==============================] - 0s 2ms/step - loss: 1.1582e-04 - accuracy: 1.0000\n",
            "Epoch 21/25\n",
            "28/28 [==============================] - 0s 2ms/step - loss: 8.1426e-05 - accuracy: 1.0000\n",
            "Epoch 22/25\n",
            "28/28 [==============================] - 0s 2ms/step - loss: 7.7834e-05 - accuracy: 1.0000\n",
            "Epoch 23/25\n",
            "28/28 [==============================] - 0s 2ms/step - loss: 9.1684e-05 - accuracy: 1.0000\n",
            "Epoch 24/25\n",
            "28/28 [==============================] - 0s 2ms/step - loss: 7.6533e-05 - accuracy: 1.0000\n",
            "Epoch 25/25\n",
            "28/28 [==============================] - 0s 2ms/step - loss: 6.8915e-05 - accuracy: 1.0000\n",
            "Test loss: 3.498572027638147e-07 / Test accuracy: 1.0\n"
          ],
          "name": "stdout"
        }
      ]
    },
    {
      "cell_type": "markdown",
      "metadata": {
        "id": "c7aNQj6dmXXN"
      },
      "source": [
        "# opencv"
      ]
    },
    {
      "cell_type": "code",
      "metadata": {
        "id": "lBmvEE5FmWzx"
      },
      "source": [
        "import cv2 as cv"
      ],
      "execution_count": null,
      "outputs": []
    },
    {
      "cell_type": "code",
      "metadata": {
        "id": "DeYLFz5ymv_a"
      },
      "source": [
        "img=cv.imread('')\r\n",
        "cv.imshow('title',img)\r\n",
        "cv.imwrite('title',img)\r\n",
        "cv.waitkey(0)\r\n",
        "cv.destroyAllWindows()\r\n",
        "grayscale=cv.cvtColor(img,cv.COLOR_BGR2GRAY)\r\n",
        "img.shape"
      ],
      "execution_count": null,
      "outputs": []
    }
  ]
}