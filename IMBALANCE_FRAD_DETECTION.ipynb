{
  "nbformat": 4,
  "nbformat_minor": 0,
  "metadata": {
    "colab": {
      "name": "IMBALANCE FRAD DETECTION.ipynb",
      "provenance": [],
      "collapsed_sections": [
        "D2wya7nDKIr9",
        "IDObJ6L-_n1T"
      ]
    },
    "kernelspec": {
      "name": "python3",
      "display_name": "Python 3"
    }
  },
  "cells": [
    {
      "cell_type": "markdown",
      "metadata": {
        "id": "Y0ik426RknjI"
      },
      "source": [
        "The provided dataset has the following 3 files:\r\n",
        "\r\n",
        "TRAIN.csv (contains training data)\r\n",
        "TEST.csv (test data for prediction)\r\n",
        "sample_submission.csv (an example of submission file)\r\n",
        "The TRAIN.csv has 31 attributes, 30 training, and 1 target attribute (Class). \"0\" represents non-fraudulent transactions and \"1\" represents fraudulent transactions. Attributes V1...V28 are anonymous so that the internal details may be kept hidden."
      ]
    },
    {
      "cell_type": "code",
      "metadata": {
        "id": "_UHcG3PkmR5K"
      },
      "source": [
        "import pandas as pd\r\n",
        "import numpy as np\r\n",
        "import matplotlib.pyplot as plt\r\n",
        "import seaborn as sns\r\n",
        "from collections import Counter"
      ],
      "execution_count": null,
      "outputs": []
    },
    {
      "cell_type": "markdown",
      "metadata": {
        "id": "rIRKebGv_kXM"
      },
      "source": [
        "# Loading data"
      ]
    },
    {
      "cell_type": "code",
      "metadata": {
        "id": "8foxOW4KkLMr",
        "colab": {
          "base_uri": "https://localhost:8080/"
        },
        "outputId": "70bda7da-1b32-4521-ae5e-23dc8338e3bb"
      },
      "source": [
        "from google.colab import drive\r\n",
        "drive.mount('/content/gdrive')   "
      ],
      "execution_count": null,
      "outputs": [
        {
          "output_type": "stream",
          "text": [
            "Drive already mounted at /content/gdrive; to attempt to forcibly remount, call drive.mount(\"/content/gdrive\", force_remount=True).\n"
          ],
          "name": "stdout"
        }
      ]
    },
    {
      "cell_type": "code",
      "metadata": {
        "id": "Uj44Spq8XpRY"
      },
      "source": [
        "test=pd.read_csv(\"/content/gdrive/My Drive/SKILLATHON (DATA SCIENCE)/data/Files/TEST.csv\")"
      ],
      "execution_count": null,
      "outputs": []
    },
    {
      "cell_type": "code",
      "metadata": {
        "id": "X7gqnaKN0T6O"
      },
      "source": [
        "train=pd.read_csv(\"/content/gdrive/My Drive/SKILLATHON (DATA SCIENCE)/data/Files/TRAIN.csv\")"
      ],
      "execution_count": null,
      "outputs": []
    },
    {
      "cell_type": "code",
      "metadata": {
        "id": "0FWmd_f5_Bxp",
        "colab": {
          "base_uri": "https://localhost:8080/"
        },
        "outputId": "87171fad-20d2-4ce7-99d2-974162a65319"
      },
      "source": [
        "print(train.shape)\r\n",
        "print(test.shape)"
      ],
      "execution_count": null,
      "outputs": [
        {
          "output_type": "stream",
          "text": [
            "(284455, 31)\n",
            "(352, 30)\n"
          ],
          "name": "stdout"
        }
      ]
    },
    {
      "cell_type": "code",
      "metadata": {
        "colab": {
          "base_uri": "https://localhost:8080/",
          "height": 217
        },
        "id": "ZFOv40pPUiTJ",
        "outputId": "80daff5b-a49a-43c0-ef62-e368fb7a990c"
      },
      "source": [
        "train.sample(5)"
      ],
      "execution_count": null,
      "outputs": [
        {
          "output_type": "execute_result",
          "data": {
            "text/html": [
              "<div>\n",
              "<style scoped>\n",
              "    .dataframe tbody tr th:only-of-type {\n",
              "        vertical-align: middle;\n",
              "    }\n",
              "\n",
              "    .dataframe tbody tr th {\n",
              "        vertical-align: top;\n",
              "    }\n",
              "\n",
              "    .dataframe thead th {\n",
              "        text-align: right;\n",
              "    }\n",
              "</style>\n",
              "<table border=\"1\" class=\"dataframe\">\n",
              "  <thead>\n",
              "    <tr style=\"text-align: right;\">\n",
              "      <th></th>\n",
              "      <th>Index</th>\n",
              "      <th>V1</th>\n",
              "      <th>V2</th>\n",
              "      <th>V3</th>\n",
              "      <th>V4</th>\n",
              "      <th>V5</th>\n",
              "      <th>V6</th>\n",
              "      <th>V7</th>\n",
              "      <th>V8</th>\n",
              "      <th>V9</th>\n",
              "      <th>V10</th>\n",
              "      <th>V11</th>\n",
              "      <th>V12</th>\n",
              "      <th>V13</th>\n",
              "      <th>V14</th>\n",
              "      <th>V15</th>\n",
              "      <th>V16</th>\n",
              "      <th>V17</th>\n",
              "      <th>V18</th>\n",
              "      <th>V19</th>\n",
              "      <th>V20</th>\n",
              "      <th>V21</th>\n",
              "      <th>V22</th>\n",
              "      <th>V23</th>\n",
              "      <th>V24</th>\n",
              "      <th>V25</th>\n",
              "      <th>V26</th>\n",
              "      <th>V27</th>\n",
              "      <th>V28</th>\n",
              "      <th>Amount</th>\n",
              "      <th>Class</th>\n",
              "    </tr>\n",
              "  </thead>\n",
              "  <tbody>\n",
              "    <tr>\n",
              "      <th>257670</th>\n",
              "      <td>257670</td>\n",
              "      <td>1.224835</td>\n",
              "      <td>-0.037281</td>\n",
              "      <td>0.017302</td>\n",
              "      <td>0.125514</td>\n",
              "      <td>-0.524171</td>\n",
              "      <td>-1.348691</td>\n",
              "      <td>0.258546</td>\n",
              "      <td>-0.234622</td>\n",
              "      <td>0.177806</td>\n",
              "      <td>-0.105177</td>\n",
              "      <td>-0.433127</td>\n",
              "      <td>-0.606370</td>\n",
              "      <td>-1.618143</td>\n",
              "      <td>0.761785</td>\n",
              "      <td>1.036543</td>\n",
              "      <td>0.200195</td>\n",
              "      <td>-0.107705</td>\n",
              "      <td>-0.799147</td>\n",
              "      <td>0.280017</td>\n",
              "      <td>-0.101769</td>\n",
              "      <td>-0.439714</td>\n",
              "      <td>-1.487476</td>\n",
              "      <td>0.193785</td>\n",
              "      <td>0.344609</td>\n",
              "      <td>0.030667</td>\n",
              "      <td>0.624331</td>\n",
              "      <td>-0.119035</td>\n",
              "      <td>0.006797</td>\n",
              "      <td>45.88</td>\n",
              "      <td>0</td>\n",
              "    </tr>\n",
              "    <tr>\n",
              "      <th>181816</th>\n",
              "      <td>181816</td>\n",
              "      <td>2.020068</td>\n",
              "      <td>0.081378</td>\n",
              "      <td>-1.612611</td>\n",
              "      <td>0.349584</td>\n",
              "      <td>0.341030</td>\n",
              "      <td>-0.675001</td>\n",
              "      <td>0.053835</td>\n",
              "      <td>-0.074685</td>\n",
              "      <td>0.292413</td>\n",
              "      <td>-0.195482</td>\n",
              "      <td>1.218598</td>\n",
              "      <td>0.648218</td>\n",
              "      <td>-0.521215</td>\n",
              "      <td>-0.543634</td>\n",
              "      <td>-0.457699</td>\n",
              "      <td>0.480049</td>\n",
              "      <td>0.317554</td>\n",
              "      <td>0.183814</td>\n",
              "      <td>0.275203</td>\n",
              "      <td>-0.182500</td>\n",
              "      <td>-0.306454</td>\n",
              "      <td>-0.835603</td>\n",
              "      <td>0.356818</td>\n",
              "      <td>0.656947</td>\n",
              "      <td>-0.328769</td>\n",
              "      <td>0.144226</td>\n",
              "      <td>-0.069183</td>\n",
              "      <td>-0.039869</td>\n",
              "      <td>0.99</td>\n",
              "      <td>0</td>\n",
              "    </tr>\n",
              "    <tr>\n",
              "      <th>254055</th>\n",
              "      <td>254055</td>\n",
              "      <td>1.051132</td>\n",
              "      <td>-0.142413</td>\n",
              "      <td>1.357446</td>\n",
              "      <td>1.227277</td>\n",
              "      <td>-0.855828</td>\n",
              "      <td>0.473844</td>\n",
              "      <td>-0.750885</td>\n",
              "      <td>0.376361</td>\n",
              "      <td>0.647921</td>\n",
              "      <td>-0.071084</td>\n",
              "      <td>1.273542</td>\n",
              "      <td>1.204593</td>\n",
              "      <td>-0.329308</td>\n",
              "      <td>-0.078079</td>\n",
              "      <td>-0.260504</td>\n",
              "      <td>-0.066812</td>\n",
              "      <td>-0.133843</td>\n",
              "      <td>-0.054897</td>\n",
              "      <td>-0.355535</td>\n",
              "      <td>-0.174266</td>\n",
              "      <td>0.028078</td>\n",
              "      <td>0.272351</td>\n",
              "      <td>0.040108</td>\n",
              "      <td>0.228564</td>\n",
              "      <td>0.277168</td>\n",
              "      <td>-0.408920</td>\n",
              "      <td>0.083830</td>\n",
              "      <td>0.026440</td>\n",
              "      <td>9.99</td>\n",
              "      <td>0</td>\n",
              "    </tr>\n",
              "    <tr>\n",
              "      <th>193838</th>\n",
              "      <td>193838</td>\n",
              "      <td>1.552862</td>\n",
              "      <td>-1.748252</td>\n",
              "      <td>-1.324853</td>\n",
              "      <td>-2.200125</td>\n",
              "      <td>-0.440071</td>\n",
              "      <td>0.774549</td>\n",
              "      <td>-0.729682</td>\n",
              "      <td>0.402898</td>\n",
              "      <td>2.553030</td>\n",
              "      <td>-1.282838</td>\n",
              "      <td>0.993554</td>\n",
              "      <td>0.866777</td>\n",
              "      <td>-1.279998</td>\n",
              "      <td>0.642575</td>\n",
              "      <td>2.096919</td>\n",
              "      <td>-1.018909</td>\n",
              "      <td>0.054626</td>\n",
              "      <td>0.063553</td>\n",
              "      <td>0.118259</td>\n",
              "      <td>0.064112</td>\n",
              "      <td>0.438964</td>\n",
              "      <td>1.105613</td>\n",
              "      <td>-0.091980</td>\n",
              "      <td>-1.626122</td>\n",
              "      <td>-0.247395</td>\n",
              "      <td>-0.649195</td>\n",
              "      <td>0.075319</td>\n",
              "      <td>-0.031226</td>\n",
              "      <td>210.90</td>\n",
              "      <td>0</td>\n",
              "    </tr>\n",
              "    <tr>\n",
              "      <th>134684</th>\n",
              "      <td>134684</td>\n",
              "      <td>1.153357</td>\n",
              "      <td>0.174625</td>\n",
              "      <td>0.271618</td>\n",
              "      <td>1.030462</td>\n",
              "      <td>-0.311810</td>\n",
              "      <td>-0.652954</td>\n",
              "      <td>0.090404</td>\n",
              "      <td>-0.044154</td>\n",
              "      <td>-0.151017</td>\n",
              "      <td>0.197380</td>\n",
              "      <td>1.158758</td>\n",
              "      <td>0.424998</td>\n",
              "      <td>-0.932997</td>\n",
              "      <td>0.760512</td>\n",
              "      <td>0.315709</td>\n",
              "      <td>0.289025</td>\n",
              "      <td>-0.628208</td>\n",
              "      <td>0.453639</td>\n",
              "      <td>-0.082518</td>\n",
              "      <td>-0.137144</td>\n",
              "      <td>0.084195</td>\n",
              "      <td>0.156104</td>\n",
              "      <td>-0.123187</td>\n",
              "      <td>0.319759</td>\n",
              "      <td>0.619986</td>\n",
              "      <td>-0.345501</td>\n",
              "      <td>-0.000296</td>\n",
              "      <td>0.012627</td>\n",
              "      <td>29.00</td>\n",
              "      <td>0</td>\n",
              "    </tr>\n",
              "  </tbody>\n",
              "</table>\n",
              "</div>"
            ],
            "text/plain": [
              "         Index        V1        V2        V3  ...       V27       V28  Amount  Class\n",
              "257670  257670  1.224835 -0.037281  0.017302  ... -0.119035  0.006797   45.88      0\n",
              "181816  181816  2.020068  0.081378 -1.612611  ... -0.069183 -0.039869    0.99      0\n",
              "254055  254055  1.051132 -0.142413  1.357446  ...  0.083830  0.026440    9.99      0\n",
              "193838  193838  1.552862 -1.748252 -1.324853  ...  0.075319 -0.031226  210.90      0\n",
              "134684  134684  1.153357  0.174625  0.271618  ... -0.000296  0.012627   29.00      0\n",
              "\n",
              "[5 rows x 31 columns]"
            ]
          },
          "metadata": {
            "tags": []
          },
          "execution_count": 183
        }
      ]
    },
    {
      "cell_type": "code",
      "metadata": {
        "colab": {
          "base_uri": "https://localhost:8080/",
          "height": 217
        },
        "id": "7fJ0EW2JUoQl",
        "outputId": "dfe222b6-1b8c-4a57-f2be-b07ac585be3e"
      },
      "source": [
        "test.sample(5)"
      ],
      "execution_count": null,
      "outputs": [
        {
          "output_type": "execute_result",
          "data": {
            "text/html": [
              "<div>\n",
              "<style scoped>\n",
              "    .dataframe tbody tr th:only-of-type {\n",
              "        vertical-align: middle;\n",
              "    }\n",
              "\n",
              "    .dataframe tbody tr th {\n",
              "        vertical-align: top;\n",
              "    }\n",
              "\n",
              "    .dataframe thead th {\n",
              "        text-align: right;\n",
              "    }\n",
              "</style>\n",
              "<table border=\"1\" class=\"dataframe\">\n",
              "  <thead>\n",
              "    <tr style=\"text-align: right;\">\n",
              "      <th></th>\n",
              "      <th>Index</th>\n",
              "      <th>V1</th>\n",
              "      <th>V2</th>\n",
              "      <th>V3</th>\n",
              "      <th>V4</th>\n",
              "      <th>V5</th>\n",
              "      <th>V6</th>\n",
              "      <th>V7</th>\n",
              "      <th>V8</th>\n",
              "      <th>V9</th>\n",
              "      <th>V10</th>\n",
              "      <th>V11</th>\n",
              "      <th>V12</th>\n",
              "      <th>V13</th>\n",
              "      <th>V14</th>\n",
              "      <th>V15</th>\n",
              "      <th>V16</th>\n",
              "      <th>V17</th>\n",
              "      <th>V18</th>\n",
              "      <th>V19</th>\n",
              "      <th>V20</th>\n",
              "      <th>V21</th>\n",
              "      <th>V22</th>\n",
              "      <th>V23</th>\n",
              "      <th>V24</th>\n",
              "      <th>V25</th>\n",
              "      <th>V26</th>\n",
              "      <th>V27</th>\n",
              "      <th>V28</th>\n",
              "      <th>Amount</th>\n",
              "    </tr>\n",
              "  </thead>\n",
              "  <tbody>\n",
              "    <tr>\n",
              "      <th>62</th>\n",
              "      <td>62</td>\n",
              "      <td>-0.644278</td>\n",
              "      <td>5.002352</td>\n",
              "      <td>-8.252739</td>\n",
              "      <td>7.756915</td>\n",
              "      <td>-0.216267</td>\n",
              "      <td>-2.751496</td>\n",
              "      <td>-3.358857</td>\n",
              "      <td>1.406268</td>\n",
              "      <td>-4.403852</td>\n",
              "      <td>-5.945634</td>\n",
              "      <td>4.475905</td>\n",
              "      <td>-7.607261</td>\n",
              "      <td>-0.160723</td>\n",
              "      <td>-13.010749</td>\n",
              "      <td>1.094382</td>\n",
              "      <td>-2.864039</td>\n",
              "      <td>-2.871342</td>\n",
              "      <td>-0.180614</td>\n",
              "      <td>0.647709</td>\n",
              "      <td>0.816558</td>\n",
              "      <td>0.587728</td>\n",
              "      <td>-0.605759</td>\n",
              "      <td>0.033746</td>\n",
              "      <td>-0.756170</td>\n",
              "      <td>-0.008172</td>\n",
              "      <td>0.532772</td>\n",
              "      <td>0.663970</td>\n",
              "      <td>0.192067</td>\n",
              "      <td>0.77</td>\n",
              "    </tr>\n",
              "    <tr>\n",
              "      <th>149</th>\n",
              "      <td>149</td>\n",
              "      <td>2.038405</td>\n",
              "      <td>-0.363280</td>\n",
              "      <td>-0.682438</td>\n",
              "      <td>0.233928</td>\n",
              "      <td>-0.111897</td>\n",
              "      <td>0.251658</td>\n",
              "      <td>-0.603736</td>\n",
              "      <td>0.022767</td>\n",
              "      <td>1.357875</td>\n",
              "      <td>-0.200991</td>\n",
              "      <td>-1.506124</td>\n",
              "      <td>0.724808</td>\n",
              "      <td>1.259564</td>\n",
              "      <td>-0.455211</td>\n",
              "      <td>0.464004</td>\n",
              "      <td>0.272134</td>\n",
              "      <td>-0.850616</td>\n",
              "      <td>0.354575</td>\n",
              "      <td>0.053645</td>\n",
              "      <td>-0.103202</td>\n",
              "      <td>0.150369</td>\n",
              "      <td>0.705152</td>\n",
              "      <td>0.050507</td>\n",
              "      <td>0.083189</td>\n",
              "      <td>0.055310</td>\n",
              "      <td>-0.206278</td>\n",
              "      <td>0.042281</td>\n",
              "      <td>-0.034661</td>\n",
              "      <td>9.99</td>\n",
              "    </tr>\n",
              "    <tr>\n",
              "      <th>300</th>\n",
              "      <td>300</td>\n",
              "      <td>-2.140119</td>\n",
              "      <td>0.191360</td>\n",
              "      <td>-0.199119</td>\n",
              "      <td>0.544156</td>\n",
              "      <td>-0.327941</td>\n",
              "      <td>-0.469120</td>\n",
              "      <td>0.651569</td>\n",
              "      <td>0.746109</td>\n",
              "      <td>-1.033838</td>\n",
              "      <td>-0.764818</td>\n",
              "      <td>1.043433</td>\n",
              "      <td>0.765553</td>\n",
              "      <td>-0.711510</td>\n",
              "      <td>1.339462</td>\n",
              "      <td>-0.351574</td>\n",
              "      <td>0.336314</td>\n",
              "      <td>-0.211905</td>\n",
              "      <td>-0.062165</td>\n",
              "      <td>-1.049269</td>\n",
              "      <td>-0.514074</td>\n",
              "      <td>0.275733</td>\n",
              "      <td>0.437316</td>\n",
              "      <td>-0.148735</td>\n",
              "      <td>0.248321</td>\n",
              "      <td>-0.555517</td>\n",
              "      <td>-0.624382</td>\n",
              "      <td>0.074160</td>\n",
              "      <td>-0.296953</td>\n",
              "      <td>230.00</td>\n",
              "    </tr>\n",
              "    <tr>\n",
              "      <th>64</th>\n",
              "      <td>64</td>\n",
              "      <td>2.083308</td>\n",
              "      <td>-0.105768</td>\n",
              "      <td>-1.727740</td>\n",
              "      <td>-0.005150</td>\n",
              "      <td>0.557887</td>\n",
              "      <td>-0.267997</td>\n",
              "      <td>0.061260</td>\n",
              "      <td>-0.101895</td>\n",
              "      <td>0.423958</td>\n",
              "      <td>0.187893</td>\n",
              "      <td>0.352981</td>\n",
              "      <td>0.537525</td>\n",
              "      <td>-0.256143</td>\n",
              "      <td>0.705144</td>\n",
              "      <td>0.171784</td>\n",
              "      <td>0.210781</td>\n",
              "      <td>-0.988541</td>\n",
              "      <td>0.720258</td>\n",
              "      <td>0.312009</td>\n",
              "      <td>-0.204246</td>\n",
              "      <td>0.245644</td>\n",
              "      <td>0.782911</td>\n",
              "      <td>-0.052260</td>\n",
              "      <td>0.116966</td>\n",
              "      <td>0.328988</td>\n",
              "      <td>-0.121700</td>\n",
              "      <td>-0.031912</td>\n",
              "      <td>-0.068784</td>\n",
              "      <td>2.98</td>\n",
              "    </tr>\n",
              "    <tr>\n",
              "      <th>188</th>\n",
              "      <td>188</td>\n",
              "      <td>-4.586568</td>\n",
              "      <td>-1.396335</td>\n",
              "      <td>0.024738</td>\n",
              "      <td>1.631416</td>\n",
              "      <td>-2.280470</td>\n",
              "      <td>1.391140</td>\n",
              "      <td>-0.028271</td>\n",
              "      <td>1.676972</td>\n",
              "      <td>-0.110945</td>\n",
              "      <td>-0.576894</td>\n",
              "      <td>0.873226</td>\n",
              "      <td>0.708063</td>\n",
              "      <td>-0.842282</td>\n",
              "      <td>1.045458</td>\n",
              "      <td>0.970877</td>\n",
              "      <td>0.173340</td>\n",
              "      <td>0.711838</td>\n",
              "      <td>0.331764</td>\n",
              "      <td>-0.167041</td>\n",
              "      <td>0.278602</td>\n",
              "      <td>0.293290</td>\n",
              "      <td>0.517479</td>\n",
              "      <td>-0.794057</td>\n",
              "      <td>-0.190765</td>\n",
              "      <td>0.215960</td>\n",
              "      <td>-0.092361</td>\n",
              "      <td>0.507950</td>\n",
              "      <td>-0.410829</td>\n",
              "      <td>398.11</td>\n",
              "    </tr>\n",
              "  </tbody>\n",
              "</table>\n",
              "</div>"
            ],
            "text/plain": [
              "     Index        V1        V2        V3  ...       V26       V27       V28  Amount\n",
              "62      62 -0.644278  5.002352 -8.252739  ...  0.532772  0.663970  0.192067    0.77\n",
              "149    149  2.038405 -0.363280 -0.682438  ... -0.206278  0.042281 -0.034661    9.99\n",
              "300    300 -2.140119  0.191360 -0.199119  ... -0.624382  0.074160 -0.296953  230.00\n",
              "64      64  2.083308 -0.105768 -1.727740  ... -0.121700 -0.031912 -0.068784    2.98\n",
              "188    188 -4.586568 -1.396335  0.024738  ... -0.092361  0.507950 -0.410829  398.11\n",
              "\n",
              "[5 rows x 30 columns]"
            ]
          },
          "metadata": {
            "tags": []
          },
          "execution_count": 184
        }
      ]
    },
    {
      "cell_type": "code",
      "metadata": {
        "id": "X_LLbYSwATux",
        "colab": {
          "base_uri": "https://localhost:8080/"
        },
        "outputId": "ae1636d8-5129-4cd9-e6cb-62d48b66e56a"
      },
      "source": [
        "train.columns.difference(['Class'])"
      ],
      "execution_count": null,
      "outputs": [
        {
          "output_type": "execute_result",
          "data": {
            "text/plain": [
              "Index(['Amount', 'Index', 'V1', 'V10', 'V11', 'V12', 'V13', 'V14', 'V15',\n",
              "       'V16', 'V17', 'V18', 'V19', 'V2', 'V20', 'V21', 'V22', 'V23', 'V24',\n",
              "       'V25', 'V26', 'V27', 'V28', 'V3', 'V4', 'V5', 'V6', 'V7', 'V8', 'V9'],\n",
              "      dtype='object')"
            ]
          },
          "metadata": {
            "tags": []
          },
          "execution_count": 185
        }
      ]
    },
    {
      "cell_type": "code",
      "metadata": {
        "id": "_wfifAHKXVO5",
        "colab": {
          "base_uri": "https://localhost:8080/"
        },
        "outputId": "f658fc39-d697-4b7e-9d80-c1879217ab0d"
      },
      "source": [
        "train.Class.value_counts()"
      ],
      "execution_count": null,
      "outputs": [
        {
          "output_type": "execute_result",
          "data": {
            "text/plain": [
              "0    284015\n",
              "1       440\n",
              "Name: Class, dtype: int64"
            ]
          },
          "metadata": {
            "tags": []
          },
          "execution_count": 186
        }
      ]
    },
    {
      "cell_type": "code",
      "metadata": {
        "id": "s0YkezQjXFS-",
        "colab": {
          "base_uri": "https://localhost:8080/",
          "height": 352
        },
        "outputId": "8ba07559-0991-42b1-ca8a-54afae05dfe2"
      },
      "source": [
        "sns.countplot(train.Class)"
      ],
      "execution_count": null,
      "outputs": [
        {
          "output_type": "stream",
          "text": [
            "/usr/local/lib/python3.6/dist-packages/seaborn/_decorators.py:43: FutureWarning: Pass the following variable as a keyword arg: x. From version 0.12, the only valid positional argument will be `data`, and passing other arguments without an explicit keyword will result in an error or misinterpretation.\n",
            "  FutureWarning\n"
          ],
          "name": "stderr"
        },
        {
          "output_type": "execute_result",
          "data": {
            "text/plain": [
              "<matplotlib.axes._subplots.AxesSubplot at 0x7fd5a60a8c18>"
            ]
          },
          "metadata": {
            "tags": []
          },
          "execution_count": 187
        },
        {
          "output_type": "display_data",
          "data": {
            "image/png": "[encoded data removed]",
            "text/plain": [
              "<Figure size 432x288 with 1 Axes>"
            ]
          },
          "metadata": {
            "tags": [],
            "needs_background": "light"
          }
        }
      ]
    },
    {
      "cell_type": "markdown",
      "metadata": {
        "id": "D2wya7nDKIr9"
      },
      "source": [
        "# Outliers"
      ]
    },
    {
      "cell_type": "markdown",
      "metadata": {
        "id": "1V0ge44y747x"
      },
      "source": [
        "since i have 2 lakhs data points i am droping if two columns have outliers"
      ]
    },
    {
      "cell_type": "code",
      "metadata": {
        "id": "VaGrkAM8_6rv"
      },
      "source": [
        "def outliers(df,n):\r\n",
        "    outlier_indices = []\r\n",
        "    # iterate over features(columns)\r\n",
        "    for col in df.columns.difference(['Class']):\r\n",
        "        Q1 = np.percentile(df[col], 25)\r\n",
        "        Q3 = np.percentile(df[col],75)\r\n",
        "        \r\n",
        "        # Interquartile range (IQR)\r\n",
        "        IQR = Q3 - Q1\r\n",
        "        outlier_step = 1.5 * IQR\r\n",
        "        outlier_list_col = df[(df[col] < Q1 - outlier_step) | (df[col] > Q3 + outlier_step )].index\r\n",
        "        outlier_indices.extend(outlier_list_col)\r\n",
        "\r\n",
        "    outlier_indices = Counter(outlier_indices)  \r\n",
        "    multiple_outliers = list( k for k, v in outlier_indices.items() if v > n )\r\n",
        "    return multiple_outliers   \r\n",
        "Outliers_to_drop = outliers(train,1)"
      ],
      "execution_count": null,
      "outputs": []
    },
    {
      "cell_type": "code",
      "metadata": {
        "id": "ggwAIxcNBWJe",
        "colab": {
          "base_uri": "https://localhost:8080/"
        },
        "outputId": "08edc3e2-41e7-4ffc-f5a6-151ed9cebee3"
      },
      "source": [
        "len(Outliers_to_drop)"
      ],
      "execution_count": null,
      "outputs": [
        {
          "output_type": "execute_result",
          "data": {
            "text/plain": [
              "81334"
            ]
          },
          "metadata": {
            "tags": []
          },
          "execution_count": 189
        }
      ]
    },
    {
      "cell_type": "code",
      "metadata": {
        "id": "dHNQpVm4H2kL"
      },
      "source": [
        "df_Outlies=train.loc[Outliers_to_drop]"
      ],
      "execution_count": null,
      "outputs": []
    },
    {
      "cell_type": "code",
      "metadata": {
        "id": "CCgRrmldVF8B",
        "colab": {
          "base_uri": "https://localhost:8080/"
        },
        "outputId": "9eb29f60-51df-4e55-d184-a3f98c2b4104"
      },
      "source": [
        "df_Outlies"
      ],
      "execution_count": null,
      "outputs": [
        {
          "output_type": "execute_result",
          "data": {
            "text/html": [
              "<div>\n",
              "<style scoped>\n",
              "    .dataframe tbody tr th:only-of-type {\n",
              "        vertical-align: middle;\n",
              "    }\n",
              "\n",
              "    .dataframe tbody tr th {\n",
              "        vertical-align: top;\n",
              "    }\n",
              "\n",
              "    .dataframe thead th {\n",
              "        text-align: right;\n",
              "    }\n",
              "</style>\n",
              "<table border=\"1\" class=\"dataframe\">\n",
              "  <thead>\n",
              "    <tr style=\"text-align: right;\">\n",
              "      <th></th>\n",
              "      <th>Index</th>\n",
              "      <th>V1</th>\n",
              "      <th>V2</th>\n",
              "      <th>V3</th>\n",
              "      <th>V4</th>\n",
              "      <th>V5</th>\n",
              "      <th>V6</th>\n",
              "      <th>V7</th>\n",
              "      <th>V8</th>\n",
              "      <th>V9</th>\n",
              "      <th>V10</th>\n",
              "      <th>V11</th>\n",
              "      <th>V12</th>\n",
              "      <th>V13</th>\n",
              "      <th>V14</th>\n",
              "      <th>V15</th>\n",
              "      <th>V16</th>\n",
              "      <th>V17</th>\n",
              "      <th>V18</th>\n",
              "      <th>V19</th>\n",
              "      <th>V20</th>\n",
              "      <th>V21</th>\n",
              "      <th>V22</th>\n",
              "      <th>V23</th>\n",
              "      <th>V24</th>\n",
              "      <th>V25</th>\n",
              "      <th>V26</th>\n",
              "      <th>V27</th>\n",
              "      <th>V28</th>\n",
              "      <th>Amount</th>\n",
              "      <th>Class</th>\n",
              "    </tr>\n",
              "  </thead>\n",
              "  <tbody>\n",
              "    <tr>\n",
              "      <th>25</th>\n",
              "      <td>25</td>\n",
              "      <td>-0.177627</td>\n",
              "      <td>-1.450960</td>\n",
              "      <td>1.599820</td>\n",
              "      <td>-0.597122</td>\n",
              "      <td>-1.975050</td>\n",
              "      <td>0.908327</td>\n",
              "      <td>-0.420661</td>\n",
              "      <td>0.462806</td>\n",
              "      <td>-0.000240</td>\n",
              "      <td>0.036885</td>\n",
              "      <td>0.805719</td>\n",
              "      <td>0.138704</td>\n",
              "      <td>-0.691732</td>\n",
              "      <td>-0.982953</td>\n",
              "      <td>-1.803169</td>\n",
              "      <td>0.534180</td>\n",
              "      <td>0.874261</td>\n",
              "      <td>-1.147392</td>\n",
              "      <td>0.721787</td>\n",
              "      <td>0.519968</td>\n",
              "      <td>0.421398</td>\n",
              "      <td>0.992138</td>\n",
              "      <td>0.689745</td>\n",
              "      <td>0.228899</td>\n",
              "      <td>-0.500738</td>\n",
              "      <td>-0.266360</td>\n",
              "      <td>-0.023831</td>\n",
              "      <td>-0.050647</td>\n",
              "      <td>250.00</td>\n",
              "      <td>0</td>\n",
              "    </tr>\n",
              "    <tr>\n",
              "      <th>81</th>\n",
              "      <td>81</td>\n",
              "      <td>-1.205141</td>\n",
              "      <td>-0.089466</td>\n",
              "      <td>-0.794670</td>\n",
              "      <td>-2.625725</td>\n",
              "      <td>1.421087</td>\n",
              "      <td>-0.758064</td>\n",
              "      <td>0.743424</td>\n",
              "      <td>-1.140429</td>\n",
              "      <td>0.635770</td>\n",
              "      <td>-1.258292</td>\n",
              "      <td>0.323474</td>\n",
              "      <td>0.906078</td>\n",
              "      <td>-0.395380</td>\n",
              "      <td>0.610071</td>\n",
              "      <td>-0.711825</td>\n",
              "      <td>-0.925986</td>\n",
              "      <td>-0.341918</td>\n",
              "      <td>0.207223</td>\n",
              "      <td>1.429707</td>\n",
              "      <td>-0.594630</td>\n",
              "      <td>0.764861</td>\n",
              "      <td>-0.020798</td>\n",
              "      <td>-1.479669</td>\n",
              "      <td>0.332991</td>\n",
              "      <td>0.085645</td>\n",
              "      <td>-0.210479</td>\n",
              "      <td>0.264612</td>\n",
              "      <td>0.106741</td>\n",
              "      <td>199.00</td>\n",
              "      <td>0</td>\n",
              "    </tr>\n",
              "    <tr>\n",
              "      <th>83</th>\n",
              "      <td>83</td>\n",
              "      <td>-1.523300</td>\n",
              "      <td>-1.006176</td>\n",
              "      <td>0.852255</td>\n",
              "      <td>-2.111275</td>\n",
              "      <td>-1.986956</td>\n",
              "      <td>-0.296121</td>\n",
              "      <td>0.931744</td>\n",
              "      <td>0.210910</td>\n",
              "      <td>-3.134375</td>\n",
              "      <td>0.218257</td>\n",
              "      <td>0.860631</td>\n",
              "      <td>-0.075286</td>\n",
              "      <td>0.570839</td>\n",
              "      <td>-0.013886</td>\n",
              "      <td>-1.737159</td>\n",
              "      <td>-0.516097</td>\n",
              "      <td>0.605510</td>\n",
              "      <td>0.337325</td>\n",
              "      <td>-0.324387</td>\n",
              "      <td>0.396275</td>\n",
              "      <td>0.173885</td>\n",
              "      <td>0.095830</td>\n",
              "      <td>0.523786</td>\n",
              "      <td>0.500744</td>\n",
              "      <td>0.817530</td>\n",
              "      <td>-0.189276</td>\n",
              "      <td>-0.215964</td>\n",
              "      <td>-0.017130</td>\n",
              "      <td>370.30</td>\n",
              "      <td>0</td>\n",
              "    </tr>\n",
              "    <tr>\n",
              "      <th>96</th>\n",
              "      <td>96</td>\n",
              "      <td>-2.389340</td>\n",
              "      <td>-0.253325</td>\n",
              "      <td>-1.163972</td>\n",
              "      <td>0.576280</td>\n",
              "      <td>1.942638</td>\n",
              "      <td>3.880275</td>\n",
              "      <td>0.265654</td>\n",
              "      <td>1.018780</td>\n",
              "      <td>-0.201364</td>\n",
              "      <td>0.208343</td>\n",
              "      <td>-0.653555</td>\n",
              "      <td>0.035292</td>\n",
              "      <td>-0.003613</td>\n",
              "      <td>0.243711</td>\n",
              "      <td>0.319322</td>\n",
              "      <td>-0.325533</td>\n",
              "      <td>-0.079168</td>\n",
              "      <td>0.190665</td>\n",
              "      <td>1.547045</td>\n",
              "      <td>-0.503952</td>\n",
              "      <td>-0.263582</td>\n",
              "      <td>-0.164231</td>\n",
              "      <td>-0.086684</td>\n",
              "      <td>1.070140</td>\n",
              "      <td>0.191235</td>\n",
              "      <td>-0.258653</td>\n",
              "      <td>0.017152</td>\n",
              "      <td>0.196985</td>\n",
              "      <td>199.00</td>\n",
              "      <td>0</td>\n",
              "    </tr>\n",
              "    <tr>\n",
              "      <th>109</th>\n",
              "      <td>109</td>\n",
              "      <td>-0.841021</td>\n",
              "      <td>-2.968521</td>\n",
              "      <td>-1.080914</td>\n",
              "      <td>2.046657</td>\n",
              "      <td>-0.951907</td>\n",
              "      <td>-0.182914</td>\n",
              "      <td>1.729186</td>\n",
              "      <td>-0.430582</td>\n",
              "      <td>-0.361283</td>\n",
              "      <td>-0.466805</td>\n",
              "      <td>-0.119006</td>\n",
              "      <td>0.432903</td>\n",
              "      <td>0.366200</td>\n",
              "      <td>0.693069</td>\n",
              "      <td>1.097926</td>\n",
              "      <td>-0.202780</td>\n",
              "      <td>-0.076339</td>\n",
              "      <td>-0.573011</td>\n",
              "      <td>-1.035023</td>\n",
              "      <td>1.993207</td>\n",
              "      <td>0.642750</td>\n",
              "      <td>-0.475548</td>\n",
              "      <td>-0.999616</td>\n",
              "      <td>0.142254</td>\n",
              "      <td>0.267147</td>\n",
              "      <td>-0.426756</td>\n",
              "      <td>-0.180578</td>\n",
              "      <td>0.198806</td>\n",
              "      <td>1065.40</td>\n",
              "      <td>0</td>\n",
              "    </tr>\n",
              "    <tr>\n",
              "      <th>...</th>\n",
              "      <td>...</td>\n",
              "      <td>...</td>\n",
              "      <td>...</td>\n",
              "      <td>...</td>\n",
              "      <td>...</td>\n",
              "      <td>...</td>\n",
              "      <td>...</td>\n",
              "      <td>...</td>\n",
              "      <td>...</td>\n",
              "      <td>...</td>\n",
              "      <td>...</td>\n",
              "      <td>...</td>\n",
              "      <td>...</td>\n",
              "      <td>...</td>\n",
              "      <td>...</td>\n",
              "      <td>...</td>\n",
              "      <td>...</td>\n",
              "      <td>...</td>\n",
              "      <td>...</td>\n",
              "      <td>...</td>\n",
              "      <td>...</td>\n",
              "      <td>...</td>\n",
              "      <td>...</td>\n",
              "      <td>...</td>\n",
              "      <td>...</td>\n",
              "      <td>...</td>\n",
              "      <td>...</td>\n",
              "      <td>...</td>\n",
              "      <td>...</td>\n",
              "      <td>...</td>\n",
              "      <td>...</td>\n",
              "    </tr>\n",
              "    <tr>\n",
              "      <th>262292</th>\n",
              "      <td>262292</td>\n",
              "      <td>-1.650699</td>\n",
              "      <td>-0.502441</td>\n",
              "      <td>-1.099444</td>\n",
              "      <td>-1.137406</td>\n",
              "      <td>2.310900</td>\n",
              "      <td>-0.851110</td>\n",
              "      <td>2.268150</td>\n",
              "      <td>-1.098775</td>\n",
              "      <td>0.387248</td>\n",
              "      <td>1.040539</td>\n",
              "      <td>0.752673</td>\n",
              "      <td>-0.046212</td>\n",
              "      <td>-0.536936</td>\n",
              "      <td>0.035612</td>\n",
              "      <td>-0.433428</td>\n",
              "      <td>-0.497270</td>\n",
              "      <td>-1.193281</td>\n",
              "      <td>0.109266</td>\n",
              "      <td>0.428797</td>\n",
              "      <td>-0.541544</td>\n",
              "      <td>-0.183133</td>\n",
              "      <td>1.099293</td>\n",
              "      <td>0.593657</td>\n",
              "      <td>0.274448</td>\n",
              "      <td>-0.044576</td>\n",
              "      <td>0.016414</td>\n",
              "      <td>-0.141800</td>\n",
              "      <td>-0.231665</td>\n",
              "      <td>77.87</td>\n",
              "      <td>0</td>\n",
              "    </tr>\n",
              "    <tr>\n",
              "      <th>130427</th>\n",
              "      <td>130427</td>\n",
              "      <td>-0.119290</td>\n",
              "      <td>-0.072673</td>\n",
              "      <td>0.954166</td>\n",
              "      <td>-1.748743</td>\n",
              "      <td>-0.629337</td>\n",
              "      <td>-0.262410</td>\n",
              "      <td>-0.107887</td>\n",
              "      <td>-1.046362</td>\n",
              "      <td>-2.774309</td>\n",
              "      <td>1.689599</td>\n",
              "      <td>1.432664</td>\n",
              "      <td>-0.926072</td>\n",
              "      <td>-0.695110</td>\n",
              "      <td>0.156265</td>\n",
              "      <td>0.015220</td>\n",
              "      <td>-1.336662</td>\n",
              "      <td>1.014354</td>\n",
              "      <td>0.085497</td>\n",
              "      <td>0.527959</td>\n",
              "      <td>-0.411975</td>\n",
              "      <td>0.741758</td>\n",
              "      <td>0.253105</td>\n",
              "      <td>-0.015319</td>\n",
              "      <td>0.201732</td>\n",
              "      <td>-0.428462</td>\n",
              "      <td>-0.108378</td>\n",
              "      <td>0.046545</td>\n",
              "      <td>-0.084813</td>\n",
              "      <td>20.00</td>\n",
              "      <td>0</td>\n",
              "    </tr>\n",
              "    <tr>\n",
              "      <th>179605</th>\n",
              "      <td>179605</td>\n",
              "      <td>-1.866509</td>\n",
              "      <td>1.579463</td>\n",
              "      <td>-2.460731</td>\n",
              "      <td>-3.014542</td>\n",
              "      <td>-1.153790</td>\n",
              "      <td>-1.995848</td>\n",
              "      <td>-0.565265</td>\n",
              "      <td>1.174471</td>\n",
              "      <td>-2.747552</td>\n",
              "      <td>1.109428</td>\n",
              "      <td>-1.714561</td>\n",
              "      <td>-0.387278</td>\n",
              "      <td>0.910981</td>\n",
              "      <td>1.032252</td>\n",
              "      <td>-1.241901</td>\n",
              "      <td>-0.451337</td>\n",
              "      <td>0.833070</td>\n",
              "      <td>-0.182511</td>\n",
              "      <td>-0.927294</td>\n",
              "      <td>-0.396580</td>\n",
              "      <td>0.150038</td>\n",
              "      <td>0.666652</td>\n",
              "      <td>0.006923</td>\n",
              "      <td>-0.099619</td>\n",
              "      <td>-0.052937</td>\n",
              "      <td>-0.124371</td>\n",
              "      <td>0.235901</td>\n",
              "      <td>0.187640</td>\n",
              "      <td>7.00</td>\n",
              "      <td>0</td>\n",
              "    </tr>\n",
              "    <tr>\n",
              "      <th>228488</th>\n",
              "      <td>228488</td>\n",
              "      <td>-1.678453</td>\n",
              "      <td>0.274829</td>\n",
              "      <td>1.187605</td>\n",
              "      <td>-2.651908</td>\n",
              "      <td>-1.442267</td>\n",
              "      <td>0.300539</td>\n",
              "      <td>-1.285997</td>\n",
              "      <td>1.263076</td>\n",
              "      <td>-2.586375</td>\n",
              "      <td>0.799995</td>\n",
              "      <td>1.081559</td>\n",
              "      <td>-0.260269</td>\n",
              "      <td>0.032713</td>\n",
              "      <td>0.270147</td>\n",
              "      <td>-0.042083</td>\n",
              "      <td>-0.268440</td>\n",
              "      <td>0.865004</td>\n",
              "      <td>0.068070</td>\n",
              "      <td>-1.420356</td>\n",
              "      <td>-0.341504</td>\n",
              "      <td>0.142903</td>\n",
              "      <td>0.670956</td>\n",
              "      <td>-0.206514</td>\n",
              "      <td>-0.296561</td>\n",
              "      <td>0.431501</td>\n",
              "      <td>-0.046219</td>\n",
              "      <td>0.198932</td>\n",
              "      <td>0.019337</td>\n",
              "      <td>18.42</td>\n",
              "      <td>0</td>\n",
              "    </tr>\n",
              "    <tr>\n",
              "      <th>265241</th>\n",
              "      <td>265241</td>\n",
              "      <td>-0.365785</td>\n",
              "      <td>0.043265</td>\n",
              "      <td>0.701371</td>\n",
              "      <td>-2.606583</td>\n",
              "      <td>-0.518856</td>\n",
              "      <td>-0.463404</td>\n",
              "      <td>0.305894</td>\n",
              "      <td>-1.319847</td>\n",
              "      <td>-2.609619</td>\n",
              "      <td>1.512120</td>\n",
              "      <td>1.067844</td>\n",
              "      <td>0.056204</td>\n",
              "      <td>1.318173</td>\n",
              "      <td>-0.519962</td>\n",
              "      <td>-1.108917</td>\n",
              "      <td>-0.282764</td>\n",
              "      <td>-0.131279</td>\n",
              "      <td>-0.045532</td>\n",
              "      <td>-0.143819</td>\n",
              "      <td>-0.512548</td>\n",
              "      <td>0.331104</td>\n",
              "      <td>-1.029224</td>\n",
              "      <td>0.166928</td>\n",
              "      <td>-0.047767</td>\n",
              "      <td>-0.400935</td>\n",
              "      <td>-0.740919</td>\n",
              "      <td>-0.293058</td>\n",
              "      <td>-0.167446</td>\n",
              "      <td>60.89</td>\n",
              "      <td>0</td>\n",
              "    </tr>\n",
              "  </tbody>\n",
              "</table>\n",
              "<p>81334 rows × 31 columns</p>\n",
              "</div>"
            ],
            "text/plain": [
              "         Index        V1        V2  ...       V28   Amount  Class\n",
              "25          25 -0.177627 -1.450960  ... -0.050647   250.00      0\n",
              "81          81 -1.205141 -0.089466  ...  0.106741   199.00      0\n",
              "83          83 -1.523300 -1.006176  ... -0.017130   370.30      0\n",
              "96          96 -2.389340 -0.253325  ...  0.196985   199.00      0\n",
              "109        109 -0.841021 -2.968521  ...  0.198806  1065.40      0\n",
              "...        ...       ...       ...  ...       ...      ...    ...\n",
              "262292  262292 -1.650699 -0.502441  ... -0.231665    77.87      0\n",
              "130427  130427 -0.119290 -0.072673  ... -0.084813    20.00      0\n",
              "179605  179605 -1.866509  1.579463  ...  0.187640     7.00      0\n",
              "228488  228488 -1.678453  0.274829  ...  0.019337    18.42      0\n",
              "265241  265241 -0.365785  0.043265  ... -0.167446    60.89      0\n",
              "\n",
              "[81334 rows x 31 columns]"
            ]
          },
          "metadata": {
            "tags": []
          },
          "execution_count": 191
        }
      ]
    },
    {
      "cell_type": "code",
      "metadata": {
        "id": "mS4CwvL-TXq0"
      },
      "source": [
        "df_Outlies=df_Outlies[df_Outlies['Class'] !=0]"
      ],
      "execution_count": null,
      "outputs": []
    },
    {
      "cell_type": "code",
      "metadata": {
        "id": "_Az0OvOcVxXv",
        "colab": {
          "base_uri": "https://localhost:8080/"
        },
        "outputId": "2089d1f1-1551-4781-a91a-1508907cd0b9"
      },
      "source": [
        "train.shape"
      ],
      "execution_count": null,
      "outputs": [
        {
          "output_type": "execute_result",
          "data": {
            "text/plain": [
              "(284455, 31)"
            ]
          },
          "metadata": {
            "tags": []
          },
          "execution_count": 193
        }
      ]
    },
    {
      "cell_type": "code",
      "metadata": {
        "id": "sdmUCZwoVnQ5"
      },
      "source": [
        "train=train.drop(Outliers_to_drop,axis=0)"
      ],
      "execution_count": null,
      "outputs": []
    },
    {
      "cell_type": "code",
      "metadata": {
        "id": "08tSsQqYKDtA",
        "colab": {
          "base_uri": "https://localhost:8080/"
        },
        "outputId": "9e75804c-fff4-457a-85b7-fea34c41468d"
      },
      "source": [
        "train.shape"
      ],
      "execution_count": null,
      "outputs": [
        {
          "output_type": "execute_result",
          "data": {
            "text/plain": [
              "(203121, 31)"
            ]
          },
          "metadata": {
            "tags": []
          },
          "execution_count": 195
        }
      ]
    },
    {
      "cell_type": "code",
      "metadata": {
        "id": "codaqxlLVarQ"
      },
      "source": [
        "train = pd.concat([train, df_Outlies])"
      ],
      "execution_count": null,
      "outputs": []
    },
    {
      "cell_type": "code",
      "metadata": {
        "id": "8AapNc-NW5EI",
        "colab": {
          "base_uri": "https://localhost:8080/"
        },
        "outputId": "1b04ca5d-380d-4e15-f193-88aacafb6b6a"
      },
      "source": [
        "train.Class.value_counts()"
      ],
      "execution_count": null,
      "outputs": [
        {
          "output_type": "execute_result",
          "data": {
            "text/plain": [
              "0    203098\n",
              "1       440\n",
              "Name: Class, dtype: int64"
            ]
          },
          "metadata": {
            "tags": []
          },
          "execution_count": 197
        }
      ]
    },
    {
      "cell_type": "code",
      "metadata": {
        "id": "ReGDP6pEXQyh",
        "colab": {
          "base_uri": "https://localhost:8080/"
        },
        "outputId": "ad7eb202-2ade-4bc5-d622-38839307a95c"
      },
      "source": [
        "sns.countplot(train.Class)"
      ],
      "execution_count": null,
      "outputs": [
        {
          "output_type": "stream",
          "text": [
            "/usr/local/lib/python3.6/dist-packages/seaborn/_decorators.py:43: FutureWarning: Pass the following variable as a keyword arg: x. From version 0.12, the only valid positional argument will be `data`, and passing other arguments without an explicit keyword will result in an error or misinterpretation.\n",
            "  FutureWarning\n"
          ],
          "name": "stderr"
        },
        {
          "output_type": "execute_result",
          "data": {
            "text/plain": [
              "<matplotlib.axes._subplots.AxesSubplot at 0x7fd5a3675e80>"
            ]
          },
          "metadata": {
            "tags": []
          },
          "execution_count": 198
        },
        {
          "output_type": "display_data",
          "data": {
            "image/png": "[encoded data removed]",
            "text/plain": [
              "<Figure size 432x288 with 1 Axes>"
            ]
          },
          "metadata": {
            "tags": [],
            "needs_background": "light"
          }
        }
      ]
    },
    {
      "cell_type": "code",
      "metadata": {
        "colab": {
          "base_uri": "https://localhost:8080/"
        },
        "id": "6_yVTRE_vkn4",
        "outputId": "6409d112-7ff9-4263-d02b-693b4cf2f578"
      },
      "source": [
        "train.head(3)"
      ],
      "execution_count": null,
      "outputs": [
        {
          "output_type": "execute_result",
          "data": {
            "text/html": [
              "<div>\n",
              "<style scoped>\n",
              "    .dataframe tbody tr th:only-of-type {\n",
              "        vertical-align: middle;\n",
              "    }\n",
              "\n",
              "    .dataframe tbody tr th {\n",
              "        vertical-align: top;\n",
              "    }\n",
              "\n",
              "    .dataframe thead th {\n",
              "        text-align: right;\n",
              "    }\n",
              "</style>\n",
              "<table border=\"1\" class=\"dataframe\">\n",
              "  <thead>\n",
              "    <tr style=\"text-align: right;\">\n",
              "      <th></th>\n",
              "      <th>Index</th>\n",
              "      <th>V1</th>\n",
              "      <th>V2</th>\n",
              "      <th>V3</th>\n",
              "      <th>V4</th>\n",
              "      <th>V5</th>\n",
              "      <th>V6</th>\n",
              "      <th>V7</th>\n",
              "      <th>V8</th>\n",
              "      <th>V9</th>\n",
              "      <th>V10</th>\n",
              "      <th>V11</th>\n",
              "      <th>V12</th>\n",
              "      <th>V13</th>\n",
              "      <th>V14</th>\n",
              "      <th>V15</th>\n",
              "      <th>V16</th>\n",
              "      <th>V17</th>\n",
              "      <th>V18</th>\n",
              "      <th>V19</th>\n",
              "      <th>V20</th>\n",
              "      <th>V21</th>\n",
              "      <th>V22</th>\n",
              "      <th>V23</th>\n",
              "      <th>V24</th>\n",
              "      <th>V25</th>\n",
              "      <th>V26</th>\n",
              "      <th>V27</th>\n",
              "      <th>V28</th>\n",
              "      <th>Amount</th>\n",
              "      <th>Class</th>\n",
              "    </tr>\n",
              "  </thead>\n",
              "  <tbody>\n",
              "    <tr>\n",
              "      <th>0</th>\n",
              "      <td>0</td>\n",
              "      <td>2.245295</td>\n",
              "      <td>-1.160960</td>\n",
              "      <td>-1.966682</td>\n",
              "      <td>-1.430190</td>\n",
              "      <td>-0.607246</td>\n",
              "      <td>-1.508696</td>\n",
              "      <td>-0.074415</td>\n",
              "      <td>-0.655096</td>\n",
              "      <td>-1.970141</td>\n",
              "      <td>1.607283</td>\n",
              "      <td>-0.780267</td>\n",
              "      <td>-0.294928</td>\n",
              "      <td>1.236719</td>\n",
              "      <td>-0.135565</td>\n",
              "      <td>-0.832677</td>\n",
              "      <td>-1.400205</td>\n",
              "      <td>0.807960</td>\n",
              "      <td>-0.670317</td>\n",
              "      <td>-0.044106</td>\n",
              "      <td>-0.292081</td>\n",
              "      <td>0.010490</td>\n",
              "      <td>0.521714</td>\n",
              "      <td>-0.064971</td>\n",
              "      <td>0.048849</td>\n",
              "      <td>0.383290</td>\n",
              "      <td>0.103970</td>\n",
              "      <td>-0.047350</td>\n",
              "      <td>-0.064800</td>\n",
              "      <td>74.75</td>\n",
              "      <td>0</td>\n",
              "    </tr>\n",
              "    <tr>\n",
              "      <th>1</th>\n",
              "      <td>1</td>\n",
              "      <td>1.278609</td>\n",
              "      <td>0.102574</td>\n",
              "      <td>0.512079</td>\n",
              "      <td>0.003930</td>\n",
              "      <td>-0.723474</td>\n",
              "      <td>-1.334105</td>\n",
              "      <td>0.029958</td>\n",
              "      <td>-0.296595</td>\n",
              "      <td>0.128119</td>\n",
              "      <td>-0.209865</td>\n",
              "      <td>0.188511</td>\n",
              "      <td>0.674525</td>\n",
              "      <td>0.712608</td>\n",
              "      <td>0.122319</td>\n",
              "      <td>1.038024</td>\n",
              "      <td>0.128638</td>\n",
              "      <td>-0.222614</td>\n",
              "      <td>-0.687546</td>\n",
              "      <td>-0.056504</td>\n",
              "      <td>-0.040015</td>\n",
              "      <td>-0.081470</td>\n",
              "      <td>-0.182506</td>\n",
              "      <td>0.078986</td>\n",
              "      <td>0.789993</td>\n",
              "      <td>0.219794</td>\n",
              "      <td>0.938359</td>\n",
              "      <td>-0.078720</td>\n",
              "      <td>0.008119</td>\n",
              "      <td>1.38</td>\n",
              "      <td>0</td>\n",
              "    </tr>\n",
              "    <tr>\n",
              "      <th>2</th>\n",
              "      <td>2</td>\n",
              "      <td>1.466457</td>\n",
              "      <td>0.026088</td>\n",
              "      <td>-0.499298</td>\n",
              "      <td>-0.674372</td>\n",
              "      <td>-0.144883</td>\n",
              "      <td>-1.178075</td>\n",
              "      <td>0.058089</td>\n",
              "      <td>-0.420145</td>\n",
              "      <td>-1.359651</td>\n",
              "      <td>0.210249</td>\n",
              "      <td>-0.033777</td>\n",
              "      <td>-0.001594</td>\n",
              "      <td>1.767471</td>\n",
              "      <td>-1.212943</td>\n",
              "      <td>0.427684</td>\n",
              "      <td>1.252714</td>\n",
              "      <td>0.843412</td>\n",
              "      <td>-1.534474</td>\n",
              "      <td>0.830734</td>\n",
              "      <td>0.207653</td>\n",
              "      <td>-0.234087</td>\n",
              "      <td>-0.710542</td>\n",
              "      <td>-0.001242</td>\n",
              "      <td>-0.174713</td>\n",
              "      <td>0.533719</td>\n",
              "      <td>-0.454779</td>\n",
              "      <td>0.001524</td>\n",
              "      <td>0.030935</td>\n",
              "      <td>10.95</td>\n",
              "      <td>0</td>\n",
              "    </tr>\n",
              "  </tbody>\n",
              "</table>\n",
              "</div>"
            ],
            "text/plain": [
              "   Index        V1        V2        V3  ...       V27       V28  Amount  Class\n",
              "0      0  2.245295 -1.160960 -1.966682  ... -0.047350 -0.064800   74.75      0\n",
              "1      1  1.278609  0.102574  0.512079  ... -0.078720  0.008119    1.38      0\n",
              "2      2  1.466457  0.026088 -0.499298  ...  0.001524  0.030935   10.95      0\n",
              "\n",
              "[3 rows x 31 columns]"
            ]
          },
          "metadata": {
            "tags": []
          },
          "execution_count": 199
        }
      ]
    },
    {
      "cell_type": "code",
      "metadata": {
        "colab": {
          "base_uri": "https://localhost:8080/"
        },
        "id": "6I8CJscsvp7X",
        "outputId": "0251b9cb-c54b-4e20-e0c2-d006ef69ef05"
      },
      "source": [
        "test.head(3)"
      ],
      "execution_count": null,
      "outputs": [
        {
          "output_type": "execute_result",
          "data": {
            "text/html": [
              "<div>\n",
              "<style scoped>\n",
              "    .dataframe tbody tr th:only-of-type {\n",
              "        vertical-align: middle;\n",
              "    }\n",
              "\n",
              "    .dataframe tbody tr th {\n",
              "        vertical-align: top;\n",
              "    }\n",
              "\n",
              "    .dataframe thead th {\n",
              "        text-align: right;\n",
              "    }\n",
              "</style>\n",
              "<table border=\"1\" class=\"dataframe\">\n",
              "  <thead>\n",
              "    <tr style=\"text-align: right;\">\n",
              "      <th></th>\n",
              "      <th>Index</th>\n",
              "      <th>V1</th>\n",
              "      <th>V2</th>\n",
              "      <th>V3</th>\n",
              "      <th>V4</th>\n",
              "      <th>V5</th>\n",
              "      <th>V6</th>\n",
              "      <th>V7</th>\n",
              "      <th>V8</th>\n",
              "      <th>V9</th>\n",
              "      <th>V10</th>\n",
              "      <th>V11</th>\n",
              "      <th>V12</th>\n",
              "      <th>V13</th>\n",
              "      <th>V14</th>\n",
              "      <th>V15</th>\n",
              "      <th>V16</th>\n",
              "      <th>V17</th>\n",
              "      <th>V18</th>\n",
              "      <th>V19</th>\n",
              "      <th>V20</th>\n",
              "      <th>V21</th>\n",
              "      <th>V22</th>\n",
              "      <th>V23</th>\n",
              "      <th>V24</th>\n",
              "      <th>V25</th>\n",
              "      <th>V26</th>\n",
              "      <th>V27</th>\n",
              "      <th>V28</th>\n",
              "      <th>Amount</th>\n",
              "    </tr>\n",
              "  </thead>\n",
              "  <tbody>\n",
              "    <tr>\n",
              "      <th>0</th>\n",
              "      <td>0</td>\n",
              "      <td>1.755477</td>\n",
              "      <td>-0.860198</td>\n",
              "      <td>-1.629185</td>\n",
              "      <td>0.164162</td>\n",
              "      <td>0.027778</td>\n",
              "      <td>-0.330613</td>\n",
              "      <td>0.216770</td>\n",
              "      <td>-0.215280</td>\n",
              "      <td>1.187584</td>\n",
              "      <td>-0.291611</td>\n",
              "      <td>-1.883296</td>\n",
              "      <td>0.107464</td>\n",
              "      <td>-0.180398</td>\n",
              "      <td>0.138906</td>\n",
              "      <td>-0.105876</td>\n",
              "      <td>-0.229330</td>\n",
              "      <td>-0.401810</td>\n",
              "      <td>-0.330877</td>\n",
              "      <td>0.620971</td>\n",
              "      <td>0.135129</td>\n",
              "      <td>-0.122173</td>\n",
              "      <td>-0.503867</td>\n",
              "      <td>-0.063954</td>\n",
              "      <td>-1.047319</td>\n",
              "      <td>-0.016514</td>\n",
              "      <td>-0.039022</td>\n",
              "      <td>-0.058861</td>\n",
              "      <td>-0.035955</td>\n",
              "      <td>186.76</td>\n",
              "    </tr>\n",
              "    <tr>\n",
              "      <th>1</th>\n",
              "      <td>1</td>\n",
              "      <td>-0.706506</td>\n",
              "      <td>1.155627</td>\n",
              "      <td>1.132585</td>\n",
              "      <td>2.742101</td>\n",
              "      <td>1.203095</td>\n",
              "      <td>0.013641</td>\n",
              "      <td>1.200743</td>\n",
              "      <td>-0.273633</td>\n",
              "      <td>-1.323403</td>\n",
              "      <td>1.138185</td>\n",
              "      <td>-1.275816</td>\n",
              "      <td>-1.087457</td>\n",
              "      <td>-0.936612</td>\n",
              "      <td>-0.041733</td>\n",
              "      <td>-1.153523</td>\n",
              "      <td>0.551025</td>\n",
              "      <td>-0.829644</td>\n",
              "      <td>-0.069660</td>\n",
              "      <td>-1.874384</td>\n",
              "      <td>-0.281283</td>\n",
              "      <td>0.352723</td>\n",
              "      <td>1.142657</td>\n",
              "      <td>-0.156382</td>\n",
              "      <td>1.139391</td>\n",
              "      <td>-0.151635</td>\n",
              "      <td>0.063306</td>\n",
              "      <td>-0.284146</td>\n",
              "      <td>-0.015198</td>\n",
              "      <td>21.18</td>\n",
              "    </tr>\n",
              "    <tr>\n",
              "      <th>2</th>\n",
              "      <td>2</td>\n",
              "      <td>1.043717</td>\n",
              "      <td>-0.928666</td>\n",
              "      <td>0.643312</td>\n",
              "      <td>-2.093695</td>\n",
              "      <td>-0.527878</td>\n",
              "      <td>1.420413</td>\n",
              "      <td>-1.053914</td>\n",
              "      <td>0.702897</td>\n",
              "      <td>2.450726</td>\n",
              "      <td>-1.767777</td>\n",
              "      <td>2.057099</td>\n",
              "      <td>2.184425</td>\n",
              "      <td>-0.470463</td>\n",
              "      <td>-0.016315</td>\n",
              "      <td>1.027377</td>\n",
              "      <td>-2.374469</td>\n",
              "      <td>1.332018</td>\n",
              "      <td>-1.536175</td>\n",
              "      <td>0.206623</td>\n",
              "      <td>-0.264045</td>\n",
              "      <td>0.008873</td>\n",
              "      <td>0.568767</td>\n",
              "      <td>0.070359</td>\n",
              "      <td>-0.978165</td>\n",
              "      <td>0.258814</td>\n",
              "      <td>-0.726163</td>\n",
              "      <td>0.176843</td>\n",
              "      <td>0.005530</td>\n",
              "      <td>1.00</td>\n",
              "    </tr>\n",
              "  </tbody>\n",
              "</table>\n",
              "</div>"
            ],
            "text/plain": [
              "   Index        V1        V2        V3  ...       V26       V27       V28  Amount\n",
              "0      0  1.755477 -0.860198 -1.629185  ... -0.039022 -0.058861 -0.035955  186.76\n",
              "1      1 -0.706506  1.155627  1.132585  ...  0.063306 -0.284146 -0.015198   21.18\n",
              "2      2  1.043717 -0.928666  0.643312  ... -0.726163  0.176843  0.005530    1.00\n",
              "\n",
              "[3 rows x 30 columns]"
            ]
          },
          "metadata": {
            "tags": []
          },
          "execution_count": 200
        }
      ]
    },
    {
      "cell_type": "markdown",
      "metadata": {
        "id": "PcGwExjCOMha"
      },
      "source": [
        "# Downsampling"
      ]
    },
    {
      "cell_type": "code",
      "metadata": {
        "id": "YJNTRi_sQVYk",
        "colab": {
          "base_uri": "https://localhost:8080/"
        },
        "outputId": "e196a404-df15-4989-d7bb-fa8c3cfb217e"
      },
      "source": [
        "train.Class.value_counts()"
      ],
      "execution_count": null,
      "outputs": [
        {
          "output_type": "execute_result",
          "data": {
            "text/plain": [
              "0    203098\n",
              "1       440\n",
              "Name: Class, dtype: int64"
            ]
          },
          "metadata": {
            "tags": []
          },
          "execution_count": 201
        }
      ]
    },
    {
      "cell_type": "code",
      "metadata": {
        "id": "v6iLxmNpOPSD",
        "colab": {
          "base_uri": "https://localhost:8080/"
        },
        "outputId": "ed9f104d-ea6b-4bc9-c832-bd30527aa1bd"
      },
      "source": [
        "from sklearn.utils import resample\r\n",
        "df_0 = train[train.Class==0]\r\n",
        "df_1 = train[train.Class!=0]\r\n",
        "df_0.shape"
      ],
      "execution_count": null,
      "outputs": [
        {
          "output_type": "execute_result",
          "data": {
            "text/plain": [
              "(203098, 31)"
            ]
          },
          "metadata": {
            "tags": []
          },
          "execution_count": 202
        }
      ]
    },
    {
      "cell_type": "code",
      "metadata": {
        "id": "qQz9ttYROonm"
      },
      "source": [
        "downsampled_data = resample(df_0,replace=False,n_samples=100000,random_state=43) "
      ],
      "execution_count": null,
      "outputs": []
    },
    {
      "cell_type": "code",
      "metadata": {
        "id": "J3izeollO_dA",
        "colab": {
          "base_uri": "https://localhost:8080/"
        },
        "outputId": "37bf7435-9863-4ca8-fa94-962a42603f58"
      },
      "source": [
        "downsampled_data.shape"
      ],
      "execution_count": null,
      "outputs": [
        {
          "output_type": "execute_result",
          "data": {
            "text/plain": [
              "(100000, 31)"
            ]
          },
          "metadata": {
            "tags": []
          },
          "execution_count": 204
        }
      ]
    },
    {
      "cell_type": "code",
      "metadata": {
        "id": "rMGv_llcPMJv",
        "colab": {
          "base_uri": "https://localhost:8080/"
        },
        "outputId": "69434367-3567-4020-ab5e-4e3af3b210bc"
      },
      "source": [
        "downsampled_data.Class.value_counts()"
      ],
      "execution_count": null,
      "outputs": [
        {
          "output_type": "execute_result",
          "data": {
            "text/plain": [
              "0    100000\n",
              "Name: Class, dtype: int64"
            ]
          },
          "metadata": {
            "tags": []
          },
          "execution_count": 205
        }
      ]
    },
    {
      "cell_type": "code",
      "metadata": {
        "id": "aUraiVX_QHUy"
      },
      "source": [
        "train = pd.concat([downsampled_data, df_1])"
      ],
      "execution_count": null,
      "outputs": []
    },
    {
      "cell_type": "code",
      "metadata": {
        "id": "CYfWyZgCPEgJ",
        "colab": {
          "base_uri": "https://localhost:8080/"
        },
        "outputId": "1e83194b-22e4-4970-a1ef-4ab753d23ddf"
      },
      "source": [
        "train.Class.value_counts()"
      ],
      "execution_count": null,
      "outputs": [
        {
          "output_type": "execute_result",
          "data": {
            "text/plain": [
              "0    100000\n",
              "1       440\n",
              "Name: Class, dtype: int64"
            ]
          },
          "metadata": {
            "tags": []
          },
          "execution_count": 207
        }
      ]
    },
    {
      "cell_type": "code",
      "metadata": {
        "colab": {
          "base_uri": "https://localhost:8080/"
        },
        "id": "35er1_uDwEiL",
        "outputId": "ca45aa13-3a05-48d1-b393-8185e3b40be6"
      },
      "source": [
        "test.sample(3)"
      ],
      "execution_count": null,
      "outputs": [
        {
          "output_type": "execute_result",
          "data": {
            "text/html": [
              "<div>\n",
              "<style scoped>\n",
              "    .dataframe tbody tr th:only-of-type {\n",
              "        vertical-align: middle;\n",
              "    }\n",
              "\n",
              "    .dataframe tbody tr th {\n",
              "        vertical-align: top;\n",
              "    }\n",
              "\n",
              "    .dataframe thead th {\n",
              "        text-align: right;\n",
              "    }\n",
              "</style>\n",
              "<table border=\"1\" class=\"dataframe\">\n",
              "  <thead>\n",
              "    <tr style=\"text-align: right;\">\n",
              "      <th></th>\n",
              "      <th>Index</th>\n",
              "      <th>V1</th>\n",
              "      <th>V2</th>\n",
              "      <th>V3</th>\n",
              "      <th>V4</th>\n",
              "      <th>V5</th>\n",
              "      <th>V6</th>\n",
              "      <th>V7</th>\n",
              "      <th>V8</th>\n",
              "      <th>V9</th>\n",
              "      <th>V10</th>\n",
              "      <th>V11</th>\n",
              "      <th>V12</th>\n",
              "      <th>V13</th>\n",
              "      <th>V14</th>\n",
              "      <th>V15</th>\n",
              "      <th>V16</th>\n",
              "      <th>V17</th>\n",
              "      <th>V18</th>\n",
              "      <th>V19</th>\n",
              "      <th>V20</th>\n",
              "      <th>V21</th>\n",
              "      <th>V22</th>\n",
              "      <th>V23</th>\n",
              "      <th>V24</th>\n",
              "      <th>V25</th>\n",
              "      <th>V26</th>\n",
              "      <th>V27</th>\n",
              "      <th>V28</th>\n",
              "      <th>Amount</th>\n",
              "    </tr>\n",
              "  </thead>\n",
              "  <tbody>\n",
              "    <tr>\n",
              "      <th>151</th>\n",
              "      <td>151</td>\n",
              "      <td>-0.064873</td>\n",
              "      <td>0.832648</td>\n",
              "      <td>1.046668</td>\n",
              "      <td>0.330561</td>\n",
              "      <td>-0.592660</td>\n",
              "      <td>-0.130957</td>\n",
              "      <td>-0.989111</td>\n",
              "      <td>-2.583426</td>\n",
              "      <td>-0.401794</td>\n",
              "      <td>-0.909335</td>\n",
              "      <td>-0.026647</td>\n",
              "      <td>0.032216</td>\n",
              "      <td>-1.277009</td>\n",
              "      <td>0.960289</td>\n",
              "      <td>1.249385</td>\n",
              "      <td>0.152978</td>\n",
              "      <td>0.165568</td>\n",
              "      <td>-0.89481</td>\n",
              "      <td>-0.832616</td>\n",
              "      <td>0.475609</td>\n",
              "      <td>-1.497077</td>\n",
              "      <td>-0.382222</td>\n",
              "      <td>0.170202</td>\n",
              "      <td>0.348060</td>\n",
              "      <td>0.558996</td>\n",
              "      <td>0.162675</td>\n",
              "      <td>-0.013679</td>\n",
              "      <td>0.160925</td>\n",
              "      <td>1.98</td>\n",
              "    </tr>\n",
              "    <tr>\n",
              "      <th>232</th>\n",
              "      <td>232</td>\n",
              "      <td>-0.844413</td>\n",
              "      <td>1.032424</td>\n",
              "      <td>1.090921</td>\n",
              "      <td>-0.671593</td>\n",
              "      <td>-0.006061</td>\n",
              "      <td>-0.621923</td>\n",
              "      <td>0.322604</td>\n",
              "      <td>0.513167</td>\n",
              "      <td>-0.705964</td>\n",
              "      <td>-0.772808</td>\n",
              "      <td>0.588264</td>\n",
              "      <td>0.327030</td>\n",
              "      <td>-0.758512</td>\n",
              "      <td>0.787325</td>\n",
              "      <td>-0.351766</td>\n",
              "      <td>0.965794</td>\n",
              "      <td>-0.888045</td>\n",
              "      <td>0.29974</td>\n",
              "      <td>-0.403316</td>\n",
              "      <td>-0.289995</td>\n",
              "      <td>-0.080023</td>\n",
              "      <td>-0.535090</td>\n",
              "      <td>0.005324</td>\n",
              "      <td>-0.042269</td>\n",
              "      <td>-0.453002</td>\n",
              "      <td>-0.127804</td>\n",
              "      <td>-0.057711</td>\n",
              "      <td>0.053107</td>\n",
              "      <td>0.89</td>\n",
              "    </tr>\n",
              "    <tr>\n",
              "      <th>101</th>\n",
              "      <td>101</td>\n",
              "      <td>1.749337</td>\n",
              "      <td>-0.042090</td>\n",
              "      <td>-1.264897</td>\n",
              "      <td>1.599368</td>\n",
              "      <td>0.041292</td>\n",
              "      <td>-0.803430</td>\n",
              "      <td>0.219798</td>\n",
              "      <td>-0.249512</td>\n",
              "      <td>0.470616</td>\n",
              "      <td>-0.375604</td>\n",
              "      <td>-0.449722</td>\n",
              "      <td>0.571059</td>\n",
              "      <td>0.805131</td>\n",
              "      <td>-1.203540</td>\n",
              "      <td>0.261584</td>\n",
              "      <td>0.354316</td>\n",
              "      <td>0.411209</td>\n",
              "      <td>0.20665</td>\n",
              "      <td>-0.691719</td>\n",
              "      <td>0.051072</td>\n",
              "      <td>0.006782</td>\n",
              "      <td>-0.008180</td>\n",
              "      <td>0.052337</td>\n",
              "      <td>-0.192411</td>\n",
              "      <td>-0.030767</td>\n",
              "      <td>-0.705666</td>\n",
              "      <td>0.033197</td>\n",
              "      <td>0.009011</td>\n",
              "      <td>121.00</td>\n",
              "    </tr>\n",
              "  </tbody>\n",
              "</table>\n",
              "</div>"
            ],
            "text/plain": [
              "     Index        V1        V2        V3  ...       V26       V27       V28  Amount\n",
              "151    151 -0.064873  0.832648  1.046668  ...  0.162675 -0.013679  0.160925    1.98\n",
              "232    232 -0.844413  1.032424  1.090921  ... -0.127804 -0.057711  0.053107    0.89\n",
              "101    101  1.749337 -0.042090 -1.264897  ... -0.705666  0.033197  0.009011  121.00\n",
              "\n",
              "[3 rows x 30 columns]"
            ]
          },
          "metadata": {
            "tags": []
          },
          "execution_count": 208
        }
      ]
    },
    {
      "cell_type": "markdown",
      "metadata": {
        "id": "IDObJ6L-_n1T"
      },
      "source": [
        "# Data Cleaning"
      ]
    },
    {
      "cell_type": "code",
      "metadata": {
        "id": "VOiO-F7SIfgJ",
        "colab": {
          "base_uri": "https://localhost:8080/"
        },
        "outputId": "be23ee07-af35-44e3-9cd5-ec5ec2a84f63"
      },
      "source": [
        "train.info()"
      ],
      "execution_count": null,
      "outputs": [
        {
          "output_type": "stream",
          "text": [
            "<class 'pandas.core.frame.DataFrame'>\n",
            "Int64Index: 100440 entries, 77148 to 163807\n",
            "Data columns (total 31 columns):\n",
            " #   Column  Non-Null Count   Dtype  \n",
            "---  ------  --------------   -----  \n",
            " 0   Index   100440 non-null  int64  \n",
            " 1   V1      100440 non-null  float64\n",
            " 2   V2      100440 non-null  float64\n",
            " 3   V3      100440 non-null  float64\n",
            " 4   V4      100440 non-null  float64\n",
            " 5   V5      100440 non-null  float64\n",
            " 6   V6      100440 non-null  float64\n",
            " 7   V7      100440 non-null  float64\n",
            " 8   V8      100440 non-null  float64\n",
            " 9   V9      100440 non-null  float64\n",
            " 10  V10     100440 non-null  float64\n",
            " 11  V11     100440 non-null  float64\n",
            " 12  V12     100440 non-null  float64\n",
            " 13  V13     100440 non-null  float64\n",
            " 14  V14     100440 non-null  float64\n",
            " 15  V15     100440 non-null  float64\n",
            " 16  V16     100440 non-null  float64\n",
            " 17  V17     100440 non-null  float64\n",
            " 18  V18     100440 non-null  float64\n",
            " 19  V19     100440 non-null  float64\n",
            " 20  V20     100440 non-null  float64\n",
            " 21  V21     100440 non-null  float64\n",
            " 22  V22     100440 non-null  float64\n",
            " 23  V23     100440 non-null  float64\n",
            " 24  V24     100440 non-null  float64\n",
            " 25  V25     100440 non-null  float64\n",
            " 26  V26     100440 non-null  float64\n",
            " 27  V27     100440 non-null  float64\n",
            " 28  V28     100440 non-null  float64\n",
            " 29  Amount  100440 non-null  float64\n",
            " 30  Class   100440 non-null  int64  \n",
            "dtypes: float64(29), int64(2)\n",
            "memory usage: 24.5 MB\n"
          ],
          "name": "stdout"
        }
      ]
    },
    {
      "cell_type": "code",
      "metadata": {
        "id": "6qwU2LaBH7bQ",
        "colab": {
          "base_uri": "https://localhost:8080/"
        },
        "outputId": "ead6b9af-ea73-40d7-ec03-8fe4678bf0dc"
      },
      "source": [
        "train.describe()"
      ],
      "execution_count": null,
      "outputs": [
        {
          "output_type": "execute_result",
          "data": {
            "text/html": [
              "<div>\n",
              "<style scoped>\n",
              "    .dataframe tbody tr th:only-of-type {\n",
              "        vertical-align: middle;\n",
              "    }\n",
              "\n",
              "    .dataframe tbody tr th {\n",
              "        vertical-align: top;\n",
              "    }\n",
              "\n",
              "    .dataframe thead th {\n",
              "        text-align: right;\n",
              "    }\n",
              "</style>\n",
              "<table border=\"1\" class=\"dataframe\">\n",
              "  <thead>\n",
              "    <tr style=\"text-align: right;\">\n",
              "      <th></th>\n",
              "      <th>Index</th>\n",
              "      <th>V1</th>\n",
              "      <th>V2</th>\n",
              "      <th>V3</th>\n",
              "      <th>V4</th>\n",
              "      <th>V5</th>\n",
              "      <th>V6</th>\n",
              "      <th>V7</th>\n",
              "      <th>V8</th>\n",
              "      <th>V9</th>\n",
              "      <th>V10</th>\n",
              "      <th>V11</th>\n",
              "      <th>V12</th>\n",
              "      <th>V13</th>\n",
              "      <th>V14</th>\n",
              "      <th>V15</th>\n",
              "      <th>V16</th>\n",
              "      <th>V17</th>\n",
              "      <th>V18</th>\n",
              "      <th>V19</th>\n",
              "      <th>V20</th>\n",
              "      <th>V21</th>\n",
              "      <th>V22</th>\n",
              "      <th>V23</th>\n",
              "      <th>V24</th>\n",
              "      <th>V25</th>\n",
              "      <th>V26</th>\n",
              "      <th>V27</th>\n",
              "      <th>V28</th>\n",
              "      <th>Amount</th>\n",
              "      <th>Class</th>\n",
              "    </tr>\n",
              "  </thead>\n",
              "  <tbody>\n",
              "    <tr>\n",
              "      <th>count</th>\n",
              "      <td>100440.000000</td>\n",
              "      <td>100440.000000</td>\n",
              "      <td>100440.000000</td>\n",
              "      <td>100440.000000</td>\n",
              "      <td>100440.000000</td>\n",
              "      <td>100440.000000</td>\n",
              "      <td>100440.000000</td>\n",
              "      <td>100440.000000</td>\n",
              "      <td>100440.000000</td>\n",
              "      <td>100440.000000</td>\n",
              "      <td>100440.000000</td>\n",
              "      <td>100440.000000</td>\n",
              "      <td>100440.000000</td>\n",
              "      <td>100440.000000</td>\n",
              "      <td>100440.000000</td>\n",
              "      <td>100440.000000</td>\n",
              "      <td>100440.000000</td>\n",
              "      <td>100440.000000</td>\n",
              "      <td>100440.000000</td>\n",
              "      <td>100440.000000</td>\n",
              "      <td>100440.000000</td>\n",
              "      <td>100440.000000</td>\n",
              "      <td>100440.000000</td>\n",
              "      <td>100440.000000</td>\n",
              "      <td>100440.000000</td>\n",
              "      <td>100440.000000</td>\n",
              "      <td>100440.000000</td>\n",
              "      <td>100440.000000</td>\n",
              "      <td>100440.000000</td>\n",
              "      <td>100440.000000</td>\n",
              "      <td>100440.000000</td>\n",
              "    </tr>\n",
              "    <tr>\n",
              "      <th>mean</th>\n",
              "      <td>141962.516129</td>\n",
              "      <td>0.528309</td>\n",
              "      <td>0.055852</td>\n",
              "      <td>0.130805</td>\n",
              "      <td>0.008317</td>\n",
              "      <td>-0.097448</td>\n",
              "      <td>-0.221400</td>\n",
              "      <td>-0.028352</td>\n",
              "      <td>0.070658</td>\n",
              "      <td>-0.063649</td>\n",
              "      <td>-0.050512</td>\n",
              "      <td>-0.000446</td>\n",
              "      <td>0.067130</td>\n",
              "      <td>-0.033820</td>\n",
              "      <td>-0.023466</td>\n",
              "      <td>0.013243</td>\n",
              "      <td>0.024701</td>\n",
              "      <td>-0.106555</td>\n",
              "      <td>-0.045965</td>\n",
              "      <td>0.029712</td>\n",
              "      <td>-0.057401</td>\n",
              "      <td>-0.025405</td>\n",
              "      <td>-0.018493</td>\n",
              "      <td>-0.003187</td>\n",
              "      <td>-0.002858</td>\n",
              "      <td>0.014814</td>\n",
              "      <td>-0.003629</td>\n",
              "      <td>0.015328</td>\n",
              "      <td>0.012002</td>\n",
              "      <td>46.886666</td>\n",
              "      <td>0.004381</td>\n",
              "    </tr>\n",
              "    <tr>\n",
              "      <th>std</th>\n",
              "      <td>82180.400548</td>\n",
              "      <td>1.370670</td>\n",
              "      <td>0.914351</td>\n",
              "      <td>1.388730</td>\n",
              "      <td>1.243626</td>\n",
              "      <td>0.952430</td>\n",
              "      <td>0.921365</td>\n",
              "      <td>0.935925</td>\n",
              "      <td>0.586361</td>\n",
              "      <td>0.962987</td>\n",
              "      <td>0.865140</td>\n",
              "      <td>1.028603</td>\n",
              "      <td>0.962713</td>\n",
              "      <td>0.977954</td>\n",
              "      <td>0.860869</td>\n",
              "      <td>0.865699</td>\n",
              "      <td>0.839812</td>\n",
              "      <td>0.866944</td>\n",
              "      <td>0.796822</td>\n",
              "      <td>0.707187</td>\n",
              "      <td>0.243854</td>\n",
              "      <td>0.362928</td>\n",
              "      <td>0.674232</td>\n",
              "      <td>0.237197</td>\n",
              "      <td>0.563565</td>\n",
              "      <td>0.445918</td>\n",
              "      <td>0.458024</td>\n",
              "      <td>0.177065</td>\n",
              "      <td>0.101215</td>\n",
              "      <td>68.720074</td>\n",
              "      <td>0.066042</td>\n",
              "    </tr>\n",
              "    <tr>\n",
              "      <th>min</th>\n",
              "      <td>1.000000</td>\n",
              "      <td>-30.552380</td>\n",
              "      <td>-8.402154</td>\n",
              "      <td>-31.103685</td>\n",
              "      <td>-4.407282</td>\n",
              "      <td>-22.105532</td>\n",
              "      <td>-6.406267</td>\n",
              "      <td>-43.557242</td>\n",
              "      <td>-41.044261</td>\n",
              "      <td>-13.434066</td>\n",
              "      <td>-24.588262</td>\n",
              "      <td>-2.988333</td>\n",
              "      <td>-18.683715</td>\n",
              "      <td>-4.008640</td>\n",
              "      <td>-19.214325</td>\n",
              "      <td>-4.498945</td>\n",
              "      <td>-13.563273</td>\n",
              "      <td>-25.162799</td>\n",
              "      <td>-9.335193</td>\n",
              "      <td>-4.223961</td>\n",
              "      <td>-4.128186</td>\n",
              "      <td>-22.797604</td>\n",
              "      <td>-8.887017</td>\n",
              "      <td>-19.254328</td>\n",
              "      <td>-2.775670</td>\n",
              "      <td>-4.781606</td>\n",
              "      <td>-1.524304</td>\n",
              "      <td>-7.263482</td>\n",
              "      <td>-1.869290</td>\n",
              "      <td>0.000000</td>\n",
              "      <td>0.000000</td>\n",
              "    </tr>\n",
              "    <tr>\n",
              "      <th>25%</th>\n",
              "      <td>70570.250000</td>\n",
              "      <td>-0.570151</td>\n",
              "      <td>-0.513762</td>\n",
              "      <td>-0.695803</td>\n",
              "      <td>-0.767646</td>\n",
              "      <td>-0.668513</td>\n",
              "      <td>-0.787004</td>\n",
              "      <td>-0.517950</td>\n",
              "      <td>-0.172105</td>\n",
              "      <td>-0.619186</td>\n",
              "      <td>-0.469601</td>\n",
              "      <td>-0.784844</td>\n",
              "      <td>-0.325926</td>\n",
              "      <td>-0.698885</td>\n",
              "      <td>-0.386550</td>\n",
              "      <td>-0.549603</td>\n",
              "      <td>-0.404668</td>\n",
              "      <td>-0.509585</td>\n",
              "      <td>-0.515499</td>\n",
              "      <td>-0.378518</td>\n",
              "      <td>-0.198550</td>\n",
              "      <td>-0.222113</td>\n",
              "      <td>-0.558826</td>\n",
              "      <td>-0.136390</td>\n",
              "      <td>-0.343463</td>\n",
              "      <td>-0.295968</td>\n",
              "      <td>-0.315950</td>\n",
              "      <td>-0.054910</td>\n",
              "      <td>-0.044034</td>\n",
              "      <td>5.000000</td>\n",
              "      <td>0.000000</td>\n",
              "    </tr>\n",
              "    <tr>\n",
              "      <th>50%</th>\n",
              "      <td>141840.500000</td>\n",
              "      <td>1.050045</td>\n",
              "      <td>0.039528</td>\n",
              "      <td>0.272938</td>\n",
              "      <td>0.039479</td>\n",
              "      <td>-0.105594</td>\n",
              "      <td>-0.366461</td>\n",
              "      <td>0.032122</td>\n",
              "      <td>0.016004</td>\n",
              "      <td>-0.064920</td>\n",
              "      <td>-0.088183</td>\n",
              "      <td>-0.033343</td>\n",
              "      <td>0.191555</td>\n",
              "      <td>-0.022146</td>\n",
              "      <td>0.035404</td>\n",
              "      <td>0.056556</td>\n",
              "      <td>0.088991</td>\n",
              "      <td>-0.124575</td>\n",
              "      <td>-0.048408</td>\n",
              "      <td>0.035095</td>\n",
              "      <td>-0.076185</td>\n",
              "      <td>-0.040206</td>\n",
              "      <td>-0.020692</td>\n",
              "      <td>-0.008832</td>\n",
              "      <td>0.036164</td>\n",
              "      <td>0.028836</td>\n",
              "      <td>-0.045707</td>\n",
              "      <td>0.003201</td>\n",
              "      <td>0.010787</td>\n",
              "      <td>19.900000</td>\n",
              "      <td>0.000000</td>\n",
              "    </tr>\n",
              "    <tr>\n",
              "      <th>75%</th>\n",
              "      <td>213372.250000</td>\n",
              "      <td>1.699891</td>\n",
              "      <td>0.682314</td>\n",
              "      <td>1.060554</td>\n",
              "      <td>0.699407</td>\n",
              "      <td>0.452089</td>\n",
              "      <td>0.148329</td>\n",
              "      <td>0.500486</td>\n",
              "      <td>0.249857</td>\n",
              "      <td>0.520247</td>\n",
              "      <td>0.351957</td>\n",
              "      <td>0.749519</td>\n",
              "      <td>0.640406</td>\n",
              "      <td>0.650126</td>\n",
              "      <td>0.421967</td>\n",
              "      <td>0.643534</td>\n",
              "      <td>0.506076</td>\n",
              "      <td>0.301903</td>\n",
              "      <td>0.429433</td>\n",
              "      <td>0.444207</td>\n",
              "      <td>0.073684</td>\n",
              "      <td>0.154993</td>\n",
              "      <td>0.488105</td>\n",
              "      <td>0.126922</td>\n",
              "      <td>0.407089</td>\n",
              "      <td>0.347089</td>\n",
              "      <td>0.213745</td>\n",
              "      <td>0.070518</td>\n",
              "      <td>0.054011</td>\n",
              "      <td>59.990000</td>\n",
              "      <td>0.000000</td>\n",
              "    </tr>\n",
              "    <tr>\n",
              "      <th>max</th>\n",
              "      <td>284452.000000</td>\n",
              "      <td>2.430507</td>\n",
              "      <td>22.057729</td>\n",
              "      <td>3.867647</td>\n",
              "      <td>12.114672</td>\n",
              "      <td>11.095089</td>\n",
              "      <td>6.474115</td>\n",
              "      <td>5.431271</td>\n",
              "      <td>20.007208</td>\n",
              "      <td>4.608729</td>\n",
              "      <td>4.031435</td>\n",
              "      <td>12.018913</td>\n",
              "      <td>2.218439</td>\n",
              "      <td>4.569009</td>\n",
              "      <td>3.442422</td>\n",
              "      <td>3.032448</td>\n",
              "      <td>3.139656</td>\n",
              "      <td>6.739384</td>\n",
              "      <td>3.790316</td>\n",
              "      <td>4.199153</td>\n",
              "      <td>11.059004</td>\n",
              "      <td>27.202839</td>\n",
              "      <td>8.361985</td>\n",
              "      <td>5.466230</td>\n",
              "      <td>4.014444</td>\n",
              "      <td>2.208209</td>\n",
              "      <td>3.118588</td>\n",
              "      <td>3.052358</td>\n",
              "      <td>1.779364</td>\n",
              "      <td>2125.870000</td>\n",
              "      <td>1.000000</td>\n",
              "    </tr>\n",
              "  </tbody>\n",
              "</table>\n",
              "</div>"
            ],
            "text/plain": [
              "               Index             V1  ...         Amount          Class\n",
              "count  100440.000000  100440.000000  ...  100440.000000  100440.000000\n",
              "mean   141962.516129       0.528309  ...      46.886666       0.004381\n",
              "std     82180.400548       1.370670  ...      68.720074       0.066042\n",
              "min         1.000000     -30.552380  ...       0.000000       0.000000\n",
              "25%     70570.250000      -0.570151  ...       5.000000       0.000000\n",
              "50%    141840.500000       1.050045  ...      19.900000       0.000000\n",
              "75%    213372.250000       1.699891  ...      59.990000       0.000000\n",
              "max    284452.000000       2.430507  ...    2125.870000       1.000000\n",
              "\n",
              "[8 rows x 31 columns]"
            ]
          },
          "metadata": {
            "tags": []
          },
          "execution_count": 210
        }
      ]
    },
    {
      "cell_type": "code",
      "metadata": {
        "id": "z4wOVuOV-3Bz",
        "colab": {
          "base_uri": "https://localhost:8080/"
        },
        "outputId": "e4ec11f9-4ec2-4593-c44d-cb3ae8895dd0"
      },
      "source": [
        "for i in train:\r\n",
        "  print(\"number of null values :\",i,train[i].isnull().any() + train[i].isna().sum())"
      ],
      "execution_count": null,
      "outputs": [
        {
          "output_type": "stream",
          "text": [
            "number of null values : Index 0\n",
            "number of null values : V1 0\n",
            "number of null values : V2 0\n",
            "number of null values : V3 0\n",
            "number of null values : V4 0\n",
            "number of null values : V5 0\n",
            "number of null values : V6 0\n",
            "number of null values : V7 0\n",
            "number of null values : V8 0\n",
            "number of null values : V9 0\n",
            "number of null values : V10 0\n",
            "number of null values : V11 0\n",
            "number of null values : V12 0\n",
            "number of null values : V13 0\n",
            "number of null values : V14 0\n",
            "number of null values : V15 0\n",
            "number of null values : V16 0\n",
            "number of null values : V17 0\n",
            "number of null values : V18 0\n",
            "number of null values : V19 0\n",
            "number of null values : V20 0\n",
            "number of null values : V21 0\n",
            "number of null values : V22 0\n",
            "number of null values : V23 0\n",
            "number of null values : V24 0\n",
            "number of null values : V25 0\n",
            "number of null values : V26 0\n",
            "number of null values : V27 0\n",
            "number of null values : V28 0\n",
            "number of null values : Amount 0\n",
            "number of null values : Class 0\n"
          ],
          "name": "stdout"
        }
      ]
    },
    {
      "cell_type": "code",
      "metadata": {
        "id": "K2wdM1CCF9fS",
        "colab": {
          "base_uri": "https://localhost:8080/"
        },
        "outputId": "2d337d31-e40c-4b68-b4c7-bd636176557f"
      },
      "source": [
        "train.dtypes"
      ],
      "execution_count": null,
      "outputs": [
        {
          "output_type": "execute_result",
          "data": {
            "text/plain": [
              "Index       int64\n",
              "V1        float64\n",
              "V2        float64\n",
              "V3        float64\n",
              "V4        float64\n",
              "V5        float64\n",
              "V6        float64\n",
              "V7        float64\n",
              "V8        float64\n",
              "V9        float64\n",
              "V10       float64\n",
              "V11       float64\n",
              "V12       float64\n",
              "V13       float64\n",
              "V14       float64\n",
              "V15       float64\n",
              "V16       float64\n",
              "V17       float64\n",
              "V18       float64\n",
              "V19       float64\n",
              "V20       float64\n",
              "V21       float64\n",
              "V22       float64\n",
              "V23       float64\n",
              "V24       float64\n",
              "V25       float64\n",
              "V26       float64\n",
              "V27       float64\n",
              "V28       float64\n",
              "Amount    float64\n",
              "Class       int64\n",
              "dtype: object"
            ]
          },
          "metadata": {
            "tags": []
          },
          "execution_count": 212
        }
      ]
    },
    {
      "cell_type": "code",
      "metadata": {
        "colab": {
          "base_uri": "https://localhost:8080/"
        },
        "id": "GGIl13LPwMS5",
        "outputId": "f309f6ce-6e3d-4814-995f-4b6e8b3cb912"
      },
      "source": [
        "test.sample()"
      ],
      "execution_count": null,
      "outputs": [
        {
          "output_type": "execute_result",
          "data": {
            "text/html": [
              "<div>\n",
              "<style scoped>\n",
              "    .dataframe tbody tr th:only-of-type {\n",
              "        vertical-align: middle;\n",
              "    }\n",
              "\n",
              "    .dataframe tbody tr th {\n",
              "        vertical-align: top;\n",
              "    }\n",
              "\n",
              "    .dataframe thead th {\n",
              "        text-align: right;\n",
              "    }\n",
              "</style>\n",
              "<table border=\"1\" class=\"dataframe\">\n",
              "  <thead>\n",
              "    <tr style=\"text-align: right;\">\n",
              "      <th></th>\n",
              "      <th>Index</th>\n",
              "      <th>V1</th>\n",
              "      <th>V2</th>\n",
              "      <th>V3</th>\n",
              "      <th>V4</th>\n",
              "      <th>V5</th>\n",
              "      <th>V6</th>\n",
              "      <th>V7</th>\n",
              "      <th>V8</th>\n",
              "      <th>V9</th>\n",
              "      <th>V10</th>\n",
              "      <th>V11</th>\n",
              "      <th>V12</th>\n",
              "      <th>V13</th>\n",
              "      <th>V14</th>\n",
              "      <th>V15</th>\n",
              "      <th>V16</th>\n",
              "      <th>V17</th>\n",
              "      <th>V18</th>\n",
              "      <th>V19</th>\n",
              "      <th>V20</th>\n",
              "      <th>V21</th>\n",
              "      <th>V22</th>\n",
              "      <th>V23</th>\n",
              "      <th>V24</th>\n",
              "      <th>V25</th>\n",
              "      <th>V26</th>\n",
              "      <th>V27</th>\n",
              "      <th>V28</th>\n",
              "      <th>Amount</th>\n",
              "    </tr>\n",
              "  </thead>\n",
              "  <tbody>\n",
              "    <tr>\n",
              "      <th>235</th>\n",
              "      <td>235</td>\n",
              "      <td>0.605121</td>\n",
              "      <td>2.137795</td>\n",
              "      <td>-0.584328</td>\n",
              "      <td>4.806012</td>\n",
              "      <td>1.926058</td>\n",
              "      <td>0.440298</td>\n",
              "      <td>1.010309</td>\n",
              "      <td>-0.476624</td>\n",
              "      <td>-0.05042</td>\n",
              "      <td>1.069576</td>\n",
              "      <td>0.119231</td>\n",
              "      <td>-3.865152</td>\n",
              "      <td>2.114368</td>\n",
              "      <td>-1.685091</td>\n",
              "      <td>0.035085</td>\n",
              "      <td>0.666458</td>\n",
              "      <td>2.505683</td>\n",
              "      <td>1.237031</td>\n",
              "      <td>0.85726</td>\n",
              "      <td>0.5719</td>\n",
              "      <td>-0.750998</td>\n",
              "      <td>-1.243716</td>\n",
              "      <td>-0.009157</td>\n",
              "      <td>-1.416247</td>\n",
              "      <td>-0.606659</td>\n",
              "      <td>0.024835</td>\n",
              "      <td>0.064254</td>\n",
              "      <td>-0.312506</td>\n",
              "      <td>4.32</td>\n",
              "    </tr>\n",
              "  </tbody>\n",
              "</table>\n",
              "</div>"
            ],
            "text/plain": [
              "     Index        V1        V2        V3  ...       V26       V27       V28  Amount\n",
              "235    235  0.605121  2.137795 -0.584328  ...  0.024835  0.064254 -0.312506    4.32\n",
              "\n",
              "[1 rows x 30 columns]"
            ]
          },
          "metadata": {
            "tags": []
          },
          "execution_count": 213
        }
      ]
    },
    {
      "cell_type": "markdown",
      "metadata": {
        "id": "e44jrFvsGogo"
      },
      "source": [
        "# Feature Analysis"
      ]
    },
    {
      "cell_type": "code",
      "metadata": {
        "id": "hRF6niwfGrEO",
        "colab": {
          "base_uri": "https://localhost:8080/",
          "height": 884
        },
        "outputId": "5f4b7021-55ba-49b1-d6b9-477e2cd12f69"
      },
      "source": [
        "sns.heatmap(train.corr(),annot=True, fmt = \".2f\", cmap = \"coolwarm\",linewidths=0.1)\r\n",
        "fig=plt.gcf()\r\n",
        "fig.set_size_inches(18,15)"
      ],
      "execution_count": null,
      "outputs": [
        {
          "output_type": "display_data",
          "data": {
            "image/png": "[encoded data removed]",
            "text/plain": [
              "<Figure size 1296x1080 with 2 Axes>"
            ]
          },
          "metadata": {
            "tags": [],
            "needs_background": "light"
          }
        }
      ]
    },
    {
      "cell_type": "code",
      "metadata": {
        "id": "P0RKZ-KPM5dc",
        "colab": {
          "base_uri": "https://localhost:8080/"
        },
        "outputId": "20367c46-53a6-42ac-a7ee-0930add14ce7"
      },
      "source": [
        "train.columns"
      ],
      "execution_count": null,
      "outputs": [
        {
          "output_type": "execute_result",
          "data": {
            "text/plain": [
              "Index(['Index', 'V1', 'V2', 'V3', 'V4', 'V5', 'V6', 'V7', 'V8', 'V9', 'V10',\n",
              "       'V11', 'V12', 'V13', 'V14', 'V15', 'V16', 'V17', 'V18', 'V19', 'V20',\n",
              "       'V21', 'V22', 'V23', 'V24', 'V25', 'V26', 'V27', 'V28', 'Amount',\n",
              "       'Class'],\n",
              "      dtype='object')"
            ]
          },
          "metadata": {
            "tags": []
          },
          "execution_count": 215
        }
      ]
    },
    {
      "cell_type": "code",
      "metadata": {
        "id": "SS98P0WSJtqc",
        "colab": {
          "base_uri": "https://localhost:8080/",
          "height": 352
        },
        "outputId": "e4ca39c5-ea8f-4f6d-e8f2-96c79868c409"
      },
      "source": [
        "sns.scatterplot('V8','V6',data=train,hue=\"Class\")"
      ],
      "execution_count": null,
      "outputs": [
        {
          "output_type": "stream",
          "text": [
            "/usr/local/lib/python3.6/dist-packages/seaborn/_decorators.py:43: FutureWarning: Pass the following variables as keyword args: x, y. From version 0.12, the only valid positional argument will be `data`, and passing other arguments without an explicit keyword will result in an error or misinterpretation.\n",
            "  FutureWarning\n"
          ],
          "name": "stderr"
        },
        {
          "output_type": "execute_result",
          "data": {
            "text/plain": [
              "<matplotlib.axes._subplots.AxesSubplot at 0x7fd5a5c81438>"
            ]
          },
          "metadata": {
            "tags": []
          },
          "execution_count": 216
        },
        {
          "output_type": "display_data",
          "data": {
            "image/png": "[encoded data removed]",
            "text/plain": [
              "<Figure size 432x288 with 1 Axes>"
            ]
          },
          "metadata": {
            "tags": [],
            "needs_background": "light"
          }
        }
      ]
    },
    {
      "cell_type": "code",
      "metadata": {
        "id": "Bo4NY7xkNExX"
      },
      "source": [
        "#ns.stripplot('V7','V2',data=train,hue=\"Class\")"
      ],
      "execution_count": null,
      "outputs": []
    },
    {
      "cell_type": "code",
      "metadata": {
        "id": "G3WU9YXpNQP7"
      },
      "source": [
        "#sns.displot('V21','V22',data=train,hue=\"Class\")"
      ],
      "execution_count": null,
      "outputs": []
    },
    {
      "cell_type": "code",
      "metadata": {
        "id": "I2MfLrgYNtBl"
      },
      "source": [
        "#sns.violinplot('V21','V22',data=train,hue=\"Class\")"
      ],
      "execution_count": null,
      "outputs": []
    },
    {
      "cell_type": "code",
      "metadata": {
        "id": "PcCb8PofO9Gv"
      },
      "source": [
        "#sns.catplot(x='V27',y='V28',data=train,hue=\"Class\")"
      ],
      "execution_count": null,
      "outputs": []
    },
    {
      "cell_type": "markdown",
      "metadata": {
        "id": "iAlfW0tLVKX1"
      },
      "source": [
        "# Train_Test_Split"
      ]
    },
    {
      "cell_type": "code",
      "metadata": {
        "id": "ZOT6-Z3POOQG",
        "colab": {
          "base_uri": "https://localhost:8080/"
        },
        "outputId": "da53882f-12ae-45c1-8aa8-80f2a1a94039"
      },
      "source": [
        "print(train.shape)\r\n",
        "print(test.shape)"
      ],
      "execution_count": null,
      "outputs": [
        {
          "output_type": "stream",
          "text": [
            "(100440, 31)\n",
            "(352, 30)\n"
          ],
          "name": "stdout"
        }
      ]
    },
    {
      "cell_type": "code",
      "metadata": {
        "id": "bSD3VQ9lIxay"
      },
      "source": [
        "X=train.drop(\"Class\",inplace=False,axis=1)\r\n",
        "y=train.Class"
      ],
      "execution_count": null,
      "outputs": []
    },
    {
      "cell_type": "code",
      "metadata": {
        "id": "xCpDgb2cVZGX"
      },
      "source": [
        "from sklearn.model_selection  import train_test_split\r\n",
        "X_train, X_test, y_train, y_test = train_test_split(X, y, test_size=0.33, random_state=42)"
      ],
      "execution_count": null,
      "outputs": []
    },
    {
      "cell_type": "code",
      "metadata": {
        "colab": {
          "base_uri": "https://localhost:8080/"
        },
        "id": "e4TqY4RNk_z4",
        "outputId": "9f1b6142-905d-4c7f-ca8f-8376a6d3269c"
      },
      "source": [
        "print(X_train.shape)\r\n",
        "print(X_test.shape)\r\n",
        "print(y_train.shape)\r\n",
        "print(y_test.shape)"
      ],
      "execution_count": null,
      "outputs": [
        {
          "output_type": "stream",
          "text": [
            "(67294, 30)\n",
            "(33146, 30)\n",
            "(67294,)\n",
            "(33146,)\n"
          ],
          "name": "stdout"
        }
      ]
    },
    {
      "cell_type": "code",
      "metadata": {
        "colab": {
          "base_uri": "https://localhost:8080/",
          "height": 97
        },
        "id": "Qaj7mrauwZod",
        "outputId": "ec76d379-c64b-40ef-c947-3c62b326fb3d"
      },
      "source": [
        "test.sample()"
      ],
      "execution_count": null,
      "outputs": [
        {
          "output_type": "execute_result",
          "data": {
            "text/html": [
              "<div>\n",
              "<style scoped>\n",
              "    .dataframe tbody tr th:only-of-type {\n",
              "        vertical-align: middle;\n",
              "    }\n",
              "\n",
              "    .dataframe tbody tr th {\n",
              "        vertical-align: top;\n",
              "    }\n",
              "\n",
              "    .dataframe thead th {\n",
              "        text-align: right;\n",
              "    }\n",
              "</style>\n",
              "<table border=\"1\" class=\"dataframe\">\n",
              "  <thead>\n",
              "    <tr style=\"text-align: right;\">\n",
              "      <th></th>\n",
              "      <th>Index</th>\n",
              "      <th>V1</th>\n",
              "      <th>V2</th>\n",
              "      <th>V3</th>\n",
              "      <th>V4</th>\n",
              "      <th>V5</th>\n",
              "      <th>V6</th>\n",
              "      <th>V7</th>\n",
              "      <th>V8</th>\n",
              "      <th>V9</th>\n",
              "      <th>V10</th>\n",
              "      <th>V11</th>\n",
              "      <th>V12</th>\n",
              "      <th>V13</th>\n",
              "      <th>V14</th>\n",
              "      <th>V15</th>\n",
              "      <th>V16</th>\n",
              "      <th>V17</th>\n",
              "      <th>V18</th>\n",
              "      <th>V19</th>\n",
              "      <th>V20</th>\n",
              "      <th>V21</th>\n",
              "      <th>V22</th>\n",
              "      <th>V23</th>\n",
              "      <th>V24</th>\n",
              "      <th>V25</th>\n",
              "      <th>V26</th>\n",
              "      <th>V27</th>\n",
              "      <th>V28</th>\n",
              "      <th>Amount</th>\n",
              "    </tr>\n",
              "  </thead>\n",
              "  <tbody>\n",
              "    <tr>\n",
              "      <th>173</th>\n",
              "      <td>173</td>\n",
              "      <td>0.288029</td>\n",
              "      <td>0.965681</td>\n",
              "      <td>-1.459495</td>\n",
              "      <td>1.921863</td>\n",
              "      <td>-1.912414</td>\n",
              "      <td>-1.130282</td>\n",
              "      <td>-2.814263</td>\n",
              "      <td>0.648663</td>\n",
              "      <td>-0.695263</td>\n",
              "      <td>-3.465689</td>\n",
              "      <td>2.351619</td>\n",
              "      <td>-3.826705</td>\n",
              "      <td>-0.76757</td>\n",
              "      <td>-4.852867</td>\n",
              "      <td>1.664863</td>\n",
              "      <td>-2.617361</td>\n",
              "      <td>-4.835558</td>\n",
              "      <td>-1.921752</td>\n",
              "      <td>-0.385884</td>\n",
              "      <td>0.330917</td>\n",
              "      <td>0.603127</td>\n",
              "      <td>0.38069</td>\n",
              "      <td>-0.064125</td>\n",
              "      <td>0.27138</td>\n",
              "      <td>0.33722</td>\n",
              "      <td>0.626156</td>\n",
              "      <td>0.565125</td>\n",
              "      <td>0.305925</td>\n",
              "      <td>23.36</td>\n",
              "    </tr>\n",
              "  </tbody>\n",
              "</table>\n",
              "</div>"
            ],
            "text/plain": [
              "     Index        V1        V2        V3  ...       V26       V27       V28  Amount\n",
              "173    173  0.288029  0.965681 -1.459495  ...  0.626156  0.565125  0.305925   23.36\n",
              "\n",
              "[1 rows x 30 columns]"
            ]
          },
          "metadata": {
            "tags": []
          },
          "execution_count": 225
        }
      ]
    },
    {
      "cell_type": "markdown",
      "metadata": {
        "id": "yxVOFqeFIx0N"
      },
      "source": [
        "# Modeling"
      ]
    },
    {
      "cell_type": "code",
      "metadata": {
        "id": "5dRDUhQLPb7b"
      },
      "source": [
        "from sklearn.linear_model import LogisticRegression\r\n",
        "from sklearn.svm import SVC\r\n",
        "from sklearn.naive_bayes import GaussianNB\r\n",
        "from sklearn.tree import DecisionTreeClassifier\r\n",
        "from sklearn.ensemble import  RandomForestClassifier,AdaBoostClassifier,GradientBoostingClassifier\r\n",
        "from sklearn.metrics import confusion_matrix\r\n",
        "from xgboost import XGBClassifier"
      ],
      "execution_count": null,
      "outputs": []
    },
    {
      "cell_type": "code",
      "metadata": {
        "id": "DR1lP-JHeL5_"
      },
      "source": [
        "from sklearn.preprocessing import StandardScaler\r\n",
        "scaler = StandardScaler() \r\n",
        "X_train = scaler.fit_transform(X_train) \r\n",
        "X_test = scaler.transform(X_test)"
      ],
      "execution_count": null,
      "outputs": []
    },
    {
      "cell_type": "code",
      "metadata": {
        "colab": {
          "base_uri": "https://localhost:8080/",
          "height": 217
        },
        "id": "M3_X5Y29xamp",
        "outputId": "031e4e4e-a88c-4b0f-fed5-721407eb7bfc"
      },
      "source": [
        "test.sample(5)"
      ],
      "execution_count": null,
      "outputs": [
        {
          "output_type": "execute_result",
          "data": {
            "text/html": [
              "<div>\n",
              "<style scoped>\n",
              "    .dataframe tbody tr th:only-of-type {\n",
              "        vertical-align: middle;\n",
              "    }\n",
              "\n",
              "    .dataframe tbody tr th {\n",
              "        vertical-align: top;\n",
              "    }\n",
              "\n",
              "    .dataframe thead th {\n",
              "        text-align: right;\n",
              "    }\n",
              "</style>\n",
              "<table border=\"1\" class=\"dataframe\">\n",
              "  <thead>\n",
              "    <tr style=\"text-align: right;\">\n",
              "      <th></th>\n",
              "      <th>Index</th>\n",
              "      <th>V1</th>\n",
              "      <th>V2</th>\n",
              "      <th>V3</th>\n",
              "      <th>V4</th>\n",
              "      <th>V5</th>\n",
              "      <th>V6</th>\n",
              "      <th>V7</th>\n",
              "      <th>V8</th>\n",
              "      <th>V9</th>\n",
              "      <th>V10</th>\n",
              "      <th>V11</th>\n",
              "      <th>V12</th>\n",
              "      <th>V13</th>\n",
              "      <th>V14</th>\n",
              "      <th>V15</th>\n",
              "      <th>V16</th>\n",
              "      <th>V17</th>\n",
              "      <th>V18</th>\n",
              "      <th>V19</th>\n",
              "      <th>V20</th>\n",
              "      <th>V21</th>\n",
              "      <th>V22</th>\n",
              "      <th>V23</th>\n",
              "      <th>V24</th>\n",
              "      <th>V25</th>\n",
              "      <th>V26</th>\n",
              "      <th>V27</th>\n",
              "      <th>V28</th>\n",
              "      <th>Amount</th>\n",
              "    </tr>\n",
              "  </thead>\n",
              "  <tbody>\n",
              "    <tr>\n",
              "      <th>22</th>\n",
              "      <td>22</td>\n",
              "      <td>-0.085720</td>\n",
              "      <td>-0.336401</td>\n",
              "      <td>1.063106</td>\n",
              "      <td>-1.989851</td>\n",
              "      <td>-0.420500</td>\n",
              "      <td>-0.702486</td>\n",
              "      <td>0.180025</td>\n",
              "      <td>-0.071758</td>\n",
              "      <td>-0.612337</td>\n",
              "      <td>-0.303581</td>\n",
              "      <td>-1.128847</td>\n",
              "      <td>-0.358226</td>\n",
              "      <td>0.490237</td>\n",
              "      <td>-0.800098</td>\n",
              "      <td>-1.214640</td>\n",
              "      <td>1.200828</td>\n",
              "      <td>-0.008127</td>\n",
              "      <td>-1.800974</td>\n",
              "      <td>0.195507</td>\n",
              "      <td>0.115676</td>\n",
              "      <td>-0.150736</td>\n",
              "      <td>-0.577610</td>\n",
              "      <td>0.184696</td>\n",
              "      <td>-0.152854</td>\n",
              "      <td>-0.136151</td>\n",
              "      <td>-0.657096</td>\n",
              "      <td>-0.043659</td>\n",
              "      <td>-0.040738</td>\n",
              "      <td>59.02</td>\n",
              "    </tr>\n",
              "    <tr>\n",
              "      <th>266</th>\n",
              "      <td>266</td>\n",
              "      <td>1.114285</td>\n",
              "      <td>-0.127943</td>\n",
              "      <td>0.995079</td>\n",
              "      <td>1.012772</td>\n",
              "      <td>-0.374225</td>\n",
              "      <td>0.996565</td>\n",
              "      <td>-0.734055</td>\n",
              "      <td>0.403424</td>\n",
              "      <td>0.628966</td>\n",
              "      <td>-0.085306</td>\n",
              "      <td>0.566510</td>\n",
              "      <td>1.191580</td>\n",
              "      <td>0.355400</td>\n",
              "      <td>-0.236744</td>\n",
              "      <td>-0.253327</td>\n",
              "      <td>0.168326</td>\n",
              "      <td>-0.488067</td>\n",
              "      <td>0.171041</td>\n",
              "      <td>-0.023177</td>\n",
              "      <td>-0.111515</td>\n",
              "      <td>-0.024446</td>\n",
              "      <td>0.151502</td>\n",
              "      <td>-0.076415</td>\n",
              "      <td>-0.649627</td>\n",
              "      <td>0.414002</td>\n",
              "      <td>-0.355421</td>\n",
              "      <td>0.086117</td>\n",
              "      <td>0.018537</td>\n",
              "      <td>9.99</td>\n",
              "    </tr>\n",
              "    <tr>\n",
              "      <th>197</th>\n",
              "      <td>197</td>\n",
              "      <td>-0.173662</td>\n",
              "      <td>-0.644558</td>\n",
              "      <td>-1.395550</td>\n",
              "      <td>-3.211348</td>\n",
              "      <td>0.569052</td>\n",
              "      <td>4.069810</td>\n",
              "      <td>-0.940384</td>\n",
              "      <td>1.214127</td>\n",
              "      <td>-1.960372</td>\n",
              "      <td>0.981047</td>\n",
              "      <td>-0.551452</td>\n",
              "      <td>-0.956995</td>\n",
              "      <td>0.374235</td>\n",
              "      <td>-0.206532</td>\n",
              "      <td>0.126003</td>\n",
              "      <td>-0.526494</td>\n",
              "      <td>0.526413</td>\n",
              "      <td>0.110480</td>\n",
              "      <td>-0.075555</td>\n",
              "      <td>-0.516837</td>\n",
              "      <td>-0.006844</td>\n",
              "      <td>0.298987</td>\n",
              "      <td>0.276928</td>\n",
              "      <td>0.689326</td>\n",
              "      <td>-0.856678</td>\n",
              "      <td>-0.225737</td>\n",
              "      <td>-0.108292</td>\n",
              "      <td>-0.002892</td>\n",
              "      <td>138.00</td>\n",
              "    </tr>\n",
              "    <tr>\n",
              "      <th>126</th>\n",
              "      <td>126</td>\n",
              "      <td>1.999852</td>\n",
              "      <td>-1.128660</td>\n",
              "      <td>0.209440</td>\n",
              "      <td>-0.530183</td>\n",
              "      <td>-1.227929</td>\n",
              "      <td>0.694198</td>\n",
              "      <td>-1.506686</td>\n",
              "      <td>0.324265</td>\n",
              "      <td>3.605142</td>\n",
              "      <td>-1.198039</td>\n",
              "      <td>-2.520906</td>\n",
              "      <td>1.043896</td>\n",
              "      <td>0.311991</td>\n",
              "      <td>-1.305258</td>\n",
              "      <td>-0.852452</td>\n",
              "      <td>-0.705335</td>\n",
              "      <td>-0.169727</td>\n",
              "      <td>0.638872</td>\n",
              "      <td>1.209236</td>\n",
              "      <td>-0.224268</td>\n",
              "      <td>0.066095</td>\n",
              "      <td>0.921168</td>\n",
              "      <td>-0.053583</td>\n",
              "      <td>-0.948984</td>\n",
              "      <td>0.153628</td>\n",
              "      <td>-0.752294</td>\n",
              "      <td>0.167795</td>\n",
              "      <td>-0.030466</td>\n",
              "      <td>0.02</td>\n",
              "    </tr>\n",
              "    <tr>\n",
              "      <th>289</th>\n",
              "      <td>289</td>\n",
              "      <td>-3.309490</td>\n",
              "      <td>0.601716</td>\n",
              "      <td>0.515406</td>\n",
              "      <td>-0.824929</td>\n",
              "      <td>0.220141</td>\n",
              "      <td>1.244638</td>\n",
              "      <td>-4.946696</td>\n",
              "      <td>-7.274417</td>\n",
              "      <td>-1.779976</td>\n",
              "      <td>-0.915022</td>\n",
              "      <td>-0.301775</td>\n",
              "      <td>0.358775</td>\n",
              "      <td>-1.690556</td>\n",
              "      <td>1.523561</td>\n",
              "      <td>-0.233920</td>\n",
              "      <td>-0.379582</td>\n",
              "      <td>0.084613</td>\n",
              "      <td>1.960585</td>\n",
              "      <td>-0.401453</td>\n",
              "      <td>1.000108</td>\n",
              "      <td>-4.478904</td>\n",
              "      <td>-0.461893</td>\n",
              "      <td>-1.211384</td>\n",
              "      <td>0.313232</td>\n",
              "      <td>-0.581804</td>\n",
              "      <td>0.004741</td>\n",
              "      <td>-0.228416</td>\n",
              "      <td>-0.170201</td>\n",
              "      <td>41.96</td>\n",
              "    </tr>\n",
              "  </tbody>\n",
              "</table>\n",
              "</div>"
            ],
            "text/plain": [
              "     Index        V1        V2        V3  ...       V26       V27       V28  Amount\n",
              "22      22 -0.085720 -0.336401  1.063106  ... -0.657096 -0.043659 -0.040738   59.02\n",
              "266    266  1.114285 -0.127943  0.995079  ... -0.355421  0.086117  0.018537    9.99\n",
              "197    197 -0.173662 -0.644558 -1.395550  ... -0.225737 -0.108292 -0.002892  138.00\n",
              "126    126  1.999852 -1.128660  0.209440  ... -0.752294  0.167795 -0.030466    0.02\n",
              "289    289 -3.309490  0.601716  0.515406  ...  0.004741 -0.228416 -0.170201   41.96\n",
              "\n",
              "[5 rows x 30 columns]"
            ]
          },
          "metadata": {
            "tags": []
          },
          "execution_count": 228
        }
      ]
    },
    {
      "cell_type": "code",
      "metadata": {
        "id": "cCDBBCZZpLBS"
      },
      "source": [
        "test =pd.DataFrame(scaler.transform(test))"
      ],
      "execution_count": null,
      "outputs": []
    },
    {
      "cell_type": "code",
      "metadata": {
        "colab": {
          "base_uri": "https://localhost:8080/",
          "height": 217
        },
        "id": "P7Dm3tLRxfkv",
        "outputId": "0d08d54f-bd3f-480b-f28f-207d43dc3fb1"
      },
      "source": [
        "test.sample(5)"
      ],
      "execution_count": null,
      "outputs": [
        {
          "output_type": "execute_result",
          "data": {
            "text/html": [
              "<div>\n",
              "<style scoped>\n",
              "    .dataframe tbody tr th:only-of-type {\n",
              "        vertical-align: middle;\n",
              "    }\n",
              "\n",
              "    .dataframe tbody tr th {\n",
              "        vertical-align: top;\n",
              "    }\n",
              "\n",
              "    .dataframe thead th {\n",
              "        text-align: right;\n",
              "    }\n",
              "</style>\n",
              "<table border=\"1\" class=\"dataframe\">\n",
              "  <thead>\n",
              "    <tr style=\"text-align: right;\">\n",
              "      <th></th>\n",
              "      <th>0</th>\n",
              "      <th>1</th>\n",
              "      <th>2</th>\n",
              "      <th>3</th>\n",
              "      <th>4</th>\n",
              "      <th>5</th>\n",
              "      <th>6</th>\n",
              "      <th>7</th>\n",
              "      <th>8</th>\n",
              "      <th>9</th>\n",
              "      <th>10</th>\n",
              "      <th>11</th>\n",
              "      <th>12</th>\n",
              "      <th>13</th>\n",
              "      <th>14</th>\n",
              "      <th>15</th>\n",
              "      <th>16</th>\n",
              "      <th>17</th>\n",
              "      <th>18</th>\n",
              "      <th>19</th>\n",
              "      <th>20</th>\n",
              "      <th>21</th>\n",
              "      <th>22</th>\n",
              "      <th>23</th>\n",
              "      <th>24</th>\n",
              "      <th>25</th>\n",
              "      <th>26</th>\n",
              "      <th>27</th>\n",
              "      <th>28</th>\n",
              "      <th>29</th>\n",
              "    </tr>\n",
              "  </thead>\n",
              "  <tbody>\n",
              "    <tr>\n",
              "      <th>93</th>\n",
              "      <td>-1.722673</td>\n",
              "      <td>-0.940454</td>\n",
              "      <td>1.152877</td>\n",
              "      <td>0.313577</td>\n",
              "      <td>-0.340299</td>\n",
              "      <td>-0.094853</td>\n",
              "      <td>-0.140425</td>\n",
              "      <td>0.237134</td>\n",
              "      <td>0.246759</td>\n",
              "      <td>0.798549</td>\n",
              "      <td>-0.023912</td>\n",
              "      <td>1.052423</td>\n",
              "      <td>0.155543</td>\n",
              "      <td>-0.556481</td>\n",
              "      <td>-1.695911</td>\n",
              "      <td>-0.311773</td>\n",
              "      <td>0.988353</td>\n",
              "      <td>0.284121</td>\n",
              "      <td>1.558424</td>\n",
              "      <td>-0.949509</td>\n",
              "      <td>1.156818</td>\n",
              "      <td>0.523621</td>\n",
              "      <td>1.226371</td>\n",
              "      <td>-0.945316</td>\n",
              "      <td>-0.095809</td>\n",
              "      <td>0.146686</td>\n",
              "      <td>1.025918</td>\n",
              "      <td>1.711553</td>\n",
              "      <td>1.677138</td>\n",
              "      <td>-0.318695</td>\n",
              "    </tr>\n",
              "    <tr>\n",
              "      <th>145</th>\n",
              "      <td>-1.722041</td>\n",
              "      <td>-0.501949</td>\n",
              "      <td>-1.305137</td>\n",
              "      <td>1.612388</td>\n",
              "      <td>-1.676476</td>\n",
              "      <td>-1.617695</td>\n",
              "      <td>1.251069</td>\n",
              "      <td>-0.648455</td>\n",
              "      <td>-0.357146</td>\n",
              "      <td>-1.299657</td>\n",
              "      <td>1.885602</td>\n",
              "      <td>0.290751</td>\n",
              "      <td>-1.345129</td>\n",
              "      <td>-0.010018</td>\n",
              "      <td>-1.392776</td>\n",
              "      <td>0.324367</td>\n",
              "      <td>-0.232530</td>\n",
              "      <td>0.110966</td>\n",
              "      <td>1.984783</td>\n",
              "      <td>1.180808</td>\n",
              "      <td>0.011897</td>\n",
              "      <td>0.213707</td>\n",
              "      <td>1.470044</td>\n",
              "      <td>-0.633111</td>\n",
              "      <td>-0.832238</td>\n",
              "      <td>-1.284835</td>\n",
              "      <td>0.117270</td>\n",
              "      <td>-1.204582</td>\n",
              "      <td>-3.278233</td>\n",
              "      <td>0.958103</td>\n",
              "    </tr>\n",
              "    <tr>\n",
              "      <th>252</th>\n",
              "      <td>-1.720740</td>\n",
              "      <td>0.544242</td>\n",
              "      <td>-0.725634</td>\n",
              "      <td>-0.048563</td>\n",
              "      <td>-0.573128</td>\n",
              "      <td>-0.547049</td>\n",
              "      <td>-0.105747</td>\n",
              "      <td>-0.310278</td>\n",
              "      <td>-0.340889</td>\n",
              "      <td>-0.954539</td>\n",
              "      <td>0.728191</td>\n",
              "      <td>-0.551446</td>\n",
              "      <td>0.093552</td>\n",
              "      <td>1.078486</td>\n",
              "      <td>0.044818</td>\n",
              "      <td>1.236801</td>\n",
              "      <td>-1.722177</td>\n",
              "      <td>0.166338</td>\n",
              "      <td>0.484876</td>\n",
              "      <td>-1.254729</td>\n",
              "      <td>-1.107006</td>\n",
              "      <td>-1.383755</td>\n",
              "      <td>-1.755835</td>\n",
              "      <td>0.428813</td>\n",
              "      <td>-0.723333</td>\n",
              "      <td>0.087237</td>\n",
              "      <td>1.913908</td>\n",
              "      <td>-0.373323</td>\n",
              "      <td>0.020040</td>\n",
              "      <td>0.286886</td>\n",
              "    </tr>\n",
              "    <tr>\n",
              "      <th>293</th>\n",
              "      <td>-1.720242</td>\n",
              "      <td>-1.422490</td>\n",
              "      <td>0.515949</td>\n",
              "      <td>1.500891</td>\n",
              "      <td>0.182012</td>\n",
              "      <td>-0.609165</td>\n",
              "      <td>0.386067</td>\n",
              "      <td>-0.469296</td>\n",
              "      <td>1.283467</td>\n",
              "      <td>0.337714</td>\n",
              "      <td>-0.939444</td>\n",
              "      <td>-0.911304</td>\n",
              "      <td>-0.214904</td>\n",
              "      <td>-0.867318</td>\n",
              "      <td>0.030976</td>\n",
              "      <td>0.432653</td>\n",
              "      <td>-0.156549</td>\n",
              "      <td>0.577202</td>\n",
              "      <td>-0.373555</td>\n",
              "      <td>-0.305761</td>\n",
              "      <td>0.536367</td>\n",
              "      <td>0.095964</td>\n",
              "      <td>0.031197</td>\n",
              "      <td>-0.483058</td>\n",
              "      <td>0.148110</td>\n",
              "      <td>0.313690</td>\n",
              "      <td>0.886184</td>\n",
              "      <td>0.950041</td>\n",
              "      <td>0.082393</td>\n",
              "      <td>-0.295181</td>\n",
              "    </tr>\n",
              "    <tr>\n",
              "      <th>1</th>\n",
              "      <td>-1.723792</td>\n",
              "      <td>-0.902193</td>\n",
              "      <td>1.206889</td>\n",
              "      <td>0.720517</td>\n",
              "      <td>2.200124</td>\n",
              "      <td>1.374745</td>\n",
              "      <td>0.257907</td>\n",
              "      <td>1.305015</td>\n",
              "      <td>-0.564597</td>\n",
              "      <td>-1.309001</td>\n",
              "      <td>1.372584</td>\n",
              "      <td>-1.236528</td>\n",
              "      <td>-1.205899</td>\n",
              "      <td>-0.918349</td>\n",
              "      <td>-0.023622</td>\n",
              "      <td>-1.345569</td>\n",
              "      <td>0.627276</td>\n",
              "      <td>-0.842833</td>\n",
              "      <td>-0.027458</td>\n",
              "      <td>-2.687475</td>\n",
              "      <td>-0.904868</td>\n",
              "      <td>0.991349</td>\n",
              "      <td>1.718107</td>\n",
              "      <td>-0.650695</td>\n",
              "      <td>2.022997</td>\n",
              "      <td>-0.373378</td>\n",
              "      <td>0.152428</td>\n",
              "      <td>-1.679440</td>\n",
              "      <td>-0.264871</td>\n",
              "      <td>-0.373656</td>\n",
              "    </tr>\n",
              "  </tbody>\n",
              "</table>\n",
              "</div>"
            ],
            "text/plain": [
              "           0         1         2   ...        27        28        29\n",
              "93  -1.722673 -0.940454  1.152877  ...  1.711553  1.677138 -0.318695\n",
              "145 -1.722041 -0.501949 -1.305137  ... -1.204582 -3.278233  0.958103\n",
              "252 -1.720740  0.544242 -0.725634  ... -0.373323  0.020040  0.286886\n",
              "293 -1.720242 -1.422490  0.515949  ...  0.950041  0.082393 -0.295181\n",
              "1   -1.723792 -0.902193  1.206889  ... -1.679440 -0.264871 -0.373656\n",
              "\n",
              "[5 rows x 30 columns]"
            ]
          },
          "metadata": {
            "tags": []
          },
          "execution_count": 230
        }
      ]
    },
    {
      "cell_type": "code",
      "metadata": {
        "id": "XYXuuwZfIiIb",
        "colab": {
          "base_uri": "https://localhost:8080/"
        },
        "outputId": "14fc4b05-a229-47da-9613-8634f8f7f7ff"
      },
      "source": [
        "clf=LogisticRegression(C=10,n_jobs=4)\r\n",
        "clf.fit(X_train,y_train)\r\n",
        "print(clf.score(X_train,y_train))\r\n",
        "print(clf.score(X_test,y_test))\r\n",
        "print(confusion_matrix(y_test,clf.predict(X_test)))"
      ],
      "execution_count": null,
      "outputs": [
        {
          "output_type": "stream",
          "text": [
            "0.999569055190656\n",
            "0.9995474567066917\n",
            "[[32985     2]\n",
            " [   13   146]]\n"
          ],
          "name": "stdout"
        }
      ]
    },
    {
      "cell_type": "code",
      "metadata": {
        "id": "Rphgd2aIzNfo",
        "colab": {
          "base_uri": "https://localhost:8080/"
        },
        "outputId": "af17c57a-bcc9-42df-d776-8150a898e969"
      },
      "source": [
        "clf.fit(X_train,y_train)"
      ],
      "execution_count": null,
      "outputs": [
        {
          "output_type": "execute_result",
          "data": {
            "text/plain": [
              "LogisticRegression(C=10, class_weight=None, dual=False, fit_intercept=True,\n",
              "                   intercept_scaling=1, l1_ratio=None, max_iter=100,\n",
              "                   multi_class='auto', n_jobs=4, penalty='l2',\n",
              "                   random_state=None, solver='lbfgs', tol=0.0001, verbose=0,\n",
              "                   warm_start=False)"
            ]
          },
          "metadata": {
            "tags": []
          },
          "execution_count": 232
        }
      ]
    },
    {
      "cell_type": "code",
      "metadata": {
        "id": "CUM1xRsWYHrJ",
        "colab": {
          "base_uri": "https://localhost:8080/",
          "height": 415
        },
        "outputId": "1478fe2a-d86f-4238-af19-ff15209db5b7"
      },
      "source": [
        "c=[0.01,0.1,1,10,100]\r\n",
        "test_Score=[]\r\n",
        "train_Score=[]\r\n",
        "for i in c :\r\n",
        "  clf=LogisticRegression(C=i)\r\n",
        "  clf.fit(X_train,y_train)\r\n",
        "  train_Score.append(clf.score(X_train,y_train))\r\n",
        "  test_Score.append(clf.score(X_test,y_test))\r\n",
        "plt.plot(c,test_Score,label=\"test Score\")\r\n",
        "plt.plot(c,train_Score,label=\"train Score\")\r\n",
        "plt.xscale('log')"
      ],
      "execution_count": null,
      "outputs": [
        {
          "output_type": "stream",
          "text": [
            "/usr/local/lib/python3.6/dist-packages/sklearn/linear_model/_logistic.py:940: ConvergenceWarning: lbfgs failed to converge (status=1):\n",
            "STOP: TOTAL NO. of ITERATIONS REACHED LIMIT.\n",
            "\n",
            "Increase the number of iterations (max_iter) or scale the data as shown in:\n",
            "    https://scikit-learn.org/stable/modules/preprocessing.html\n",
            "Please also refer to the documentation for alternative solver options:\n",
            "    https://scikit-learn.org/stable/modules/linear_model.html#logistic-regression\n",
            "  extra_warning_msg=_LOGISTIC_SOLVER_CONVERGENCE_MSG)\n"
          ],
          "name": "stderr"
        },
        {
          "output_type": "display_data",
          "data": {
            "image/png": "[encoded data removed]",
            "text/plain": [
              "<Figure size 432x288 with 1 Axes>"
            ]
          },
          "metadata": {
            "tags": [],
            "needs_background": "light"
          }
        }
      ]
    },
    {
      "cell_type": "code",
      "metadata": {
        "id": "QmQLmcNgayEr",
        "colab": {
          "base_uri": "https://localhost:8080/"
        },
        "outputId": "0dc2ef06-6da9-4e91-92bf-c538ca65d936"
      },
      "source": [
        "clf=SVC()\r\n",
        "clf.fit(X_train,y_train)\r\n",
        "print(clf.score(X_train,y_train))\r\n",
        "print(clf.score(X_test,y_test))\r\n",
        "print(confusion_matrix(y_test,clf.predict(X_test)))"
      ],
      "execution_count": null,
      "outputs": [
        {
          "output_type": "stream",
          "text": [
            "0.9996582161856926\n",
            "0.9995776262595788\n",
            "[[32986     1]\n",
            " [   13   146]]\n"
          ],
          "name": "stdout"
        }
      ]
    },
    {
      "cell_type": "code",
      "metadata": {
        "id": "CCoNajCFfdKH",
        "colab": {
          "base_uri": "https://localhost:8080/"
        },
        "outputId": "77545b96-b90c-4960-a8ef-ed85b878df31"
      },
      "source": [
        "clf.fit(X_train,y_train)"
      ],
      "execution_count": null,
      "outputs": [
        {
          "output_type": "execute_result",
          "data": {
            "text/plain": [
              "SVC(C=1.0, break_ties=False, cache_size=200, class_weight=None, coef0=0.0,\n",
              "    decision_function_shape='ovr', degree=3, gamma='scale', kernel='rbf',\n",
              "    max_iter=-1, probability=False, random_state=None, shrinking=True,\n",
              "    tol=0.001, verbose=False)"
            ]
          },
          "metadata": {
            "tags": []
          },
          "execution_count": 253
        }
      ]
    },
    {
      "cell_type": "code",
      "metadata": {
        "id": "pg_I5soJ-IUy"
      },
      "source": [
        "pred=clf.predict(test)"
      ],
      "execution_count": null,
      "outputs": []
    },
    {
      "cell_type": "code",
      "metadata": {
        "colab": {
          "base_uri": "https://localhost:8080/"
        },
        "id": "lAa1YHvwpkIp",
        "outputId": "ab5d8d22-0ee7-412a-9a52-605d212b678f"
      },
      "source": [
        "pred"
      ],
      "execution_count": null,
      "outputs": [
        {
          "output_type": "execute_result",
          "data": {
            "text/plain": [
              "array([0, 0, 0, 1, 0, 0, 0, 1, 0, 0, 0, 0, 0, 1, 0, 0, 1, 0, 0, 0, 0, 0,\n",
              "       0, 0, 1, 1, 0, 0, 0, 0, 0, 1, 0, 0, 0, 0, 0, 0, 0, 0, 0, 0, 0, 0,\n",
              "       0, 0, 1, 0, 1, 1, 0, 0, 0, 0, 0, 0, 1, 0, 0, 0, 0, 0, 1, 1, 0, 0,\n",
              "       0, 0, 0, 0, 0, 0, 0, 1, 0, 0, 0, 0, 0, 0, 0, 0, 0, 0, 0, 0, 0, 0,\n",
              "       1, 0, 1, 0, 0, 0, 0, 1, 0, 0, 1, 0, 1, 0, 0, 0, 0, 1, 0, 0, 0, 1,\n",
              "       0, 0, 0, 0, 0, 0, 1, 1, 0, 0, 0, 1, 1, 0, 0, 0, 0, 0, 0, 0, 0, 0,\n",
              "       1, 1, 0, 0, 0, 0, 1, 0, 1, 0, 0, 1, 0, 0, 0, 0, 0, 0, 0, 0, 0, 0,\n",
              "       0, 1, 0, 0, 1, 0, 0, 1, 0, 0, 0, 1, 0, 1, 0, 0, 1, 0, 0, 1, 0, 0,\n",
              "       0, 0, 0, 1, 0, 1, 0, 0, 0, 0, 0, 0, 0, 1, 0, 1, 0, 0, 0, 0, 0, 0,\n",
              "       1, 0, 1, 0, 0, 0, 0, 0, 0, 0, 0, 0, 0, 0, 0, 1, 0, 0, 0, 0, 0, 0,\n",
              "       0, 0, 0, 0, 0, 0, 0, 0, 0, 1, 0, 0, 0, 0, 0, 1, 0, 0, 0, 0, 0, 0,\n",
              "       0, 0, 0, 0, 0, 0, 0, 0, 0, 0, 0, 1, 1, 0, 0, 0, 0, 0, 1, 0, 0, 1,\n",
              "       0, 1, 0, 0, 0, 1, 1, 0, 0, 0, 0, 0, 0, 0, 0, 0, 0, 0, 0, 0, 0, 0,\n",
              "       1, 0, 0, 1, 0, 1, 0, 0, 0, 0, 0, 0, 0, 0, 0, 1, 0, 0, 0, 1, 1, 0,\n",
              "       0, 0, 0, 0, 0, 0, 0, 1, 0, 0, 1, 0, 1, 0, 0, 0, 1, 0, 0, 1, 0, 0,\n",
              "       0, 0, 0, 0, 0, 0, 0, 1, 1, 1, 0, 0, 0, 0, 0, 0, 0, 1, 0, 0, 0, 0])"
            ]
          },
          "metadata": {
            "tags": []
          },
          "execution_count": 255
        }
      ]
    },
    {
      "cell_type": "code",
      "metadata": {
        "colab": {
          "base_uri": "https://localhost:8080/",
          "height": 406
        },
        "id": "ON91GUi2pKTE",
        "outputId": "3e80a12b-39de-4124-bc64-5753b6e58648"
      },
      "source": [
        "result = pd.DataFrame({'index':range(0,len(test)),'class':pred})\r\n",
        "result"
      ],
      "execution_count": null,
      "outputs": [
        {
          "output_type": "execute_result",
          "data": {
            "text/html": [
              "<div>\n",
              "<style scoped>\n",
              "    .dataframe tbody tr th:only-of-type {\n",
              "        vertical-align: middle;\n",
              "    }\n",
              "\n",
              "    .dataframe tbody tr th {\n",
              "        vertical-align: top;\n",
              "    }\n",
              "\n",
              "    .dataframe thead th {\n",
              "        text-align: right;\n",
              "    }\n",
              "</style>\n",
              "<table border=\"1\" class=\"dataframe\">\n",
              "  <thead>\n",
              "    <tr style=\"text-align: right;\">\n",
              "      <th></th>\n",
              "      <th>index</th>\n",
              "      <th>class</th>\n",
              "    </tr>\n",
              "  </thead>\n",
              "  <tbody>\n",
              "    <tr>\n",
              "      <th>0</th>\n",
              "      <td>0</td>\n",
              "      <td>0</td>\n",
              "    </tr>\n",
              "    <tr>\n",
              "      <th>1</th>\n",
              "      <td>1</td>\n",
              "      <td>0</td>\n",
              "    </tr>\n",
              "    <tr>\n",
              "      <th>2</th>\n",
              "      <td>2</td>\n",
              "      <td>0</td>\n",
              "    </tr>\n",
              "    <tr>\n",
              "      <th>3</th>\n",
              "      <td>3</td>\n",
              "      <td>1</td>\n",
              "    </tr>\n",
              "    <tr>\n",
              "      <th>4</th>\n",
              "      <td>4</td>\n",
              "      <td>0</td>\n",
              "    </tr>\n",
              "    <tr>\n",
              "      <th>...</th>\n",
              "      <td>...</td>\n",
              "      <td>...</td>\n",
              "    </tr>\n",
              "    <tr>\n",
              "      <th>347</th>\n",
              "      <td>347</td>\n",
              "      <td>1</td>\n",
              "    </tr>\n",
              "    <tr>\n",
              "      <th>348</th>\n",
              "      <td>348</td>\n",
              "      <td>0</td>\n",
              "    </tr>\n",
              "    <tr>\n",
              "      <th>349</th>\n",
              "      <td>349</td>\n",
              "      <td>0</td>\n",
              "    </tr>\n",
              "    <tr>\n",
              "      <th>350</th>\n",
              "      <td>350</td>\n",
              "      <td>0</td>\n",
              "    </tr>\n",
              "    <tr>\n",
              "      <th>351</th>\n",
              "      <td>351</td>\n",
              "      <td>0</td>\n",
              "    </tr>\n",
              "  </tbody>\n",
              "</table>\n",
              "<p>352 rows × 2 columns</p>\n",
              "</div>"
            ],
            "text/plain": [
              "     index  class\n",
              "0        0      0\n",
              "1        1      0\n",
              "2        2      0\n",
              "3        3      1\n",
              "4        4      0\n",
              "..     ...    ...\n",
              "347    347      1\n",
              "348    348      0\n",
              "349    349      0\n",
              "350    350      0\n",
              "351    351      0\n",
              "\n",
              "[352 rows x 2 columns]"
            ]
          },
          "metadata": {
            "tags": []
          },
          "execution_count": 256
        }
      ]
    },
    {
      "cell_type": "code",
      "metadata": {
        "colab": {
          "base_uri": "https://localhost:8080/"
        },
        "id": "ZDXJ_SF99xUf",
        "outputId": "a4059ba6-14ce-4774-a52d-f5d28ffd15fa"
      },
      "source": [
        "result['class'].value_counts()"
      ],
      "execution_count": null,
      "outputs": [
        {
          "output_type": "execute_result",
          "data": {
            "text/plain": [
              "0    284\n",
              "1     68\n",
              "Name: class, dtype: int64"
            ]
          },
          "metadata": {
            "tags": []
          },
          "execution_count": 257
        }
      ]
    },
    {
      "cell_type": "code",
      "metadata": {
        "id": "eKDlRQaT7Jgk"
      },
      "source": [
        "result = result.to_csv('/content/gdrive/My Drive/SKILLATHON (DATA SCIENCE)/data/result1.csv', index = True) "
      ],
      "execution_count": null,
      "outputs": []
    },
    {
      "cell_type": "code",
      "metadata": {
        "id": "kA-0zzmMvORz",
        "colab": {
          "base_uri": "https://localhost:8080/"
        },
        "outputId": "466630ef-efef-4e8f-84e3-0e21377ca957"
      },
      "source": [
        "clf=GaussianNB()\r\n",
        "clf.fit(X_train,y_train)\r\n",
        "print(clf.score(X_train,y_train))\r\n",
        "print(clf.score(X_test,y_test))\r\n",
        "print(confusion_matrix(y_test,clf.predict(X_test)))"
      ],
      "execution_count": null,
      "outputs": [
        {
          "output_type": "stream",
          "text": [
            "0.9988557672303623\n",
            "0.9985820310143003\n",
            "[[32954    33]\n",
            " [   14   145]]\n"
          ],
          "name": "stdout"
        }
      ]
    },
    {
      "cell_type": "code",
      "metadata": {
        "id": "Xl6nSnZHzPzR",
        "colab": {
          "base_uri": "https://localhost:8080/"
        },
        "outputId": "f6c95ead-6d61-45f9-b209-5ddc44a2d60c"
      },
      "source": [
        "clf.fit(X_train,y_train)"
      ],
      "execution_count": null,
      "outputs": [
        {
          "output_type": "execute_result",
          "data": {
            "text/plain": [
              "GaussianNB(priors=None, var_smoothing=1e-09)"
            ]
          },
          "metadata": {
            "tags": []
          },
          "execution_count": 237
        }
      ]
    },
    {
      "cell_type": "code",
      "metadata": {
        "id": "Rx_zF2IJh7-u",
        "colab": {
          "base_uri": "https://localhost:8080/"
        },
        "outputId": "8be357b6-6a51-4410-9c2f-35c5f02df5ce"
      },
      "source": [
        "clf=DecisionTreeClassifier()\r\n",
        "clf.fit(X_train,y_train)\r\n",
        "print(clf.score(X_train,y_train))\r\n",
        "print(clf.score(X_test,y_test))\r\n",
        "print(confusion_matrix(y_test,clf.predict(X_test)))"
      ],
      "execution_count": null,
      "outputs": [
        {
          "output_type": "stream",
          "text": [
            "1.0\n",
            "0.9991854220720449\n",
            "[[32975    12]\n",
            " [   15   144]]\n"
          ],
          "name": "stdout"
        }
      ]
    },
    {
      "cell_type": "code",
      "metadata": {
        "id": "Jj_Zjp0izRHo",
        "colab": {
          "base_uri": "https://localhost:8080/"
        },
        "outputId": "85844467-7881-46cd-f12d-499d717fb722"
      },
      "source": [
        "clf.fit(X_train,y_train)"
      ],
      "execution_count": null,
      "outputs": [
        {
          "output_type": "execute_result",
          "data": {
            "text/plain": [
              "DecisionTreeClassifier(ccp_alpha=0.0, class_weight=None, criterion='gini',\n",
              "                       max_depth=None, max_features=None, max_leaf_nodes=None,\n",
              "                       min_impurity_decrease=0.0, min_impurity_split=None,\n",
              "                       min_samples_leaf=1, min_samples_split=2,\n",
              "                       min_weight_fraction_leaf=0.0, presort='deprecated',\n",
              "                       random_state=None, splitter='best')"
            ]
          },
          "metadata": {
            "tags": []
          },
          "execution_count": 239
        }
      ]
    },
    {
      "cell_type": "code",
      "metadata": {
        "id": "n-08sNplvP-3",
        "colab": {
          "base_uri": "https://localhost:8080/"
        },
        "outputId": "fd005ce2-775e-482c-a2eb-8f056099498d"
      },
      "source": [
        "clf=RandomForestClassifier(n_jobs=4)\r\n",
        "clf.fit(X_train,y_train)\r\n",
        "print(clf.score(X_train,y_train))\r\n",
        "print(clf.score(X_test,y_test))\r\n",
        "print(confusion_matrix(y_test,clf.predict(X_test)))"
      ],
      "execution_count": null,
      "outputs": [
        {
          "output_type": "stream",
          "text": [
            "1.0\n",
            "0.9994871176009171\n",
            "[[32986     1]\n",
            " [   16   143]]\n"
          ],
          "name": "stdout"
        }
      ]
    },
    {
      "cell_type": "code",
      "metadata": {
        "id": "wWOfhzfHzSaQ",
        "colab": {
          "base_uri": "https://localhost:8080/"
        },
        "outputId": "1a8a9b68-a000-4b65-e4c5-ec45696d81ef"
      },
      "source": [
        "clf.fit(X_train,y_train)"
      ],
      "execution_count": null,
      "outputs": [
        {
          "output_type": "execute_result",
          "data": {
            "text/plain": [
              "RandomForestClassifier(bootstrap=True, ccp_alpha=0.0, class_weight=None,\n",
              "                       criterion='gini', max_depth=None, max_features='auto',\n",
              "                       max_leaf_nodes=None, max_samples=None,\n",
              "                       min_impurity_decrease=0.0, min_impurity_split=None,\n",
              "                       min_samples_leaf=1, min_samples_split=2,\n",
              "                       min_weight_fraction_leaf=0.0, n_estimators=100, n_jobs=4,\n",
              "                       oob_score=False, random_state=None, verbose=0,\n",
              "                       warm_start=False)"
            ]
          },
          "metadata": {
            "tags": []
          },
          "execution_count": 241
        }
      ]
    },
    {
      "cell_type": "code",
      "metadata": {
        "id": "I1m0QMxdv2_d",
        "colab": {
          "base_uri": "https://localhost:8080/"
        },
        "outputId": "4cd8b331-a395-4c77-b0f9-a423ffb67835"
      },
      "source": [
        "clf=AdaBoostClassifier()\r\n",
        "clf.fit(X_train,y_train)\r\n",
        "print(clf.score(X_train,y_train))\r\n",
        "print(clf.score(X_test,y_test))\r\n",
        "print(confusion_matrix(y_test,clf.predict(X_test)))"
      ],
      "execution_count": null,
      "outputs": [
        {
          "output_type": "stream",
          "text": [
            "0.9994947543614586\n",
            "0.9993664393893682\n",
            "[[32983     4]\n",
            " [   17   142]]\n"
          ],
          "name": "stdout"
        }
      ]
    },
    {
      "cell_type": "code",
      "metadata": {
        "id": "V0NVwAXszTAy",
        "colab": {
          "base_uri": "https://localhost:8080/"
        },
        "outputId": "115c401e-26c2-4d2d-e8f5-d4f376144432"
      },
      "source": [
        "clf.fit(X_train,y_train)"
      ],
      "execution_count": null,
      "outputs": [
        {
          "output_type": "execute_result",
          "data": {
            "text/plain": [
              "AdaBoostClassifier(algorithm='SAMME.R', base_estimator=None, learning_rate=1.0,\n",
              "                   n_estimators=50, random_state=None)"
            ]
          },
          "metadata": {
            "tags": []
          },
          "execution_count": 243
        }
      ]
    },
    {
      "cell_type": "code",
      "metadata": {
        "id": "3Dixetuhv_9L",
        "colab": {
          "base_uri": "https://localhost:8080/"
        },
        "outputId": "a90ac186-f96b-4d2f-d6f0-75f8884f906f"
      },
      "source": [
        "clf=GradientBoostingClassifier()\r\n",
        "clf.fit(X_train,y_train)\r\n",
        "print(clf.score(X_train,y_train))\r\n",
        "print(clf.score(X_test,y_test))\r\n",
        "print(confusion_matrix(y_test,clf.predict(X_test)))"
      ],
      "execution_count": null,
      "outputs": [
        {
          "output_type": "stream",
          "text": [
            "1.0\n",
            "0.9990044047547215\n",
            "[[32971    16]\n",
            " [   17   142]]\n"
          ],
          "name": "stdout"
        }
      ]
    },
    {
      "cell_type": "code",
      "metadata": {
        "id": "kSHbsBfPzUOX",
        "colab": {
          "base_uri": "https://localhost:8080/"
        },
        "outputId": "d2ea432a-856b-4862-a632-535c26276891"
      },
      "source": [
        "clf.fit(X_train,y_train)"
      ],
      "execution_count": null,
      "outputs": [
        {
          "output_type": "execute_result",
          "data": {
            "text/plain": [
              "GradientBoostingClassifier(ccp_alpha=0.0, criterion='friedman_mse', init=None,\n",
              "                           learning_rate=0.1, loss='deviance', max_depth=3,\n",
              "                           max_features=None, max_leaf_nodes=None,\n",
              "                           min_impurity_decrease=0.0, min_impurity_split=None,\n",
              "                           min_samples_leaf=1, min_samples_split=2,\n",
              "                           min_weight_fraction_leaf=0.0, n_estimators=100,\n",
              "                           n_iter_no_change=None, presort='deprecated',\n",
              "                           random_state=None, subsample=1.0, tol=0.0001,\n",
              "                           validation_fraction=0.1, verbose=0,\n",
              "                           warm_start=False)"
            ]
          },
          "metadata": {
            "tags": []
          },
          "execution_count": 250
        }
      ]
    },
    {
      "cell_type": "code",
      "metadata": {
        "id": "51j8CmaawCiw",
        "colab": {
          "base_uri": "https://localhost:8080/"
        },
        "outputId": "09ee0706-845f-4f54-f4d2-2e559c9935c1"
      },
      "source": [
        "from xgboost import XGBClassifier\r\n",
        "clf=XGBClassifier()\r\n",
        "clf.fit(X_train,y_train)\r\n",
        "print(clf.score(X_train,y_train))\r\n",
        "print(clf.score(X_test,y_test))\r\n",
        "print(confusion_matrix(y_test,clf.predict(X_test)))"
      ],
      "execution_count": null,
      "outputs": [
        {
          "output_type": "stream",
          "text": [
            "0.9996582161856926\n",
            "0.9994267784951427\n",
            "[[32984     3]\n",
            " [   16   143]]\n"
          ],
          "name": "stdout"
        }
      ]
    },
    {
      "cell_type": "code",
      "metadata": {
        "id": "Q7QrOWxrS9ga"
      },
      "source": [
        "from sklearn.model_selection import StratifiedKFold\n",
        "from sklearn.linear_model import LogisticRegression\n",
        "from sklearn.svm import SVC\n",
        "from sklearn.neighbors import KNeighborsClassifier\n",
        "from sklearn.tree import DecisionTreeClassifier\n",
        "from sklearn.ensemble import RandomForestClassifier\n",
        "from sklearn.ensemble import AdaBoostClassifier\n",
        "from sklearn.ensemble import GradientBoostingClassifier\n",
        "from sklearn.ensemble import VotingClassifier\n",
        "from sklearn.model_selection import GridSearchCV, cross_val_score"
      ],
      "execution_count": null,
      "outputs": []
    },
    {
      "cell_type": "code",
      "metadata": {
        "id": "4ilQnrbDSfcE"
      },
      "source": [
        "kfold = StratifiedKFold(n_splits=3)"
      ],
      "execution_count": null,
      "outputs": []
    },
    {
      "cell_type": "code",
      "metadata": {
        "colab": {
          "base_uri": "https://localhost:8080/"
        },
        "id": "AZXfy2AJSkMg",
        "outputId": "61de14cc-f252-4b54-ecd0-40dde299c899"
      },
      "source": [
        "random_state = 2\n",
        "classifiers = []\n",
        "classifiers.append(LogisticRegression(random_state=random_state))\n",
        "classifiers.append(SVC(random_state=random_state))\n",
        "classifiers.append(KNeighborsClassifier(n_neighbors=3))\n",
        "classifiers.append(DecisionTreeClassifier(random_state=random_state))\n",
        "classifiers.append(AdaBoostClassifier(DecisionTreeClassifier(random_state=random_state),random_state=random_state,learning_rate=0.1))\n",
        "classifiers.append(RandomForestClassifier(random_state=random_state))\n",
        "classifiers.append(GradientBoostingClassifier(random_state=random_state))\n",
        "\n",
        "\n",
        "cv_results = []\n",
        "for classifier in classifiers :\n",
        "    cv_results.append(cross_val_score(classifier, X, y = y, scoring = \"accuracy\", cv = kfold, n_jobs=4))\n",
        "\n",
        "cv_means = []\n",
        "cv_std = []\n",
        "for cv_result in cv_results:\n",
        "    cv_means.append(cv_result.mean())\n",
        "    cv_std.append(cv_result.std())\n",
        "\n",
        "cv_res = pd.DataFrame({\"CrossValMeans\":cv_means,\"CrossValerrors\": cv_std,\"Algorithm\":[\"LogisticRegression\",\"SVC\",\"KNeighborsClassifier\",\"DecisionTree\",\"AdaBoost\",\n",
        "\"RandomForest\",\"GradientBoosting\"]})\n",
        "\n",
        "g = sns.barplot(\"CrossValMeans\",\"Algorithm\",data = cv_res, palette=\"Set3\",orient = \"h\",**{'xerr':cv_std})\n",
        "g.set_xlabel(\"Mean Accuracy\")\n",
        "g = g.set_title(\"Cross validation scores\")\n"
      ],
      "execution_count": null,
      "outputs": [
        {
          "output_type": "stream",
          "text": [
            "/usr/local/lib/python3.6/dist-packages/seaborn/_decorators.py:43: FutureWarning: Pass the following variables as keyword args: x, y. From version 0.12, the only valid positional argument will be `data`, and passing other arguments without an explicit keyword will result in an error or misinterpretation.\n",
            "  FutureWarning\n"
          ],
          "name": "stderr"
        },
        {
          "output_type": "display_data",
          "data": {
            "image/png": "[encoded data removed]",
            "text/plain": [
              "<Figure size 432x288 with 1 Axes>"
            ]
          },
          "metadata": {
            "tags": [],
            "needs_background": "light"
          }
        }
      ]
    }
  ]
}