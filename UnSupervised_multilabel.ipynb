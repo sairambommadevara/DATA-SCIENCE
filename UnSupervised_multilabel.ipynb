{
  "nbformat": 4,
  "nbformat_minor": 0,
  "metadata": {
    "colab": {
      "name": "UnSupervised-multilabel.ipynb",
      "provenance": []
    },
    "kernelspec": {
      "name": "python3",
      "display_name": "Python 3"
    }
  },
  "cells": [
    {
      "cell_type": "code",
      "metadata": {
        "id": "5AkRm3Qneoz5"
      },
      "source": [
        "import numpy as np\r\n",
        "import seaborn as sns\r\n",
        "import matplotlib.pyplot as plt\r\n",
        "import pandas as pd\r\n",
        "from sklearn.datasets import make_multilabel_classification"
      ],
      "execution_count": 238,
      "outputs": []
    },
    {
      "cell_type": "code",
      "metadata": {
        "id": "i9CauoSffyDs"
      },
      "source": [
        "X,y=make_multilabel_classification(n_samples=5000, n_features=60, n_classes=1,allow_unlabeled=True)"
      ],
      "execution_count": 239,
      "outputs": []
    },
    {
      "cell_type": "code",
      "metadata": {
        "id": "ziNA3rQ4gYIY"
      },
      "source": [
        "X=pd.DataFrame(X)\r\n",
        "y=pd.DataFrame(y)"
      ],
      "execution_count": 240,
      "outputs": []
    },
    {
      "cell_type": "code",
      "metadata": {
        "colab": {
          "base_uri": "https://localhost:8080/",
          "height": 215
        },
        "id": "eC_JoFyMgZSd",
        "outputId": "8a4910a2-1049-4c7c-e64d-1924320c6a9b"
      },
      "source": [
        "X.head(5)"
      ],
      "execution_count": 241,
      "outputs": [
        {
          "output_type": "execute_result",
          "data": {
            "text/html": [
              "<div>\n",
              "<style scoped>\n",
              "    .dataframe tbody tr th:only-of-type {\n",
              "        vertical-align: middle;\n",
              "    }\n",
              "\n",
              "    .dataframe tbody tr th {\n",
              "        vertical-align: top;\n",
              "    }\n",
              "\n",
              "    .dataframe thead th {\n",
              "        text-align: right;\n",
              "    }\n",
              "</style>\n",
              "<table border=\"1\" class=\"dataframe\">\n",
              "  <thead>\n",
              "    <tr style=\"text-align: right;\">\n",
              "      <th></th>\n",
              "      <th>0</th>\n",
              "      <th>1</th>\n",
              "      <th>2</th>\n",
              "      <th>3</th>\n",
              "      <th>4</th>\n",
              "      <th>5</th>\n",
              "      <th>6</th>\n",
              "      <th>7</th>\n",
              "      <th>8</th>\n",
              "      <th>9</th>\n",
              "      <th>10</th>\n",
              "      <th>11</th>\n",
              "      <th>12</th>\n",
              "      <th>13</th>\n",
              "      <th>14</th>\n",
              "      <th>15</th>\n",
              "      <th>16</th>\n",
              "      <th>17</th>\n",
              "      <th>18</th>\n",
              "      <th>19</th>\n",
              "      <th>20</th>\n",
              "      <th>21</th>\n",
              "      <th>22</th>\n",
              "      <th>23</th>\n",
              "      <th>24</th>\n",
              "      <th>25</th>\n",
              "      <th>26</th>\n",
              "      <th>27</th>\n",
              "      <th>28</th>\n",
              "      <th>29</th>\n",
              "      <th>30</th>\n",
              "      <th>31</th>\n",
              "      <th>32</th>\n",
              "      <th>33</th>\n",
              "      <th>34</th>\n",
              "      <th>35</th>\n",
              "      <th>36</th>\n",
              "      <th>37</th>\n",
              "      <th>38</th>\n",
              "      <th>39</th>\n",
              "      <th>40</th>\n",
              "      <th>41</th>\n",
              "      <th>42</th>\n",
              "      <th>43</th>\n",
              "      <th>44</th>\n",
              "      <th>45</th>\n",
              "      <th>46</th>\n",
              "      <th>47</th>\n",
              "      <th>48</th>\n",
              "      <th>49</th>\n",
              "      <th>50</th>\n",
              "      <th>51</th>\n",
              "      <th>52</th>\n",
              "      <th>53</th>\n",
              "      <th>54</th>\n",
              "      <th>55</th>\n",
              "      <th>56</th>\n",
              "      <th>57</th>\n",
              "      <th>58</th>\n",
              "      <th>59</th>\n",
              "    </tr>\n",
              "  </thead>\n",
              "  <tbody>\n",
              "    <tr>\n",
              "      <th>0</th>\n",
              "      <td>1.0</td>\n",
              "      <td>0.0</td>\n",
              "      <td>0.0</td>\n",
              "      <td>1.0</td>\n",
              "      <td>0.0</td>\n",
              "      <td>3.0</td>\n",
              "      <td>0.0</td>\n",
              "      <td>0.0</td>\n",
              "      <td>0.0</td>\n",
              "      <td>1.0</td>\n",
              "      <td>1.0</td>\n",
              "      <td>2.0</td>\n",
              "      <td>1.0</td>\n",
              "      <td>1.0</td>\n",
              "      <td>0.0</td>\n",
              "      <td>0.0</td>\n",
              "      <td>0.0</td>\n",
              "      <td>2.0</td>\n",
              "      <td>2.0</td>\n",
              "      <td>1.0</td>\n",
              "      <td>1.0</td>\n",
              "      <td>0.0</td>\n",
              "      <td>1.0</td>\n",
              "      <td>1.0</td>\n",
              "      <td>0.0</td>\n",
              "      <td>2.0</td>\n",
              "      <td>1.0</td>\n",
              "      <td>0.0</td>\n",
              "      <td>1.0</td>\n",
              "      <td>0.0</td>\n",
              "      <td>0.0</td>\n",
              "      <td>1.0</td>\n",
              "      <td>1.0</td>\n",
              "      <td>1.0</td>\n",
              "      <td>1.0</td>\n",
              "      <td>0.0</td>\n",
              "      <td>1.0</td>\n",
              "      <td>0.0</td>\n",
              "      <td>2.0</td>\n",
              "      <td>0.0</td>\n",
              "      <td>2.0</td>\n",
              "      <td>0.0</td>\n",
              "      <td>1.0</td>\n",
              "      <td>1.0</td>\n",
              "      <td>2.0</td>\n",
              "      <td>0.0</td>\n",
              "      <td>2.0</td>\n",
              "      <td>2.0</td>\n",
              "      <td>0.0</td>\n",
              "      <td>3.0</td>\n",
              "      <td>3.0</td>\n",
              "      <td>1.0</td>\n",
              "      <td>0.0</td>\n",
              "      <td>1.0</td>\n",
              "      <td>1.0</td>\n",
              "      <td>0.0</td>\n",
              "      <td>0.0</td>\n",
              "      <td>1.0</td>\n",
              "      <td>3.0</td>\n",
              "      <td>0.0</td>\n",
              "    </tr>\n",
              "    <tr>\n",
              "      <th>1</th>\n",
              "      <td>0.0</td>\n",
              "      <td>1.0</td>\n",
              "      <td>0.0</td>\n",
              "      <td>3.0</td>\n",
              "      <td>1.0</td>\n",
              "      <td>2.0</td>\n",
              "      <td>1.0</td>\n",
              "      <td>1.0</td>\n",
              "      <td>1.0</td>\n",
              "      <td>0.0</td>\n",
              "      <td>2.0</td>\n",
              "      <td>0.0</td>\n",
              "      <td>1.0</td>\n",
              "      <td>1.0</td>\n",
              "      <td>1.0</td>\n",
              "      <td>0.0</td>\n",
              "      <td>1.0</td>\n",
              "      <td>0.0</td>\n",
              "      <td>0.0</td>\n",
              "      <td>0.0</td>\n",
              "      <td>0.0</td>\n",
              "      <td>1.0</td>\n",
              "      <td>0.0</td>\n",
              "      <td>1.0</td>\n",
              "      <td>0.0</td>\n",
              "      <td>2.0</td>\n",
              "      <td>3.0</td>\n",
              "      <td>1.0</td>\n",
              "      <td>1.0</td>\n",
              "      <td>2.0</td>\n",
              "      <td>0.0</td>\n",
              "      <td>2.0</td>\n",
              "      <td>1.0</td>\n",
              "      <td>1.0</td>\n",
              "      <td>0.0</td>\n",
              "      <td>0.0</td>\n",
              "      <td>3.0</td>\n",
              "      <td>1.0</td>\n",
              "      <td>1.0</td>\n",
              "      <td>1.0</td>\n",
              "      <td>0.0</td>\n",
              "      <td>0.0</td>\n",
              "      <td>2.0</td>\n",
              "      <td>1.0</td>\n",
              "      <td>0.0</td>\n",
              "      <td>0.0</td>\n",
              "      <td>0.0</td>\n",
              "      <td>0.0</td>\n",
              "      <td>3.0</td>\n",
              "      <td>3.0</td>\n",
              "      <td>1.0</td>\n",
              "      <td>1.0</td>\n",
              "      <td>0.0</td>\n",
              "      <td>3.0</td>\n",
              "      <td>0.0</td>\n",
              "      <td>1.0</td>\n",
              "      <td>0.0</td>\n",
              "      <td>0.0</td>\n",
              "      <td>2.0</td>\n",
              "      <td>3.0</td>\n",
              "    </tr>\n",
              "    <tr>\n",
              "      <th>2</th>\n",
              "      <td>1.0</td>\n",
              "      <td>0.0</td>\n",
              "      <td>1.0</td>\n",
              "      <td>1.0</td>\n",
              "      <td>0.0</td>\n",
              "      <td>0.0</td>\n",
              "      <td>1.0</td>\n",
              "      <td>0.0</td>\n",
              "      <td>3.0</td>\n",
              "      <td>1.0</td>\n",
              "      <td>2.0</td>\n",
              "      <td>1.0</td>\n",
              "      <td>3.0</td>\n",
              "      <td>1.0</td>\n",
              "      <td>5.0</td>\n",
              "      <td>0.0</td>\n",
              "      <td>0.0</td>\n",
              "      <td>1.0</td>\n",
              "      <td>0.0</td>\n",
              "      <td>0.0</td>\n",
              "      <td>0.0</td>\n",
              "      <td>0.0</td>\n",
              "      <td>2.0</td>\n",
              "      <td>0.0</td>\n",
              "      <td>0.0</td>\n",
              "      <td>0.0</td>\n",
              "      <td>0.0</td>\n",
              "      <td>1.0</td>\n",
              "      <td>1.0</td>\n",
              "      <td>0.0</td>\n",
              "      <td>0.0</td>\n",
              "      <td>2.0</td>\n",
              "      <td>0.0</td>\n",
              "      <td>1.0</td>\n",
              "      <td>1.0</td>\n",
              "      <td>0.0</td>\n",
              "      <td>2.0</td>\n",
              "      <td>0.0</td>\n",
              "      <td>0.0</td>\n",
              "      <td>2.0</td>\n",
              "      <td>3.0</td>\n",
              "      <td>1.0</td>\n",
              "      <td>0.0</td>\n",
              "      <td>0.0</td>\n",
              "      <td>0.0</td>\n",
              "      <td>0.0</td>\n",
              "      <td>0.0</td>\n",
              "      <td>5.0</td>\n",
              "      <td>0.0</td>\n",
              "      <td>0.0</td>\n",
              "      <td>0.0</td>\n",
              "      <td>0.0</td>\n",
              "      <td>0.0</td>\n",
              "      <td>0.0</td>\n",
              "      <td>2.0</td>\n",
              "      <td>1.0</td>\n",
              "      <td>1.0</td>\n",
              "      <td>0.0</td>\n",
              "      <td>0.0</td>\n",
              "      <td>1.0</td>\n",
              "    </tr>\n",
              "    <tr>\n",
              "      <th>3</th>\n",
              "      <td>1.0</td>\n",
              "      <td>0.0</td>\n",
              "      <td>0.0</td>\n",
              "      <td>0.0</td>\n",
              "      <td>0.0</td>\n",
              "      <td>0.0</td>\n",
              "      <td>2.0</td>\n",
              "      <td>0.0</td>\n",
              "      <td>2.0</td>\n",
              "      <td>0.0</td>\n",
              "      <td>0.0</td>\n",
              "      <td>3.0</td>\n",
              "      <td>2.0</td>\n",
              "      <td>3.0</td>\n",
              "      <td>2.0</td>\n",
              "      <td>0.0</td>\n",
              "      <td>1.0</td>\n",
              "      <td>1.0</td>\n",
              "      <td>0.0</td>\n",
              "      <td>3.0</td>\n",
              "      <td>0.0</td>\n",
              "      <td>0.0</td>\n",
              "      <td>0.0</td>\n",
              "      <td>0.0</td>\n",
              "      <td>0.0</td>\n",
              "      <td>1.0</td>\n",
              "      <td>2.0</td>\n",
              "      <td>2.0</td>\n",
              "      <td>3.0</td>\n",
              "      <td>0.0</td>\n",
              "      <td>0.0</td>\n",
              "      <td>1.0</td>\n",
              "      <td>0.0</td>\n",
              "      <td>1.0</td>\n",
              "      <td>1.0</td>\n",
              "      <td>0.0</td>\n",
              "      <td>3.0</td>\n",
              "      <td>0.0</td>\n",
              "      <td>0.0</td>\n",
              "      <td>0.0</td>\n",
              "      <td>5.0</td>\n",
              "      <td>0.0</td>\n",
              "      <td>1.0</td>\n",
              "      <td>2.0</td>\n",
              "      <td>0.0</td>\n",
              "      <td>0.0</td>\n",
              "      <td>0.0</td>\n",
              "      <td>3.0</td>\n",
              "      <td>0.0</td>\n",
              "      <td>1.0</td>\n",
              "      <td>1.0</td>\n",
              "      <td>0.0</td>\n",
              "      <td>0.0</td>\n",
              "      <td>0.0</td>\n",
              "      <td>2.0</td>\n",
              "      <td>3.0</td>\n",
              "      <td>1.0</td>\n",
              "      <td>0.0</td>\n",
              "      <td>2.0</td>\n",
              "      <td>0.0</td>\n",
              "    </tr>\n",
              "    <tr>\n",
              "      <th>4</th>\n",
              "      <td>0.0</td>\n",
              "      <td>2.0</td>\n",
              "      <td>2.0</td>\n",
              "      <td>3.0</td>\n",
              "      <td>0.0</td>\n",
              "      <td>0.0</td>\n",
              "      <td>2.0</td>\n",
              "      <td>1.0</td>\n",
              "      <td>5.0</td>\n",
              "      <td>0.0</td>\n",
              "      <td>0.0</td>\n",
              "      <td>2.0</td>\n",
              "      <td>2.0</td>\n",
              "      <td>1.0</td>\n",
              "      <td>1.0</td>\n",
              "      <td>0.0</td>\n",
              "      <td>0.0</td>\n",
              "      <td>1.0</td>\n",
              "      <td>0.0</td>\n",
              "      <td>2.0</td>\n",
              "      <td>0.0</td>\n",
              "      <td>0.0</td>\n",
              "      <td>1.0</td>\n",
              "      <td>1.0</td>\n",
              "      <td>0.0</td>\n",
              "      <td>1.0</td>\n",
              "      <td>0.0</td>\n",
              "      <td>1.0</td>\n",
              "      <td>0.0</td>\n",
              "      <td>0.0</td>\n",
              "      <td>0.0</td>\n",
              "      <td>2.0</td>\n",
              "      <td>1.0</td>\n",
              "      <td>0.0</td>\n",
              "      <td>5.0</td>\n",
              "      <td>0.0</td>\n",
              "      <td>2.0</td>\n",
              "      <td>0.0</td>\n",
              "      <td>0.0</td>\n",
              "      <td>3.0</td>\n",
              "      <td>4.0</td>\n",
              "      <td>1.0</td>\n",
              "      <td>2.0</td>\n",
              "      <td>0.0</td>\n",
              "      <td>0.0</td>\n",
              "      <td>1.0</td>\n",
              "      <td>1.0</td>\n",
              "      <td>0.0</td>\n",
              "      <td>0.0</td>\n",
              "      <td>1.0</td>\n",
              "      <td>0.0</td>\n",
              "      <td>0.0</td>\n",
              "      <td>0.0</td>\n",
              "      <td>0.0</td>\n",
              "      <td>1.0</td>\n",
              "      <td>1.0</td>\n",
              "      <td>0.0</td>\n",
              "      <td>2.0</td>\n",
              "      <td>0.0</td>\n",
              "      <td>0.0</td>\n",
              "    </tr>\n",
              "  </tbody>\n",
              "</table>\n",
              "</div>"
            ],
            "text/plain": [
              "    0    1    2    3    4    5    6   ...   53   54   55   56   57   58   59\n",
              "0  1.0  0.0  0.0  1.0  0.0  3.0  0.0  ...  1.0  1.0  0.0  0.0  1.0  3.0  0.0\n",
              "1  0.0  1.0  0.0  3.0  1.0  2.0  1.0  ...  3.0  0.0  1.0  0.0  0.0  2.0  3.0\n",
              "2  1.0  0.0  1.0  1.0  0.0  0.0  1.0  ...  0.0  2.0  1.0  1.0  0.0  0.0  1.0\n",
              "3  1.0  0.0  0.0  0.0  0.0  0.0  2.0  ...  0.0  2.0  3.0  1.0  0.0  2.0  0.0\n",
              "4  0.0  2.0  2.0  3.0  0.0  0.0  2.0  ...  0.0  1.0  1.0  0.0  2.0  0.0  0.0\n",
              "\n",
              "[5 rows x 60 columns]"
            ]
          },
          "metadata": {
            "tags": []
          },
          "execution_count": 241
        }
      ]
    },
    {
      "cell_type": "code",
      "metadata": {
        "colab": {
          "base_uri": "https://localhost:8080/"
        },
        "id": "aZ0J7mGKib_0",
        "outputId": "99fea794-df5c-4cdc-d683-ec3865f4d446"
      },
      "source": [
        "y.shape"
      ],
      "execution_count": 242,
      "outputs": [
        {
          "output_type": "execute_result",
          "data": {
            "text/plain": [
              "(5000, 1)"
            ]
          },
          "metadata": {
            "tags": []
          },
          "execution_count": 242
        }
      ]
    },
    {
      "cell_type": "code",
      "metadata": {
        "id": "omMtK3Vq492s"
      },
      "source": [
        "from sklearn.preprocessing import LabelEncoder\r\n",
        "leb=LabelEncoder()\r\n",
        "y=leb.fit_transform(y[0])"
      ],
      "execution_count": 243,
      "outputs": []
    },
    {
      "cell_type": "code",
      "metadata": {
        "id": "K10fvbck5Zmj"
      },
      "source": [
        "y=pd.DataFrame(y)"
      ],
      "execution_count": 244,
      "outputs": []
    },
    {
      "cell_type": "code",
      "metadata": {
        "colab": {
          "base_uri": "https://localhost:8080/"
        },
        "id": "wgwUNYL55xLo",
        "outputId": "55bc887e-9bc9-44c0-a3f2-7c72a3d53010"
      },
      "source": [
        "y.value_counts()"
      ],
      "execution_count": 245,
      "outputs": [
        {
          "output_type": "execute_result",
          "data": {
            "text/plain": [
              "1    3324\n",
              "0    1676\n",
              "dtype: int64"
            ]
          },
          "metadata": {
            "tags": []
          },
          "execution_count": 245
        }
      ]
    },
    {
      "cell_type": "code",
      "metadata": {
        "id": "b8iTia7gipWE"
      },
      "source": [
        "from sklearn.preprocessing import MinMaxScaler\r\n",
        "scl=MinMaxScaler(feature_range=(0, 1))\r\n",
        "X=pd.DataFrame(scl.fit_transform(X))"
      ],
      "execution_count": 246,
      "outputs": []
    },
    {
      "cell_type": "code",
      "metadata": {
        "colab": {
          "base_uri": "https://localhost:8080/",
          "height": 304
        },
        "id": "CIDc3b7qjJQR",
        "outputId": "c5277d82-fa89-45c0-96fb-71b4f945bf8b"
      },
      "source": [
        "X.describe()"
      ],
      "execution_count": 247,
      "outputs": [
        {
          "output_type": "execute_result",
          "data": {
            "text/html": [
              "<div>\n",
              "<style scoped>\n",
              "    .dataframe tbody tr th:only-of-type {\n",
              "        vertical-align: middle;\n",
              "    }\n",
              "\n",
              "    .dataframe tbody tr th {\n",
              "        vertical-align: top;\n",
              "    }\n",
              "\n",
              "    .dataframe thead th {\n",
              "        text-align: right;\n",
              "    }\n",
              "</style>\n",
              "<table border=\"1\" class=\"dataframe\">\n",
              "  <thead>\n",
              "    <tr style=\"text-align: right;\">\n",
              "      <th></th>\n",
              "      <th>0</th>\n",
              "      <th>1</th>\n",
              "      <th>2</th>\n",
              "      <th>3</th>\n",
              "      <th>4</th>\n",
              "      <th>5</th>\n",
              "      <th>6</th>\n",
              "      <th>7</th>\n",
              "      <th>8</th>\n",
              "      <th>9</th>\n",
              "      <th>10</th>\n",
              "      <th>11</th>\n",
              "      <th>12</th>\n",
              "      <th>13</th>\n",
              "      <th>14</th>\n",
              "      <th>15</th>\n",
              "      <th>16</th>\n",
              "      <th>17</th>\n",
              "      <th>18</th>\n",
              "      <th>19</th>\n",
              "      <th>20</th>\n",
              "      <th>21</th>\n",
              "      <th>22</th>\n",
              "      <th>23</th>\n",
              "      <th>24</th>\n",
              "      <th>25</th>\n",
              "      <th>26</th>\n",
              "      <th>27</th>\n",
              "      <th>28</th>\n",
              "      <th>29</th>\n",
              "      <th>30</th>\n",
              "      <th>31</th>\n",
              "      <th>32</th>\n",
              "      <th>33</th>\n",
              "      <th>34</th>\n",
              "      <th>35</th>\n",
              "      <th>36</th>\n",
              "      <th>37</th>\n",
              "      <th>38</th>\n",
              "      <th>39</th>\n",
              "      <th>40</th>\n",
              "      <th>41</th>\n",
              "      <th>42</th>\n",
              "      <th>43</th>\n",
              "      <th>44</th>\n",
              "      <th>45</th>\n",
              "      <th>46</th>\n",
              "      <th>47</th>\n",
              "      <th>48</th>\n",
              "      <th>49</th>\n",
              "      <th>50</th>\n",
              "      <th>51</th>\n",
              "      <th>52</th>\n",
              "      <th>53</th>\n",
              "      <th>54</th>\n",
              "      <th>55</th>\n",
              "      <th>56</th>\n",
              "      <th>57</th>\n",
              "      <th>58</th>\n",
              "      <th>59</th>\n",
              "    </tr>\n",
              "  </thead>\n",
              "  <tbody>\n",
              "    <tr>\n",
              "      <th>count</th>\n",
              "      <td>5000.000000</td>\n",
              "      <td>5000.000000</td>\n",
              "      <td>5000.000000</td>\n",
              "      <td>5000.000000</td>\n",
              "      <td>5000.000000</td>\n",
              "      <td>5000.000000</td>\n",
              "      <td>5000.000000</td>\n",
              "      <td>5000.000000</td>\n",
              "      <td>5000.000000</td>\n",
              "      <td>5000.000000</td>\n",
              "      <td>5000.000000</td>\n",
              "      <td>5000.000000</td>\n",
              "      <td>5000.000000</td>\n",
              "      <td>5000.000000</td>\n",
              "      <td>5000.000000</td>\n",
              "      <td>5000.000000</td>\n",
              "      <td>5000.000000</td>\n",
              "      <td>5000.000000</td>\n",
              "      <td>5000.000000</td>\n",
              "      <td>5000.000000</td>\n",
              "      <td>5000.000000</td>\n",
              "      <td>5000.000000</td>\n",
              "      <td>5000.000000</td>\n",
              "      <td>5000.000000</td>\n",
              "      <td>5000.000000</td>\n",
              "      <td>5000.000000</td>\n",
              "      <td>5000.000000</td>\n",
              "      <td>5000.000000</td>\n",
              "      <td>5000.000000</td>\n",
              "      <td>5000.000000</td>\n",
              "      <td>5000.000000</td>\n",
              "      <td>5000.000000</td>\n",
              "      <td>5000.000000</td>\n",
              "      <td>5000.000000</td>\n",
              "      <td>5000.000000</td>\n",
              "      <td>5000.000000</td>\n",
              "      <td>5000.000000</td>\n",
              "      <td>5000.000000</td>\n",
              "      <td>5000.000000</td>\n",
              "      <td>5000.000000</td>\n",
              "      <td>5000.000000</td>\n",
              "      <td>5000.000000</td>\n",
              "      <td>5000.000000</td>\n",
              "      <td>5000.000000</td>\n",
              "      <td>5000.000000</td>\n",
              "      <td>5000.000000</td>\n",
              "      <td>5000.000000</td>\n",
              "      <td>5000.000000</td>\n",
              "      <td>5000.000000</td>\n",
              "      <td>5000.000000</td>\n",
              "      <td>5000.000000</td>\n",
              "      <td>5000.000000</td>\n",
              "      <td>5000.000000</td>\n",
              "      <td>5000.000000</td>\n",
              "      <td>5000.000000</td>\n",
              "      <td>5000.000000</td>\n",
              "      <td>5000.000000</td>\n",
              "      <td>5000.000000</td>\n",
              "      <td>5000.000000</td>\n",
              "      <td>5000.000000</td>\n",
              "    </tr>\n",
              "    <tr>\n",
              "      <th>mean</th>\n",
              "      <td>0.092440</td>\n",
              "      <td>0.155022</td>\n",
              "      <td>0.169033</td>\n",
              "      <td>0.166933</td>\n",
              "      <td>0.067733</td>\n",
              "      <td>0.108720</td>\n",
              "      <td>0.157480</td>\n",
              "      <td>0.172360</td>\n",
              "      <td>0.194571</td>\n",
              "      <td>0.100771</td>\n",
              "      <td>0.153320</td>\n",
              "      <td>0.158975</td>\n",
              "      <td>0.159067</td>\n",
              "      <td>0.132686</td>\n",
              "      <td>0.159850</td>\n",
              "      <td>0.089240</td>\n",
              "      <td>0.127467</td>\n",
              "      <td>0.186700</td>\n",
              "      <td>0.087067</td>\n",
              "      <td>0.166286</td>\n",
              "      <td>0.102400</td>\n",
              "      <td>0.181900</td>\n",
              "      <td>0.166233</td>\n",
              "      <td>0.117167</td>\n",
              "      <td>0.084600</td>\n",
              "      <td>0.200257</td>\n",
              "      <td>0.157675</td>\n",
              "      <td>0.144733</td>\n",
              "      <td>0.141875</td>\n",
              "      <td>0.064000</td>\n",
              "      <td>0.073800</td>\n",
              "      <td>0.173867</td>\n",
              "      <td>0.107800</td>\n",
              "      <td>0.135480</td>\n",
              "      <td>0.175800</td>\n",
              "      <td>0.093250</td>\n",
              "      <td>0.193400</td>\n",
              "      <td>0.064480</td>\n",
              "      <td>0.132840</td>\n",
              "      <td>0.151733</td>\n",
              "      <td>0.194767</td>\n",
              "      <td>0.158240</td>\n",
              "      <td>0.132680</td>\n",
              "      <td>0.089900</td>\n",
              "      <td>0.066200</td>\n",
              "      <td>0.145480</td>\n",
              "      <td>0.149167</td>\n",
              "      <td>0.154829</td>\n",
              "      <td>0.150400</td>\n",
              "      <td>0.147514</td>\n",
              "      <td>0.089600</td>\n",
              "      <td>0.075467</td>\n",
              "      <td>0.113467</td>\n",
              "      <td>0.060567</td>\n",
              "      <td>0.129289</td>\n",
              "      <td>0.140689</td>\n",
              "      <td>0.195467</td>\n",
              "      <td>0.157520</td>\n",
              "      <td>0.166943</td>\n",
              "      <td>0.063320</td>\n",
              "    </tr>\n",
              "    <tr>\n",
              "      <th>std</th>\n",
              "      <td>0.146134</td>\n",
              "      <td>0.139723</td>\n",
              "      <td>0.167747</td>\n",
              "      <td>0.168441</td>\n",
              "      <td>0.116968</td>\n",
              "      <td>0.153651</td>\n",
              "      <td>0.173199</td>\n",
              "      <td>0.185264</td>\n",
              "      <td>0.173843</td>\n",
              "      <td>0.121551</td>\n",
              "      <td>0.174066</td>\n",
              "      <td>0.146127</td>\n",
              "      <td>0.163241</td>\n",
              "      <td>0.137908</td>\n",
              "      <td>0.148479</td>\n",
              "      <td>0.146152</td>\n",
              "      <td>0.146291</td>\n",
              "      <td>0.179814</td>\n",
              "      <td>0.124768</td>\n",
              "      <td>0.158265</td>\n",
              "      <td>0.148858</td>\n",
              "      <td>0.208077</td>\n",
              "      <td>0.170392</td>\n",
              "      <td>0.140686</td>\n",
              "      <td>0.128459</td>\n",
              "      <td>0.176927</td>\n",
              "      <td>0.148142</td>\n",
              "      <td>0.155211</td>\n",
              "      <td>0.133756</td>\n",
              "      <td>0.135778</td>\n",
              "      <td>0.122705</td>\n",
              "      <td>0.174033</td>\n",
              "      <td>0.133934</td>\n",
              "      <td>0.165053</td>\n",
              "      <td>0.158801</td>\n",
              "      <td>0.172476</td>\n",
              "      <td>0.174129</td>\n",
              "      <td>0.133169</td>\n",
              "      <td>0.163116</td>\n",
              "      <td>0.162870</td>\n",
              "      <td>0.180678</td>\n",
              "      <td>0.177422</td>\n",
              "      <td>0.164418</td>\n",
              "      <td>0.129890</td>\n",
              "      <td>0.119575</td>\n",
              "      <td>0.171258</td>\n",
              "      <td>0.160395</td>\n",
              "      <td>0.153078</td>\n",
              "      <td>0.140943</td>\n",
              "      <td>0.146423</td>\n",
              "      <td>0.147269</td>\n",
              "      <td>0.123680</td>\n",
              "      <td>0.140856</td>\n",
              "      <td>0.115402</td>\n",
              "      <td>0.123522</td>\n",
              "      <td>0.129367</td>\n",
              "      <td>0.184088</td>\n",
              "      <td>0.178196</td>\n",
              "      <td>0.158489</td>\n",
              "      <td>0.131644</td>\n",
              "    </tr>\n",
              "    <tr>\n",
              "      <th>min</th>\n",
              "      <td>0.000000</td>\n",
              "      <td>0.000000</td>\n",
              "      <td>0.000000</td>\n",
              "      <td>0.000000</td>\n",
              "      <td>0.000000</td>\n",
              "      <td>0.000000</td>\n",
              "      <td>0.000000</td>\n",
              "      <td>0.000000</td>\n",
              "      <td>0.000000</td>\n",
              "      <td>0.000000</td>\n",
              "      <td>0.000000</td>\n",
              "      <td>0.000000</td>\n",
              "      <td>0.000000</td>\n",
              "      <td>0.000000</td>\n",
              "      <td>0.000000</td>\n",
              "      <td>0.000000</td>\n",
              "      <td>0.000000</td>\n",
              "      <td>0.000000</td>\n",
              "      <td>0.000000</td>\n",
              "      <td>0.000000</td>\n",
              "      <td>0.000000</td>\n",
              "      <td>0.000000</td>\n",
              "      <td>0.000000</td>\n",
              "      <td>0.000000</td>\n",
              "      <td>0.000000</td>\n",
              "      <td>0.000000</td>\n",
              "      <td>0.000000</td>\n",
              "      <td>0.000000</td>\n",
              "      <td>0.000000</td>\n",
              "      <td>0.000000</td>\n",
              "      <td>0.000000</td>\n",
              "      <td>0.000000</td>\n",
              "      <td>0.000000</td>\n",
              "      <td>0.000000</td>\n",
              "      <td>0.000000</td>\n",
              "      <td>0.000000</td>\n",
              "      <td>0.000000</td>\n",
              "      <td>0.000000</td>\n",
              "      <td>0.000000</td>\n",
              "      <td>0.000000</td>\n",
              "      <td>0.000000</td>\n",
              "      <td>0.000000</td>\n",
              "      <td>0.000000</td>\n",
              "      <td>0.000000</td>\n",
              "      <td>0.000000</td>\n",
              "      <td>0.000000</td>\n",
              "      <td>0.000000</td>\n",
              "      <td>0.000000</td>\n",
              "      <td>0.000000</td>\n",
              "      <td>0.000000</td>\n",
              "      <td>0.000000</td>\n",
              "      <td>0.000000</td>\n",
              "      <td>0.000000</td>\n",
              "      <td>0.000000</td>\n",
              "      <td>0.000000</td>\n",
              "      <td>0.000000</td>\n",
              "      <td>0.000000</td>\n",
              "      <td>0.000000</td>\n",
              "      <td>0.000000</td>\n",
              "      <td>0.000000</td>\n",
              "    </tr>\n",
              "    <tr>\n",
              "      <th>25%</th>\n",
              "      <td>0.000000</td>\n",
              "      <td>0.000000</td>\n",
              "      <td>0.000000</td>\n",
              "      <td>0.000000</td>\n",
              "      <td>0.000000</td>\n",
              "      <td>0.000000</td>\n",
              "      <td>0.000000</td>\n",
              "      <td>0.000000</td>\n",
              "      <td>0.000000</td>\n",
              "      <td>0.000000</td>\n",
              "      <td>0.000000</td>\n",
              "      <td>0.000000</td>\n",
              "      <td>0.000000</td>\n",
              "      <td>0.000000</td>\n",
              "      <td>0.000000</td>\n",
              "      <td>0.000000</td>\n",
              "      <td>0.000000</td>\n",
              "      <td>0.000000</td>\n",
              "      <td>0.000000</td>\n",
              "      <td>0.000000</td>\n",
              "      <td>0.000000</td>\n",
              "      <td>0.000000</td>\n",
              "      <td>0.000000</td>\n",
              "      <td>0.000000</td>\n",
              "      <td>0.000000</td>\n",
              "      <td>0.000000</td>\n",
              "      <td>0.000000</td>\n",
              "      <td>0.000000</td>\n",
              "      <td>0.000000</td>\n",
              "      <td>0.000000</td>\n",
              "      <td>0.000000</td>\n",
              "      <td>0.000000</td>\n",
              "      <td>0.000000</td>\n",
              "      <td>0.000000</td>\n",
              "      <td>0.000000</td>\n",
              "      <td>0.000000</td>\n",
              "      <td>0.000000</td>\n",
              "      <td>0.000000</td>\n",
              "      <td>0.000000</td>\n",
              "      <td>0.000000</td>\n",
              "      <td>0.000000</td>\n",
              "      <td>0.000000</td>\n",
              "      <td>0.000000</td>\n",
              "      <td>0.000000</td>\n",
              "      <td>0.000000</td>\n",
              "      <td>0.000000</td>\n",
              "      <td>0.000000</td>\n",
              "      <td>0.000000</td>\n",
              "      <td>0.000000</td>\n",
              "      <td>0.000000</td>\n",
              "      <td>0.000000</td>\n",
              "      <td>0.000000</td>\n",
              "      <td>0.000000</td>\n",
              "      <td>0.000000</td>\n",
              "      <td>0.000000</td>\n",
              "      <td>0.000000</td>\n",
              "      <td>0.000000</td>\n",
              "      <td>0.000000</td>\n",
              "      <td>0.000000</td>\n",
              "      <td>0.000000</td>\n",
              "    </tr>\n",
              "    <tr>\n",
              "      <th>50%</th>\n",
              "      <td>0.000000</td>\n",
              "      <td>0.111111</td>\n",
              "      <td>0.166667</td>\n",
              "      <td>0.166667</td>\n",
              "      <td>0.000000</td>\n",
              "      <td>0.000000</td>\n",
              "      <td>0.200000</td>\n",
              "      <td>0.200000</td>\n",
              "      <td>0.142857</td>\n",
              "      <td>0.142857</td>\n",
              "      <td>0.200000</td>\n",
              "      <td>0.125000</td>\n",
              "      <td>0.166667</td>\n",
              "      <td>0.142857</td>\n",
              "      <td>0.125000</td>\n",
              "      <td>0.000000</td>\n",
              "      <td>0.166667</td>\n",
              "      <td>0.166667</td>\n",
              "      <td>0.000000</td>\n",
              "      <td>0.142857</td>\n",
              "      <td>0.000000</td>\n",
              "      <td>0.250000</td>\n",
              "      <td>0.166667</td>\n",
              "      <td>0.166667</td>\n",
              "      <td>0.000000</td>\n",
              "      <td>0.142857</td>\n",
              "      <td>0.125000</td>\n",
              "      <td>0.166667</td>\n",
              "      <td>0.125000</td>\n",
              "      <td>0.000000</td>\n",
              "      <td>0.000000</td>\n",
              "      <td>0.166667</td>\n",
              "      <td>0.000000</td>\n",
              "      <td>0.000000</td>\n",
              "      <td>0.142857</td>\n",
              "      <td>0.000000</td>\n",
              "      <td>0.142857</td>\n",
              "      <td>0.000000</td>\n",
              "      <td>0.000000</td>\n",
              "      <td>0.166667</td>\n",
              "      <td>0.166667</td>\n",
              "      <td>0.200000</td>\n",
              "      <td>0.000000</td>\n",
              "      <td>0.000000</td>\n",
              "      <td>0.000000</td>\n",
              "      <td>0.200000</td>\n",
              "      <td>0.166667</td>\n",
              "      <td>0.142857</td>\n",
              "      <td>0.125000</td>\n",
              "      <td>0.142857</td>\n",
              "      <td>0.000000</td>\n",
              "      <td>0.000000</td>\n",
              "      <td>0.000000</td>\n",
              "      <td>0.000000</td>\n",
              "      <td>0.111111</td>\n",
              "      <td>0.111111</td>\n",
              "      <td>0.166667</td>\n",
              "      <td>0.200000</td>\n",
              "      <td>0.142857</td>\n",
              "      <td>0.000000</td>\n",
              "    </tr>\n",
              "    <tr>\n",
              "      <th>75%</th>\n",
              "      <td>0.200000</td>\n",
              "      <td>0.222222</td>\n",
              "      <td>0.333333</td>\n",
              "      <td>0.333333</td>\n",
              "      <td>0.166667</td>\n",
              "      <td>0.200000</td>\n",
              "      <td>0.200000</td>\n",
              "      <td>0.200000</td>\n",
              "      <td>0.285714</td>\n",
              "      <td>0.142857</td>\n",
              "      <td>0.200000</td>\n",
              "      <td>0.250000</td>\n",
              "      <td>0.166667</td>\n",
              "      <td>0.142857</td>\n",
              "      <td>0.250000</td>\n",
              "      <td>0.200000</td>\n",
              "      <td>0.166667</td>\n",
              "      <td>0.333333</td>\n",
              "      <td>0.166667</td>\n",
              "      <td>0.285714</td>\n",
              "      <td>0.200000</td>\n",
              "      <td>0.250000</td>\n",
              "      <td>0.333333</td>\n",
              "      <td>0.166667</td>\n",
              "      <td>0.166667</td>\n",
              "      <td>0.285714</td>\n",
              "      <td>0.250000</td>\n",
              "      <td>0.166667</td>\n",
              "      <td>0.250000</td>\n",
              "      <td>0.000000</td>\n",
              "      <td>0.166667</td>\n",
              "      <td>0.333333</td>\n",
              "      <td>0.166667</td>\n",
              "      <td>0.200000</td>\n",
              "      <td>0.285714</td>\n",
              "      <td>0.250000</td>\n",
              "      <td>0.285714</td>\n",
              "      <td>0.000000</td>\n",
              "      <td>0.200000</td>\n",
              "      <td>0.166667</td>\n",
              "      <td>0.333333</td>\n",
              "      <td>0.200000</td>\n",
              "      <td>0.200000</td>\n",
              "      <td>0.166667</td>\n",
              "      <td>0.166667</td>\n",
              "      <td>0.200000</td>\n",
              "      <td>0.166667</td>\n",
              "      <td>0.285714</td>\n",
              "      <td>0.250000</td>\n",
              "      <td>0.285714</td>\n",
              "      <td>0.200000</td>\n",
              "      <td>0.166667</td>\n",
              "      <td>0.166667</td>\n",
              "      <td>0.166667</td>\n",
              "      <td>0.222222</td>\n",
              "      <td>0.222222</td>\n",
              "      <td>0.333333</td>\n",
              "      <td>0.200000</td>\n",
              "      <td>0.285714</td>\n",
              "      <td>0.000000</td>\n",
              "    </tr>\n",
              "    <tr>\n",
              "      <th>max</th>\n",
              "      <td>1.000000</td>\n",
              "      <td>1.000000</td>\n",
              "      <td>1.000000</td>\n",
              "      <td>1.000000</td>\n",
              "      <td>1.000000</td>\n",
              "      <td>1.000000</td>\n",
              "      <td>1.000000</td>\n",
              "      <td>1.000000</td>\n",
              "      <td>1.000000</td>\n",
              "      <td>1.000000</td>\n",
              "      <td>1.000000</td>\n",
              "      <td>1.000000</td>\n",
              "      <td>1.000000</td>\n",
              "      <td>1.000000</td>\n",
              "      <td>1.000000</td>\n",
              "      <td>1.000000</td>\n",
              "      <td>1.000000</td>\n",
              "      <td>1.000000</td>\n",
              "      <td>1.000000</td>\n",
              "      <td>1.000000</td>\n",
              "      <td>1.000000</td>\n",
              "      <td>1.000000</td>\n",
              "      <td>1.000000</td>\n",
              "      <td>1.000000</td>\n",
              "      <td>1.000000</td>\n",
              "      <td>1.000000</td>\n",
              "      <td>1.000000</td>\n",
              "      <td>1.000000</td>\n",
              "      <td>1.000000</td>\n",
              "      <td>1.000000</td>\n",
              "      <td>1.000000</td>\n",
              "      <td>1.000000</td>\n",
              "      <td>1.000000</td>\n",
              "      <td>1.000000</td>\n",
              "      <td>1.000000</td>\n",
              "      <td>1.000000</td>\n",
              "      <td>1.000000</td>\n",
              "      <td>1.000000</td>\n",
              "      <td>1.000000</td>\n",
              "      <td>1.000000</td>\n",
              "      <td>1.000000</td>\n",
              "      <td>1.000000</td>\n",
              "      <td>1.000000</td>\n",
              "      <td>1.000000</td>\n",
              "      <td>1.000000</td>\n",
              "      <td>1.000000</td>\n",
              "      <td>1.000000</td>\n",
              "      <td>1.000000</td>\n",
              "      <td>1.000000</td>\n",
              "      <td>1.000000</td>\n",
              "      <td>1.000000</td>\n",
              "      <td>1.000000</td>\n",
              "      <td>1.000000</td>\n",
              "      <td>1.000000</td>\n",
              "      <td>1.000000</td>\n",
              "      <td>1.000000</td>\n",
              "      <td>1.000000</td>\n",
              "      <td>1.000000</td>\n",
              "      <td>1.000000</td>\n",
              "      <td>1.000000</td>\n",
              "    </tr>\n",
              "  </tbody>\n",
              "</table>\n",
              "</div>"
            ],
            "text/plain": [
              "                0            1   ...           58           59\n",
              "count  5000.000000  5000.000000  ...  5000.000000  5000.000000\n",
              "mean      0.092440     0.155022  ...     0.166943     0.063320\n",
              "std       0.146134     0.139723  ...     0.158489     0.131644\n",
              "min       0.000000     0.000000  ...     0.000000     0.000000\n",
              "25%       0.000000     0.000000  ...     0.000000     0.000000\n",
              "50%       0.000000     0.111111  ...     0.142857     0.000000\n",
              "75%       0.200000     0.222222  ...     0.285714     0.000000\n",
              "max       1.000000     1.000000  ...     1.000000     1.000000\n",
              "\n",
              "[8 rows x 60 columns]"
            ]
          },
          "metadata": {
            "tags": []
          },
          "execution_count": 247
        }
      ]
    },
    {
      "cell_type": "code",
      "metadata": {
        "colab": {
          "base_uri": "https://localhost:8080/",
          "height": 285
        },
        "id": "t_mEcI3qjKgs",
        "outputId": "d7883124-e29b-47d6-93dd-52d2140a7ce3"
      },
      "source": [
        "sns.heatmap(X.cov())"
      ],
      "execution_count": 248,
      "outputs": [
        {
          "output_type": "execute_result",
          "data": {
            "text/plain": [
              "<matplotlib.axes._subplots.AxesSubplot at 0x7fdcca3d81d0>"
            ]
          },
          "metadata": {
            "tags": []
          },
          "execution_count": 248
        },
        {
          "output_type": "display_data",
          "data": {
            "image/png": "[encoded data removed]",
            "text/plain": [
              "<Figure size 432x288 with 2 Axes>"
            ]
          },
          "metadata": {
            "tags": [],
            "needs_background": "light"
          }
        }
      ]
    },
    {
      "cell_type": "code",
      "metadata": {
        "colab": {
          "base_uri": "https://localhost:8080/",
          "height": 286
        },
        "id": "t301dQ2Ujkbj",
        "outputId": "489d578e-74fa-4a31-e860-96330259e8d5"
      },
      "source": [
        "sns.heatmap(X.corr())"
      ],
      "execution_count": 249,
      "outputs": [
        {
          "output_type": "execute_result",
          "data": {
            "text/plain": [
              "<matplotlib.axes._subplots.AxesSubplot at 0x7fdcce771cc0>"
            ]
          },
          "metadata": {
            "tags": []
          },
          "execution_count": 249
        },
        {
          "output_type": "display_data",
          "data": {
            "image/png": "[encoded data removed]",
            "text/plain": [
              "<Figure size 432x288 with 2 Axes>"
            ]
          },
          "metadata": {
            "tags": [],
            "needs_background": "light"
          }
        }
      ]
    },
    {
      "cell_type": "markdown",
      "metadata": {
        "id": "D68cZfKDvi5f"
      },
      "source": [
        "# eigen values and vectors"
      ]
    },
    {
      "cell_type": "code",
      "metadata": {
        "id": "M13fo6TKvmC2"
      },
      "source": [
        "#eigVa,eigVec=np.linalg.eig(X)"
      ],
      "execution_count": 250,
      "outputs": []
    },
    {
      "cell_type": "markdown",
      "metadata": {
        "id": "qEgCvN4zjstq"
      },
      "source": [
        "# DIMENSIONALITY REDUCTION"
      ]
    },
    {
      "cell_type": "markdown",
      "metadata": {
        "id": "XcdIuy1Ljyjt"
      },
      "source": [
        "## PROJECTION APPROCH\r\n",
        "\r\n",
        "\r\n",
        "*   PCA\r\n",
        "*   linear PCA\r\n",
        "*   kernal PCA\r\n",
        "\r\n",
        "\r\n",
        "\r\n"
      ]
    },
    {
      "cell_type": "code",
      "metadata": {
        "id": "Sqj-htCej-jj"
      },
      "source": [
        "from sklearn.decomposition import  PCA\r\n",
        "pca=PCA()\r\n",
        "plt_pca=pca.fit_transform(X)"
      ],
      "execution_count": 251,
      "outputs": []
    },
    {
      "cell_type": "code",
      "metadata": {
        "colab": {
          "base_uri": "https://localhost:8080/"
        },
        "id": "6OUym6i_mM5G",
        "outputId": "0a33a646-bfed-4cf7-e88e-7ff4d8e62947"
      },
      "source": [
        "plt_pca"
      ],
      "execution_count": 252,
      "outputs": [
        {
          "output_type": "execute_result",
          "data": {
            "text/plain": [
              "array([[ 0.26186478, -0.2376743 , -0.02696919, ...,  0.1681396 ,\n",
              "        -0.11296733, -0.00099158],\n",
              "       [ 0.35194509,  0.04183471,  0.00815008, ..., -0.06785069,\n",
              "        -0.02325594,  0.41882002],\n",
              "       [-0.3193191 , -0.1220805 , -0.11737415, ..., -0.08880902,\n",
              "        -0.0098324 , -0.00258393],\n",
              "       ...,\n",
              "       [-0.09531425,  0.12034864, -0.14766746, ..., -0.02542468,\n",
              "         0.00973968, -0.02272067],\n",
              "       [-0.26718964, -0.18576724,  0.27395171, ...,  0.03312115,\n",
              "         0.13853892,  0.00448268],\n",
              "       [-0.39039012, -0.08489334, -0.09096368, ...,  0.11190402,\n",
              "        -0.0149089 , -0.07185226]])"
            ]
          },
          "metadata": {
            "tags": []
          },
          "execution_count": 252
        }
      ]
    },
    {
      "cell_type": "code",
      "metadata": {
        "colab": {
          "base_uri": "https://localhost:8080/",
          "height": 265
        },
        "id": "dbySQpJMmBCi",
        "outputId": "03a198c4-faef-4f4e-bfaa-cba3e7950ce6"
      },
      "source": [
        "plt.scatter(plt_pca[:,0],plt_pca[:,1],c=y)\r\n",
        "plt.scatter(plt_pca[:,1],plt_pca[:,2],c=y)\r\n",
        "plt.show()"
      ],
      "execution_count": 253,
      "outputs": [
        {
          "output_type": "display_data",
          "data": {
            "image/png": "[encoded data removed]",
            "text/plain": [
              "<Figure size 432x288 with 1 Axes>"
            ]
          },
          "metadata": {
            "tags": [],
            "needs_background": "light"
          }
        }
      ]
    },
    {
      "cell_type": "code",
      "metadata": {
        "colab": {
          "base_uri": "https://localhost:8080/",
          "height": 285
        },
        "id": "3GVP53EGqYM2",
        "outputId": "01fa7e49-f835-4a1c-8cfd-8c97a36c2e4c"
      },
      "source": [
        "pd.DataFrame(pca.explained_variance_ratio_).plot.bar()"
      ],
      "execution_count": 254,
      "outputs": [
        {
          "output_type": "execute_result",
          "data": {
            "text/plain": [
              "<matplotlib.axes._subplots.AxesSubplot at 0x7fdcd1e96d68>"
            ]
          },
          "metadata": {
            "tags": []
          },
          "execution_count": 254
        },
        {
          "output_type": "display_data",
          "data": {
            "image/png": "[encoded data removed]",
            "text/plain": [
              "<Figure size 432x288 with 1 Axes>"
            ]
          },
          "metadata": {
            "tags": [],
            "needs_background": "light"
          }
        }
      ]
    },
    {
      "cell_type": "code",
      "metadata": {
        "colab": {
          "base_uri": "https://localhost:8080/"
        },
        "id": "b1PIXI48q1XP",
        "outputId": "dbe92d1a-3e38-4443-f0a1-1982bd14cc4d"
      },
      "source": [
        "var=np.cumsum(np.round(pca.explained_variance_ratio_, decimals=3)*100)\r\n",
        "var"
      ],
      "execution_count": 255,
      "outputs": [
        {
          "output_type": "execute_result",
          "data": {
            "text/plain": [
              "array([  7.4,  10.5,  13. ,  15.4,  17.7,  20. ,  22.3,  24.5,  26.7,\n",
              "        28.9,  31. ,  33.1,  35.1,  37.1,  39.1,  41. ,  42.9,  44.8,\n",
              "        46.7,  48.6,  50.5,  52.3,  54.1,  55.9,  57.6,  59.3,  60.9,\n",
              "        62.5,  64.1,  65.7,  67.2,  68.7,  70.2,  71.6,  73. ,  74.4,\n",
              "        75.8,  77.2,  78.5,  79.8,  81.1,  82.4,  83.6,  84.8,  86. ,\n",
              "        87.2,  88.3,  89.4,  90.5,  91.5,  92.5,  93.5,  94.5,  95.4,\n",
              "        96.3,  97.2,  98. ,  98.8,  99.6, 100.3])"
            ]
          },
          "metadata": {
            "tags": []
          },
          "execution_count": 255
        }
      ]
    },
    {
      "cell_type": "code",
      "metadata": {
        "id": "svVdUzWBtc99"
      },
      "source": [
        "from sklearn.decomposition import  PCA\r\n",
        "pca=PCA(n_components=2)\r\n",
        "plt_pca=pca.fit_transform(X)"
      ],
      "execution_count": 256,
      "outputs": []
    },
    {
      "cell_type": "code",
      "metadata": {
        "colab": {
          "base_uri": "https://localhost:8080/",
          "height": 265
        },
        "id": "uCSIOBbrtqsc",
        "outputId": "1a91c6da-29f1-4671-c36c-d8d1e7560ee1"
      },
      "source": [
        "plt.scatter(plt_pca[:,0],plt_pca[:,1],c=y)\r\n",
        "plt.show()"
      ],
      "execution_count": 257,
      "outputs": [
        {
          "output_type": "display_data",
          "data": {
            "image/png": "[encoded data removed]",
            "text/plain": [
              "<Figure size 432x288 with 1 Axes>"
            ]
          },
          "metadata": {
            "tags": [],
            "needs_background": "light"
          }
        }
      ]
    },
    {
      "cell_type": "markdown",
      "metadata": {
        "id": "xXeoeOFety-h"
      },
      "source": [
        "INCRIMENTAL PCA"
      ]
    },
    {
      "cell_type": "code",
      "metadata": {
        "id": "dS1CfDpft1oN"
      },
      "source": [
        "from sklearn.decomposition import  IncrementalPCA\r\n",
        "Ipca=IncrementalPCA(n_components=2)\r\n",
        "plt_pca=Ipca.fit_transform(X)"
      ],
      "execution_count": 258,
      "outputs": []
    },
    {
      "cell_type": "code",
      "metadata": {
        "colab": {
          "base_uri": "https://localhost:8080/",
          "height": 266
        },
        "id": "yHcDZmtHuBb4",
        "outputId": "55cf6b09-84ec-483f-8414-28af415b7964"
      },
      "source": [
        "plt.scatter(plt_pca[:,0],plt_pca[:,1],c=y,cmap='winter')\r\n",
        "plt.show()"
      ],
      "execution_count": 259,
      "outputs": [
        {
          "output_type": "display_data",
          "data": {
            "image/png": "[encoded data removed]",
            "text/plain": [
              "<Figure size 432x288 with 1 Axes>"
            ]
          },
          "metadata": {
            "tags": [],
            "needs_background": "light"
          }
        }
      ]
    },
    {
      "cell_type": "markdown",
      "metadata": {
        "id": "T-MFWGhzuJI_"
      },
      "source": [
        "**Kernal PCA**"
      ]
    },
    {
      "cell_type": "code",
      "metadata": {
        "id": "n14M4e8FuIuJ"
      },
      "source": [
        "from sklearn.decomposition import  KernelPCA\r\n",
        "Kpca=KernelPCA(n_components=2)\r\n",
        "plt_pca=Kpca.fit_transform(X)"
      ],
      "execution_count": 260,
      "outputs": []
    },
    {
      "cell_type": "code",
      "metadata": {
        "colab": {
          "base_uri": "https://localhost:8080/",
          "height": 265
        },
        "id": "DfjzFKEDuYN2",
        "outputId": "c135765f-b69e-4193-e65c-3f9afe562489"
      },
      "source": [
        "plt.scatter(plt_pca[:,0],plt_pca[:,1],c=y,cmap='cool')\r\n",
        "plt.show()"
      ],
      "execution_count": 261,
      "outputs": [
        {
          "output_type": "display_data",
          "data": {
            "image/png": "[encoded data removed]",
            "text/plain": [
              "<Figure size 432x288 with 1 Axes>"
            ]
          },
          "metadata": {
            "tags": [],
            "needs_background": "light"
          }
        }
      ]
    },
    {
      "cell_type": "markdown",
      "metadata": {
        "id": "W0zE8jbRj3NU"
      },
      "source": [
        "## MANIFOLD LEARNING\r\n",
        "\r\n",
        "\r\n",
        "*   T-SNE\r\n",
        "\r\n",
        "\r\n"
      ]
    },
    {
      "cell_type": "code",
      "metadata": {
        "id": "QvQwei4-koj7"
      },
      "source": [
        "from sklearn.manifold import TSNE\r\n",
        "tsne=TSNE(n_components=2)"
      ],
      "execution_count": 262,
      "outputs": []
    },
    {
      "cell_type": "code",
      "metadata": {
        "id": "um9LV5zou6TU"
      },
      "source": [
        "plt_tsne = tsne.fit_transform(X)"
      ],
      "execution_count": 263,
      "outputs": []
    },
    {
      "cell_type": "code",
      "metadata": {
        "colab": {
          "base_uri": "https://localhost:8080/",
          "height": 265
        },
        "id": "iCQmSiPW2QvH",
        "outputId": "036189c0-0259-4baa-cc7b-035495581957"
      },
      "source": [
        "plt.scatter(plt_tsne[:,0],plt_tsne[:,1],c=y,cmap='winter')\r\n",
        "plt.show()"
      ],
      "execution_count": 264,
      "outputs": [
        {
          "output_type": "display_data",
          "data": {
            "image/png": "[encoded data removed]",
            "text/plain": [
              "<Figure size 432x288 with 1 Axes>"
            ]
          },
          "metadata": {
            "tags": [],
            "needs_background": "light"
          }
        }
      ]
    },
    {
      "cell_type": "markdown",
      "metadata": {
        "id": "If2rHWwwj_ny"
      },
      "source": [
        "# CLUSTRING"
      ]
    },
    {
      "cell_type": "markdown",
      "metadata": {
        "id": "nHa9_E29kETT"
      },
      "source": [
        "## KMEANS"
      ]
    },
    {
      "cell_type": "code",
      "metadata": {
        "id": "MvZyEkS_wwyA"
      },
      "source": [
        "from sklearn.cluster import KMeans\r\n",
        "kmeans=KMeans(n_clusters=2)\r\n",
        "plt_kmeans=kmeans.fit_transform(X)"
      ],
      "execution_count": 265,
      "outputs": []
    },
    {
      "cell_type": "code",
      "metadata": {
        "colab": {
          "base_uri": "https://localhost:8080/"
        },
        "id": "2Y425xqSy64F",
        "outputId": "7b8c56ce-cf3e-4ce2-bafa-75bae81eeed9"
      },
      "source": [
        "kmeans.cluster_centers_[0]"
      ],
      "execution_count": 266,
      "outputs": [
        {
          "output_type": "execute_result",
          "data": {
            "text/plain": [
              "array([0.17246377, 0.09440419, 0.13446055, 0.13234702, 0.13677536,\n",
              "       0.1692029 , 0.16533816, 0.1647343 , 0.11671843, 0.12284334,\n",
              "       0.16702899, 0.10514795, 0.14261272, 0.11663216, 0.10160024,\n",
              "       0.16364734, 0.13768116, 0.1361715 , 0.13838567, 0.11249137,\n",
              "       0.16884058, 0.20878623, 0.13315217, 0.1439211 , 0.14200886,\n",
              "       0.11896135, 0.10461957, 0.14009662, 0.10575181, 0.16618357,\n",
              "       0.14724235, 0.13878824, 0.13969404, 0.1589372 , 0.12267081,\n",
              "       0.21180556, 0.11827122, 0.16497585, 0.16992754, 0.14080113,\n",
              "       0.14029791, 0.17729469, 0.1705314 , 0.13576892, 0.14623591,\n",
              "       0.17004831, 0.13425926, 0.11758109, 0.10529891, 0.12146308,\n",
              "       0.17487923, 0.14623591, 0.13758052, 0.1386876 , 0.09165325,\n",
              "       0.09178744, 0.13989533, 0.16243961, 0.12068668, 0.16062802])"
            ]
          },
          "metadata": {
            "tags": []
          },
          "execution_count": 266
        }
      ]
    },
    {
      "cell_type": "code",
      "metadata": {
        "colab": {
          "base_uri": "https://localhost:8080/",
          "height": 282
        },
        "id": "fY8r2_0CzKZN",
        "outputId": "60d57ea9-b40d-4094-ca2d-0eee0b4c6808"
      },
      "source": [
        "plt.scatter(plt_kmeans[:,0],plt_kmeans[:,1],c=y,cmap='spring')"
      ],
      "execution_count": 267,
      "outputs": [
        {
          "output_type": "execute_result",
          "data": {
            "text/plain": [
              "<matplotlib.collections.PathCollection at 0x7fdcca0ec978>"
            ]
          },
          "metadata": {
            "tags": []
          },
          "execution_count": 267
        },
        {
          "output_type": "display_data",
          "data": {
            "image/png": "[encoded data removed]",
            "text/plain": [
              "<Figure size 432x288 with 1 Axes>"
            ]
          },
          "metadata": {
            "tags": [],
            "needs_background": "light"
          }
        }
      ]
    },
    {
      "cell_type": "code",
      "metadata": {
        "colab": {
          "base_uri": "https://localhost:8080/"
        },
        "id": "MgzORua6CPFP",
        "outputId": "8f469ff3-c58f-468e-921b-33eb3a703223"
      },
      "source": [
        "from sklearn.metrics import silhouette_score \r\n",
        "no_of_clusters = range(2,10-1)\r\n",
        "for n_clusters in no_of_clusters: \r\n",
        "    cluster = KMeans(n_clusters = n_clusters) \r\n",
        "    cluster_labels = cluster.fit_predict(X) \r\n",
        "  \r\n",
        "    # The silhouette_score gives the  \r\n",
        "    # average value for all the samples. \r\n",
        "    silhouette_avg = silhouette_score(X, cluster_labels) \r\n",
        "  \r\n",
        "    print(\"For no of clusters =\", n_clusters, \r\n",
        "          \" The average silhouette_score is :\", silhouette_avg) "
      ],
      "execution_count": null,
      "outputs": [
        {
          "output_type": "stream",
          "text": [
            "For no of clusters = 2  The average silhouette_score is : 0.07747453525646954\n",
            "For no of clusters = 3  The average silhouette_score is : 0.022680612084652624\n",
            "For no of clusters = 4  The average silhouette_score is : 0.019907680887891865\n",
            "For no of clusters = 5  The average silhouette_score is : 0.019681026749431556\n",
            "For no of clusters = 6  The average silhouette_score is : 0.018664609490379826\n",
            "For no of clusters = 7  The average silhouette_score is : 0.016890014506499795\n",
            "For no of clusters = 8  The average silhouette_score is : 0.01781650170300932\n"
          ],
          "name": "stdout"
        }
      ]
    },
    {
      "cell_type": "code",
      "metadata": {
        "colab": {
          "base_uri": "https://localhost:8080/"
        },
        "id": "wSaWGXnXCpNL",
        "outputId": "12347aa9-9dd6-4b3e-f7d2-fd9236e17d42"
      },
      "source": [
        "from sklearn.metrics import davies_bouldin_score  \r\n",
        "no_of_clusters = range(2,10-1)\r\n",
        "for n_clusters in no_of_clusters: \r\n",
        "    cluster = KMeans(n_clusters = n_clusters) \r\n",
        "    cluster_labels = cluster.fit_predict(X) \r\n",
        "  \r\n",
        "    # The silhouette_score gives the  \r\n",
        "    # average value for all the samples. \r\n",
        "    davies_bouldin_score_ = davies_bouldin_score(X, cluster_labels) \r\n",
        "  \r\n",
        "    print(\"For no of clusters =\", n_clusters, \r\n",
        "          \" The average silhouette_score is :\", davies_bouldin_score_)"
      ],
      "execution_count": null,
      "outputs": [
        {
          "output_type": "stream",
          "text": [
            "For no of clusters = 2  The average silhouette_score is : 3.6821241369742195\n",
            "For no of clusters = 3  The average silhouette_score is : 5.483307657189662\n",
            "For no of clusters = 4  The average silhouette_score is : 5.337923723077335\n",
            "For no of clusters = 5  The average silhouette_score is : 5.086683027892279\n",
            "For no of clusters = 6  The average silhouette_score is : 5.627007328666147\n",
            "For no of clusters = 7  The average silhouette_score is : 5.497320065532029\n",
            "For no of clusters = 8  The average silhouette_score is : 5.51583672037343\n"
          ],
          "name": "stdout"
        }
      ]
    },
    {
      "cell_type": "code",
      "metadata": {
        "colab": {
          "base_uri": "https://localhost:8080/"
        },
        "id": "tc2nQ29SDDgj",
        "outputId": "e45a227e-f335-4e09-da5b-d06df3090c98"
      },
      "source": [
        "from sklearn.metrics import calinski_harabasz_score  \r\n",
        "no_of_clusters = range(2,10-1)\r\n",
        "for n_clusters in no_of_clusters: \r\n",
        "    cluster = KMeans(n_clusters = n_clusters) \r\n",
        "    cluster_labels = cluster.fit_predict(X) \r\n",
        "  \r\n",
        "    # The silhouette_score gives the  \r\n",
        "    # average value for all the samples. \r\n",
        "    calinski_harabasz_score_ = calinski_harabasz_score(X, cluster_labels) \r\n",
        "  \r\n",
        "    print(\"For no of clusters =\", n_clusters, \r\n",
        "          \" The average silhouette_score is :\", calinski_harabasz_score_)"
      ],
      "execution_count": null,
      "outputs": [
        {
          "output_type": "stream",
          "text": [
            "For no of clusters = 2  The average silhouette_score is : 329.6908627870445\n",
            "For no of clusters = 3  The average silhouette_score is : 204.84745713606821\n",
            "For no of clusters = 4  The average silhouette_score is : 154.878231676702\n",
            "For no of clusters = 5  The average silhouette_score is : 129.90593977244063\n",
            "For no of clusters = 6  The average silhouette_score is : 113.02868052618557\n",
            "For no of clusters = 7  The average silhouette_score is : 100.69100521632332\n",
            "For no of clusters = 8  The average silhouette_score is : 92.41280962708528\n"
          ],
          "name": "stdout"
        }
      ]
    },
    {
      "cell_type": "markdown",
      "metadata": {
        "id": "BS73ao0JkG6l"
      },
      "source": [
        "## KMODES"
      ]
    },
    {
      "cell_type": "code",
      "metadata": {
        "colab": {
          "base_uri": "https://localhost:8080/"
        },
        "id": "Xcp2Z4Vz4VEp",
        "outputId": "81bf5dc5-9af8-4b72-c709-bb7095bae80e"
      },
      "source": [
        "!pip install kmodes"
      ],
      "execution_count": 268,
      "outputs": [
        {
          "output_type": "stream",
          "text": [
            "Requirement already satisfied: kmodes in /usr/local/lib/python3.6/dist-packages (0.11.0)\n",
            "Requirement already satisfied: scipy>=0.13.3 in /usr/local/lib/python3.6/dist-packages (from kmodes) (1.4.1)\n",
            "Requirement already satisfied: joblib>=0.11 in /usr/local/lib/python3.6/dist-packages (from kmodes) (1.0.0)\n",
            "Requirement already satisfied: numpy>=1.10.4 in /usr/local/lib/python3.6/dist-packages (from kmodes) (1.19.5)\n",
            "Requirement already satisfied: scikit-learn>=0.22.0 in /usr/local/lib/python3.6/dist-packages (from kmodes) (0.22.2.post1)\n"
          ],
          "name": "stdout"
        }
      ]
    },
    {
      "cell_type": "code",
      "metadata": {
        "id": "9QHZ9UxV0ssr"
      },
      "source": [
        "from kmodes.kmodes import KModes\r\n",
        "kmodes=KModes(n_clusters=2)\r\n",
        "pred= kmodes.fit_predict(X)"
      ],
      "execution_count": 271,
      "outputs": []
    },
    {
      "cell_type": "code",
      "metadata": {
        "colab": {
          "base_uri": "https://localhost:8080/"
        },
        "id": "FL8uCm8Y4uxa",
        "outputId": "604fc383-093f-4658-8218-2c1201906b72"
      },
      "source": [
        "from sklearn.metrics import confusion_matrix,classification_report\r\n",
        "print(confusion_matrix(pred,y))\r\n",
        "print(classification_report(pred,y))"
      ],
      "execution_count": 270,
      "outputs": [
        {
          "output_type": "stream",
          "text": [
            "[[ 811 2486]\n",
            " [ 865  838]]\n",
            "              precision    recall  f1-score   support\n",
            "\n",
            "           0       0.48      0.25      0.33      3297\n",
            "           1       0.25      0.49      0.33      1703\n",
            "\n",
            "    accuracy                           0.33      5000\n",
            "   macro avg       0.37      0.37      0.33      5000\n",
            "weighted avg       0.40      0.33      0.33      5000\n",
            "\n"
          ],
          "name": "stdout"
        }
      ]
    },
    {
      "cell_type": "code",
      "metadata": {
        "colab": {
          "base_uri": "https://localhost:8080/"
        },
        "id": "bY-FJ-CcDgYE",
        "outputId": "26079f4d-ec7e-4b31-902f-c5f717791a82"
      },
      "source": [
        "from sklearn.metrics import silhouette_score \r\n",
        "no_of_clusters = range(2,10-1)\r\n",
        "for n_clusters in no_of_clusters: \r\n",
        "    cluster = KModes(n_clusters = n_clusters) \r\n",
        "    cluster_labels = cluster.fit_predict(X) \r\n",
        "  \r\n",
        "    # The silhouette_score gives the  \r\n",
        "    # average value for all the samples. \r\n",
        "    silhouette_avg = silhouette_score(X, cluster_labels) \r\n",
        "  \r\n",
        "    print(\"For no of clusters =\", n_clusters, \r\n",
        "          \" The average silhouette_score is :\", silhouette_avg) "
      ],
      "execution_count": 282,
      "outputs": [
        {
          "output_type": "stream",
          "text": [
            "For no of clusters = 2  The average silhouette_score is : 0.014407855498001778\n",
            "For no of clusters = 3  The average silhouette_score is : 0.0018478915559007171\n",
            "For no of clusters = 4  The average silhouette_score is : -0.00011438478516385358\n",
            "For no of clusters = 5  The average silhouette_score is : -0.004561308933956102\n",
            "For no of clusters = 6  The average silhouette_score is : -0.006850303822235489\n",
            "For no of clusters = 7  The average silhouette_score is : -0.007625201399189871\n",
            "For no of clusters = 8  The average silhouette_score is : -0.008021119253693209\n"
          ],
          "name": "stdout"
        }
      ]
    },
    {
      "cell_type": "code",
      "metadata": {
        "colab": {
          "base_uri": "https://localhost:8080/"
        },
        "id": "Rb-WerWvDgYG",
        "outputId": "dde01c8c-4584-49ba-8216-af5ed8e29dd0"
      },
      "source": [
        "from sklearn.metrics import davies_bouldin_score  \r\n",
        "no_of_clusters = range(2,10-1)\r\n",
        "for n_clusters in no_of_clusters: \r\n",
        "    cluster = KModes(n_clusters = n_clusters) \r\n",
        "    cluster_labels = cluster.fit_predict(X) \r\n",
        "  \r\n",
        "    # The silhouette_score gives the  \r\n",
        "    # average value for all the samples. \r\n",
        "    davies_bouldin_score_ = davies_bouldin_score(X, cluster_labels) \r\n",
        "  \r\n",
        "    print(\"For no of clusters =\", n_clusters, \r\n",
        "          \" The average silhouette_score is :\", davies_bouldin_score_)"
      ],
      "execution_count": 283,
      "outputs": [
        {
          "output_type": "stream",
          "text": [
            "For no of clusters = 2  The average silhouette_score is : 10.220138586757745\n",
            "For no of clusters = 3  The average silhouette_score is : 13.253408893410858\n",
            "For no of clusters = 4  The average silhouette_score is : 12.952868605614054\n",
            "For no of clusters = 5  The average silhouette_score is : 13.674383662551174\n",
            "For no of clusters = 6  The average silhouette_score is : 13.25746819552297\n",
            "For no of clusters = 7  The average silhouette_score is : 13.803802021116827\n",
            "For no of clusters = 8  The average silhouette_score is : 13.079350743744794\n"
          ],
          "name": "stdout"
        }
      ]
    },
    {
      "cell_type": "code",
      "metadata": {
        "colab": {
          "base_uri": "https://localhost:8080/"
        },
        "id": "PktKQlZHDgYG",
        "outputId": "a13081be-7851-4c00-ad7e-8cc541330309"
      },
      "source": [
        "from sklearn.metrics import calinski_harabasz_score  \r\n",
        "no_of_clusters = range(2,10-1)\r\n",
        "for n_clusters in no_of_clusters: \r\n",
        "    cluster = KModes(n_clusters = n_clusters) \r\n",
        "    cluster_labels = cluster.fit_predict(X) \r\n",
        "  \r\n",
        "    # The silhouette_score gives the  \r\n",
        "    # average value for all the samples. \r\n",
        "    calinski_harabasz_score_ = calinski_harabasz_score(X, cluster_labels) \r\n",
        "  \r\n",
        "    print(\"For no of clusters =\", n_clusters, \r\n",
        "          \" The average silhouette_score is :\", calinski_harabasz_score_)"
      ],
      "execution_count": 284,
      "outputs": [
        {
          "output_type": "stream",
          "text": [
            "For no of clusters = 2  The average silhouette_score is : 42.7153379210366\n",
            "For no of clusters = 3  The average silhouette_score is : 24.112291713793518\n",
            "For no of clusters = 4  The average silhouette_score is : 23.83768546417449\n",
            "For no of clusters = 5  The average silhouette_score is : 16.661014204159123\n",
            "For no of clusters = 6  The average silhouette_score is : 15.947294534502955\n",
            "For no of clusters = 7  The average silhouette_score is : 15.287169700349502\n",
            "For no of clusters = 8  The average silhouette_score is : 14.38712317967436\n"
          ],
          "name": "stdout"
        }
      ]
    },
    {
      "cell_type": "markdown",
      "metadata": {
        "id": "CoNVzY_MkJBk"
      },
      "source": [
        "## HIRARICAL CLUSTRING"
      ]
    },
    {
      "cell_type": "code",
      "metadata": {
        "colab": {
          "base_uri": "https://localhost:8080/",
          "height": 282
        },
        "id": "iaNZdAzPAAKe",
        "outputId": "41a1c43a-cc04-4515-de42-c5dfa3c3bd3e"
      },
      "source": [
        "from scipy.cluster.hierarchy import linkage,dendrogram\r\n",
        "merg = linkage(X, method = \"ward\")\r\n",
        "dendrogram(merg, leaf_rotation = 90)\r\n",
        "plt.xlabel(\"data points\")\r\n",
        "plt.ylabel(\"euclidean distance\")\r\n",
        "plt.show()"
      ],
      "execution_count": 272,
      "outputs": [
        {
          "output_type": "display_data",
          "data": {
            "image/png": "[encoded data removed]",
            "text/plain": [
              "<Figure size 432x288 with 1 Axes>"
            ]
          },
          "metadata": {
            "tags": [],
            "needs_background": "light"
          }
        }
      ]
    },
    {
      "cell_type": "code",
      "metadata": {
        "id": "b-8krSheAONj"
      },
      "source": [
        "from sklearn.cluster import AgglomerativeClustering\r\n",
        "hc = AgglomerativeClustering(n_clusters = 2, affinity = \"euclidean\", linkage = \"ward\")\r\n",
        "pred = hc.fit_predict(X)"
      ],
      "execution_count": 273,
      "outputs": []
    },
    {
      "cell_type": "code",
      "metadata": {
        "colab": {
          "base_uri": "https://localhost:8080/"
        },
        "id": "Nf5WftDVAS-U",
        "outputId": "bb583cf9-9901-409b-f5a3-ef022f519fce"
      },
      "source": [
        "from sklearn.metrics import confusion_matrix,classification_report\r\n",
        "print(confusion_matrix(pred,y))\r\n",
        "print(classification_report(pred,y))"
      ],
      "execution_count": 274,
      "outputs": [
        {
          "output_type": "stream",
          "text": [
            "[[ 194 3242]\n",
            " [1482   82]]\n",
            "              precision    recall  f1-score   support\n",
            "\n",
            "           0       0.12      0.06      0.08      3436\n",
            "           1       0.02      0.05      0.03      1564\n",
            "\n",
            "    accuracy                           0.06      5000\n",
            "   macro avg       0.07      0.05      0.05      5000\n",
            "weighted avg       0.09      0.06      0.06      5000\n",
            "\n"
          ],
          "name": "stdout"
        }
      ]
    },
    {
      "cell_type": "code",
      "metadata": {
        "colab": {
          "base_uri": "https://localhost:8080/"
        },
        "id": "U7NsKWeND-bb",
        "outputId": "e77746d0-a98d-41d6-f3f7-d352b4663070"
      },
      "source": [
        "from sklearn.metrics import silhouette_score \r\n",
        "no_of_clusters = range(2,10-1)\r\n",
        "for n_clusters in no_of_clusters: \r\n",
        "    cluster = AgglomerativeClustering(n_clusters = n_clusters) \r\n",
        "    cluster_labels = cluster.fit_predict(X) \r\n",
        "  \r\n",
        "    # The silhouette_score gives the  \r\n",
        "    # average value for all the samples. \r\n",
        "    silhouette_avg = silhouette_score(X, cluster_labels) \r\n",
        "  \r\n",
        "    print(\"For no of clusters =\", n_clusters, \r\n",
        "          \" The average silhouette_score is :\", silhouette_avg) "
      ],
      "execution_count": 285,
      "outputs": [
        {
          "output_type": "stream",
          "text": [
            "For no of clusters = 2  The average silhouette_score is : 0.07228335340664212\n",
            "For no of clusters = 3  The average silhouette_score is : 0.018958483569333526\n",
            "For no of clusters = 4  The average silhouette_score is : 0.01177475587470425\n",
            "For no of clusters = 5  The average silhouette_score is : 0.005851566965768208\n",
            "For no of clusters = 6  The average silhouette_score is : 0.003483689386412969\n",
            "For no of clusters = 7  The average silhouette_score is : 0.0017677679555331651\n",
            "For no of clusters = 8  The average silhouette_score is : 0.0006931606549361955\n"
          ],
          "name": "stdout"
        }
      ]
    },
    {
      "cell_type": "code",
      "metadata": {
        "colab": {
          "base_uri": "https://localhost:8080/"
        },
        "id": "G05I73SbD-bc",
        "outputId": "dd789a98-8136-46c7-bf1e-fcd0bdfa1a41"
      },
      "source": [
        "from sklearn.metrics import davies_bouldin_score  \r\n",
        "no_of_clusters = range(2,10-1)\r\n",
        "for n_clusters in no_of_clusters: \r\n",
        "    cluster = AgglomerativeClustering(n_clusters = n_clusters) \r\n",
        "    cluster_labels = cluster.fit_predict(X) \r\n",
        "  \r\n",
        "    # The silhouette_score gives the  \r\n",
        "    # average value for all the samples. \r\n",
        "    davies_bouldin_score_ = davies_bouldin_score(X, cluster_labels) \r\n",
        "  \r\n",
        "    print(\"For no of clusters =\", n_clusters, \r\n",
        "          \" The average silhouette_score is :\", davies_bouldin_score_)"
      ],
      "execution_count": 286,
      "outputs": [
        {
          "output_type": "stream",
          "text": [
            "For no of clusters = 2  The average silhouette_score is : 3.890931770982736\n",
            "For no of clusters = 3  The average silhouette_score is : 7.1129868694642555\n",
            "For no of clusters = 4  The average silhouette_score is : 5.9982933004063606\n",
            "For no of clusters = 5  The average silhouette_score is : 7.504405644720224\n",
            "For no of clusters = 6  The average silhouette_score is : 7.626555954526279\n",
            "For no of clusters = 7  The average silhouette_score is : 7.513334954809941\n",
            "For no of clusters = 8  The average silhouette_score is : 7.326185775462302\n"
          ],
          "name": "stdout"
        }
      ]
    },
    {
      "cell_type": "code",
      "metadata": {
        "colab": {
          "base_uri": "https://localhost:8080/"
        },
        "id": "TRhjSMGmD-be",
        "outputId": "50d9ffa5-beee-4d30-a726-4c9be2f3ebea"
      },
      "source": [
        "from sklearn.metrics import calinski_harabasz_score  \r\n",
        "no_of_clusters = range(2,10-1)\r\n",
        "for n_clusters in no_of_clusters: \r\n",
        "    cluster = AgglomerativeClustering(n_clusters = n_clusters) \r\n",
        "    cluster_labels = cluster.fit_predict(X) \r\n",
        "  \r\n",
        "    # The silhouette_score gives the  \r\n",
        "    # average value for all the samples. \r\n",
        "    calinski_harabasz_score_ = calinski_harabasz_score(X, cluster_labels) \r\n",
        "  \r\n",
        "    print(\"For no of clusters =\", n_clusters, \r\n",
        "          \" The average silhouette_score is :\", calinski_harabasz_score_)"
      ],
      "execution_count": 287,
      "outputs": [
        {
          "output_type": "stream",
          "text": [
            "For no of clusters = 2  The average silhouette_score is : 287.190623041074\n",
            "For no of clusters = 3  The average silhouette_score is : 157.4538506252303\n",
            "For no of clusters = 4  The average silhouette_score is : 113.77389355860105\n",
            "For no of clusters = 5  The average silhouette_score is : 90.74541178955053\n",
            "For no of clusters = 6  The average silhouette_score is : 76.83608401141235\n",
            "For no of clusters = 7  The average silhouette_score is : 67.42875953260713\n",
            "For no of clusters = 8  The average silhouette_score is : 60.62722766878946\n"
          ],
          "name": "stdout"
        }
      ]
    }
  ]
}